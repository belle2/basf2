{
 "cells": [
  {
   "cell_type": "code",
   "execution_count": null,
   "metadata": {
    "scrolled": false
   },
   "outputs": [],
   "source": [
    "%matplotlib inline\n",
    "import numpy as np\n",
    "import matplotlib.pyplot as plt\n",
    "import seaborn as sns\n",
    "import uproot"
   ]
  },
  {
   "cell_type": "code",
   "execution_count": null,
   "metadata": {},
   "outputs": [],
   "source": [
    "input_file = 'truth_charged.root'"
   ]
  },
  {
   "cell_type": "code",
   "execution_count": null,
   "metadata": {},
   "outputs": [],
   "source": [
    "#load the ntuples as preliminary uncut dataframes\n",
    "uncut_pion = uproot.open(input_file)['pion'].arrays(library='pd')\n",
    "uncut_kaon = uproot.open(input_file)['kaon'].arrays(library='pd')\n",
    "uncut_proton = uproot.open(input_file)['proton'].arrays(library='pd')\n",
    "uncut_electron = uproot.open(input_file)['electron'].arrays(library='pd')\n",
    "uncut_muon = uproot.open(input_file)['muon'].arrays(library='pd')"
   ]
  },
  {
   "cell_type": "code",
   "execution_count": null,
   "metadata": {},
   "outputs": [],
   "source": [
    "#apply a first momentum selection\n",
    "pion = uncut_pion[(uncut_pion.p<4)&(uncut_pion.p>1)]\n",
    "kaon = uncut_kaon[(uncut_kaon.p<4)&(uncut_kaon.p>1)]\n",
    "proton = uncut_proton[(uncut_proton.p<4)&(uncut_proton.p>1)]\n",
    "electron = uncut_electron[(uncut_electron.p<4)&(uncut_electron.p>1)]\n",
    "muon = uncut_muon[(uncut_muon.p<4)&(uncut_muon.p>1)]"
   ]
  },
  {
   "cell_type": "markdown",
   "metadata": {},
   "source": [
    "## Copy and paste these values into analysis/scripts/stdCharged.py"
   ]
  },
  {
   "cell_type": "code",
   "execution_count": null,
   "metadata": {},
   "outputs": [],
   "source": [
    "#find 5th, 10th and 15th percentiles, corresponding to 95%, 90% and 85% efficiency cut points\n",
    "digits=4\n",
    "[[round(np.percentile(pion[(abs(pion.mcPDG)==211)].pionID, 5),digits),\n",
    "  round(np.percentile(pion[(abs(pion.mcPDG)==211)].pionID, 10),digits),\n",
    "  round(np.percentile(pion[(abs(pion.mcPDG)==211)].pionID, 15),digits)],\n",
    " [round(np.percentile(kaon[(abs(kaon.mcPDG)==321)].kaonID, 5),digits),\n",
    "  round(np.percentile(kaon[(abs(kaon.mcPDG)==321)].kaonID, 10),digits),\n",
    "  round(np.percentile(kaon[(abs(kaon.mcPDG)==321)].kaonID, 15),digits)],\n",
    " [round(np.percentile(proton[(abs(proton.mcPDG)==2212)].protonID, 5),digits),\n",
    "  round(np.percentile(proton[(abs(proton.mcPDG)==2212)].protonID, 10),digits),\n",
    "  round(np.percentile(proton[(abs(proton.mcPDG)==2212)].protonID, 15),digits)],\n",
    " [round(np.percentile(electron[(abs(electron.mcPDG)==11)].electronID, 5),digits),\n",
    "  round(np.percentile(electron[(abs(electron.mcPDG)==11)].electronID, 10),digits),\n",
    "  round(np.percentile(electron[(abs(electron.mcPDG)==11)].electronID, 15),digits)],\n",
    " [round(np.percentile(muon[(abs(muon.mcPDG)==13)].muonID, 5),digits),\n",
    "  round(np.percentile(muon[(abs(muon.mcPDG)==13)].muonID, 10),digits),\n",
    "  round(np.percentile(muon[(abs(muon.mcPDG)==13)].muonID, 15),digits)],\n",
    "]"
   ]
  },
  {
   "cell_type": "markdown",
   "metadata": {},
   "source": [
    "Note that if a working point is <0.0001, the output will be 0.0 (quite obviously) and stdCharged will not create such a list. If a specific list is used for skimming or physics validation, it may be wise to increase the value of **digits** or switch to a different list. Coordinate with validation liaisons to figure out the best approach."
   ]
  },
  {
   "cell_type": "markdown",
   "metadata": {},
   "source": [
    "## Confusion Matrices"
   ]
  },
  {
   "cell_type": "code",
   "execution_count": null,
   "metadata": {},
   "outputs": [],
   "source": [
    "#some definitions for plotting\n",
    "dsets = [pion,kaon,proton,electron,muon]\n",
    "setlabels = ['Pion','Kaon','Proton','Electron','Muon']\n",
    "pidlabels = ['pionID','kaonID','protonID','electronID','muonID']\n",
    "colorset = ['tab:blue', 'tab:red', 'tab:orange', 'tab:green', 'tab:purple']\n",
    "pdgid = [211,321,2212,11,13]\n",
    "confusion = [[0 for x in range(5)] for y in range(5)]\n",
    "purity = [[0 for x in range(5)] for y in range(5)]\n",
    "pidCut = 0.5"
   ]
  },
  {
   "cell_type": "code",
   "execution_count": null,
   "metadata": {},
   "outputs": [],
   "source": [
    "for x in range(5):\n",
    "    confusion[x][0] = len(dsets[x][(dsets[x].pionID>pidCut)&(abs(dsets[x].mcPDG)==pdgid[x])].index)/len(dsets[x][(abs(dsets[x].mcPDG)==pdgid[x])].index)\n",
    "    confusion[x][1] = len(dsets[x][(dsets[x].kaonID>pidCut)&(abs(dsets[x].mcPDG)==pdgid[x])].index)/len(dsets[x][(abs(dsets[x].mcPDG)==pdgid[x])].index)\n",
    "    confusion[x][2] = len(dsets[x][(dsets[x].protonID>pidCut)&(abs(dsets[x].mcPDG)==pdgid[x])].index)/len(dsets[x][(abs(dsets[x].mcPDG)==pdgid[x])].index)\n",
    "    confusion[x][3] = len(dsets[x][(dsets[x].electronID>pidCut)&(abs(dsets[x].mcPDG)==pdgid[x])].index)/len(dsets[x][(abs(dsets[x].mcPDG)==pdgid[x])].index)\n",
    "    confusion[x][4] = len(dsets[x][(dsets[x].muonID>pidCut)&(abs(dsets[x].mcPDG)==pdgid[x])].index)/len(dsets[x][(abs(dsets[x].mcPDG)==pdgid[x])].index)\n",
    "for x in range(5):\n",
    "    purity[x][0] = len(dsets[x][(dsets[x].pionID>pidCut)&(abs(dsets[x].mcPDG)==pdgid[x])].index)/len(dsets[x][(dsets[x].pionID>pidCut)].index)\n",
    "    purity[x][1] = len(dsets[x][(dsets[x].kaonID>pidCut)&(abs(dsets[x].mcPDG)==pdgid[x])].index)/len(dsets[x][(dsets[x].kaonID>pidCut)].index)\n",
    "    purity[x][2] = len(dsets[x][(dsets[x].protonID>pidCut)&(abs(dsets[x].mcPDG)==pdgid[x])].index)/len(dsets[x][(dsets[x].protonID>pidCut)].index)\n",
    "    purity[x][3] = len(dsets[x][(dsets[x].electronID>pidCut)&(abs(dsets[x].mcPDG)==pdgid[x])].index)/len(dsets[x][(dsets[x].electronID>pidCut)].index)\n",
    "    purity[x][4] = len(dsets[x][(dsets[x].muonID>pidCut)&(abs(dsets[x].mcPDG)==pdgid[x])].index)/len(dsets[x][(dsets[x].muonID>pidCut)].index)"
   ]
  },
  {
   "cell_type": "code",
   "execution_count": null,
   "metadata": {},
   "outputs": [],
   "source": [
    "plt.figure(figsize=(10,8)) \n",
    "sns.heatmap(confusion,\n",
    "            xticklabels=pidlabels,\n",
    "            yticklabels=setlabels,\n",
    "            cmap='YlGnBu',\n",
    "            vmin=0,vmax=1,\n",
    "            annot=True,\n",
    "            square=True,\n",
    "            )\n",
    "plt.title('Confusion Matrix')\n",
    "plt.tick_params(axis='x', which='minor', bottom=False, top=False, labelbottom=True) \n",
    "plt.tick_params(axis='y', which='minor', left=False, right=False, labelbottom=True)\n",
    "plt.savefig('confusion_matrix.pdf',bbox_inches='tight')\n",
    "plt.show()\n",
    "\n",
    "plt.figure(figsize=(10,8)) \n",
    "sns.heatmap(purity,\n",
    "            xticklabels=pidlabels,\n",
    "            yticklabels=setlabels,\n",
    "            cmap='YlGnBu',\n",
    "            vmin=0,vmax=1,\n",
    "            annot=True,\n",
    "            square=True,\n",
    "            )\n",
    "plt.title('Purity Matrix')\n",
    "plt.tick_params(axis='x', which='minor', bottom=False, top=False, labelbottom=True) \n",
    "plt.tick_params(axis='y', which='minor', left=False, right=False, labelbottom=True)\n",
    "plt.savefig('purity_matrix.pdf',bbox_inches='tight')\n",
    "plt.show()"
   ]
  },
  {
   "cell_type": "markdown",
   "metadata": {},
   "source": [
    "## ROC Plots"
   ]
  },
  {
   "cell_type": "code",
   "execution_count": null,
   "metadata": {},
   "outputs": [],
   "source": [
    "roc_bins=1000\n",
    "pi = [0 for y in range(roc_bins)] \n",
    "ka = [0 for y in range(roc_bins)] \n",
    "pr = [0 for y in range(roc_bins)] \n",
    "el = [0 for y in range(roc_bins)] \n",
    "mu = [0 for y in range(roc_bins)] "
   ]
  },
  {
   "cell_type": "code",
   "execution_count": null,
   "metadata": {},
   "outputs": [],
   "source": [
    "for i in range(roc_bins):\n",
    "        pi[i]=len(pion[(pion.pionID>(i/roc_bins))&(abs(pion.mcPDG)==211)].index)/len(pion[(abs(pion.mcPDG)==211)].index)\n",
    "        ka[i]=len(kaon[(kaon.pionID>(i/roc_bins))&(abs(kaon.mcPDG)==321)].index)/len(kaon[(abs(kaon.mcPDG)==321)].index)\n",
    "        pr[i]=len(proton[(proton.pionID>(i/roc_bins))&(abs(proton.mcPDG)==2212)].index)/len(proton[(abs(proton.mcPDG)==2212)].index)\n",
    "        el[i]=len(electron[(electron.pionID>(i/roc_bins))&(abs(electron.mcPDG)==11)].index)/len(electron[(abs(electron.mcPDG)==11)].index)\n",
    "        mu[i]=len(muon[(muon.pionID>(i/roc_bins))&(abs(muon.mcPDG)==13)].index)/len(muon[(abs(muon.mcPDG)==13)].index)\n",
    "plt.figure(figsize=(10,5))\n",
    "plt.plot(ka, pi, color=colorset[1], lw=2, label=setlabels[1])\n",
    "plt.plot(pr, pi, color=colorset[2], lw=2, label=setlabels[2])\n",
    "plt.plot(el, pi, color=colorset[3], lw=2, label=setlabels[3])\n",
    "plt.plot(mu, pi, color=colorset[4], lw=2, label=setlabels[4])\n",
    "plt.xlabel('False Pions')\n",
    "plt.ylabel('True Pions')\n",
    "plt.legend(loc=4)"
   ]
  },
  {
   "cell_type": "code",
   "execution_count": null,
   "metadata": {},
   "outputs": [],
   "source": [
    "for i in range(roc_bins):\n",
    "        pi[i]=len(pion[(pion.kaonID>(i/roc_bins))&(abs(pion.mcPDG)==211)].index)/len(pion[(abs(pion.mcPDG)==211)].index)\n",
    "        ka[i]=len(kaon[(kaon.kaonID>(i/roc_bins))&(abs(kaon.mcPDG)==321)].index)/len(kaon[(abs(kaon.mcPDG)==321)].index)\n",
    "        pr[i]=len(proton[(proton.kaonID>(i/roc_bins))&(abs(proton.mcPDG)==2212)].index)/len(proton[(abs(proton.mcPDG)==2212)].index)\n",
    "        el[i]=len(electron[(electron.kaonID>(i/roc_bins))&(abs(electron.mcPDG)==11)].index)/len(electron[(abs(electron.mcPDG)==11)].index)\n",
    "        mu[i]=len(muon[(muon.kaonID>(i/roc_bins))&(abs(muon.mcPDG)==13)].index)/len(muon[(abs(muon.mcPDG)==13)].index)\n",
    "plt.figure(figsize=(10,5))\n",
    "plt.plot(pi, ka, color=colorset[0], lw=2, label=setlabels[0])\n",
    "plt.plot(pr, ka, color=colorset[2], lw=2, label=setlabels[2])\n",
    "plt.plot(el, ka, color=colorset[3], lw=2, label=setlabels[3])\n",
    "plt.plot(mu, ka, color=colorset[4], lw=2, label=setlabels[4])\n",
    "plt.xlabel('False Kaons')\n",
    "plt.ylabel('True Kaons')\n",
    "plt.legend(loc=4)"
   ]
  },
  {
   "cell_type": "code",
   "execution_count": null,
   "metadata": {},
   "outputs": [],
   "source": [
    "for i in range(roc_bins):\n",
    "        pi[i]=len(pion[(pion.protonID>(i/roc_bins))&(abs(pion.mcPDG)==211)].index)/len(pion[(abs(pion.mcPDG)==211)].index)\n",
    "        ka[i]=len(kaon[(kaon.protonID>(i/roc_bins))&(abs(kaon.mcPDG)==321)].index)/len(kaon[(abs(kaon.mcPDG)==321)].index)\n",
    "        pr[i]=len(proton[(proton.protonID>(i/roc_bins))&(abs(proton.mcPDG)==2212)].index)/len(proton[(abs(proton.mcPDG)==2212)].index)\n",
    "        el[i]=len(electron[(electron.protonID>(i/roc_bins))&(abs(electron.mcPDG)==11)].index)/len(electron[(abs(electron.mcPDG)==11)].index)\n",
    "        mu[i]=len(muon[(muon.protonID>(i/roc_bins))&(abs(muon.mcPDG)==13)].index)/len(muon[(abs(muon.mcPDG)==13)].index)\n",
    "plt.figure(figsize=(10,5))\n",
    "plt.plot(pi, pr, color=colorset[0], lw=2, label=setlabels[0])\n",
    "plt.plot(ka, pr, color=colorset[1], lw=2, label=setlabels[1])\n",
    "plt.plot(el, pr, color=colorset[3], lw=2, label=setlabels[3])\n",
    "plt.plot(mu, pr, color=colorset[4], lw=2, label=setlabels[4])\n",
    "plt.xlabel('False Protons')\n",
    "plt.ylabel('True Protons')\n",
    "plt.legend(loc=4)"
   ]
  },
  {
   "cell_type": "code",
   "execution_count": null,
   "metadata": {},
   "outputs": [],
   "source": [
    "for i in range(roc_bins):\n",
    "        pi[i]=len(pion[(pion.electronID>(i/roc_bins))&(abs(pion.mcPDG)==211)].index)/len(pion[(abs(pion.mcPDG)==211)].index)\n",
    "        ka[i]=len(kaon[(kaon.electronID>(i/roc_bins))&(abs(kaon.mcPDG)==321)].index)/len(kaon[(abs(kaon.mcPDG)==321)].index)\n",
    "        pr[i]=len(proton[(proton.electronID>(i/roc_bins))&(abs(proton.mcPDG)==2212)].index)/len(proton[(abs(proton.mcPDG)==2212)].index)\n",
    "        el[i]=len(electron[(electron.electronID>(i/roc_bins))&(abs(electron.mcPDG)==11)].index)/len(electron[(abs(electron.mcPDG)==11)].index)\n",
    "        mu[i]=len(muon[(muon.electronID>(i/roc_bins))&(abs(muon.mcPDG)==13)].index)/len(muon[(abs(muon.mcPDG)==13)].index)\n",
    "plt.figure(figsize=(10,5))\n",
    "plt.plot(pi, el, color=colorset[0], lw=2, label=setlabels[0])\n",
    "plt.plot(ka, el, color=colorset[1], lw=2, label=setlabels[1])\n",
    "plt.plot(pr, el, color=colorset[2], lw=2, label=setlabels[2])\n",
    "plt.plot(mu, el, color=colorset[4], lw=2, label=setlabels[4])\n",
    "plt.xlabel('False Electrons')\n",
    "plt.ylabel('True Electrons')\n",
    "plt.legend(loc=4)"
   ]
  },
  {
   "cell_type": "code",
   "execution_count": null,
   "metadata": {},
   "outputs": [],
   "source": [
    "for i in range(roc_bins):\n",
    "        pi[i]=len(pion[(pion.muonID>(i/roc_bins))&(abs(pion.mcPDG)==211)].index)/len(pion[(abs(pion.mcPDG)==211)].index)\n",
    "        ka[i]=len(kaon[(kaon.muonID>(i/roc_bins))&(abs(kaon.mcPDG)==321)].index)/len(kaon[(abs(kaon.mcPDG)==321)].index)\n",
    "        pr[i]=len(proton[(proton.muonID>(i/roc_bins))&(abs(proton.mcPDG)==2212)].index)/len(proton[(abs(proton.mcPDG)==2212)].index)\n",
    "        el[i]=len(electron[(electron.muonID>(i/roc_bins))&(abs(electron.mcPDG)==11)].index)/len(electron[(abs(electron.mcPDG)==11)].index)\n",
    "        mu[i]=len(muon[(muon.muonID>(i/roc_bins))&(abs(muon.mcPDG)==13)].index)/len(muon[(abs(muon.mcPDG)==13)].index)\n",
    "plt.figure(figsize=(10,5))\n",
    "plt.plot(pi, mu, color=colorset[0], lw=2, label=setlabels[0])\n",
    "plt.plot(ka, mu, color=colorset[1], lw=2, label=setlabels[1])\n",
    "plt.plot(pr, mu, color=colorset[2], lw=2, label=setlabels[2])\n",
    "plt.plot(el, mu, color=colorset[3], lw=2, label=setlabels[3])\n",
    "plt.xlabel('False Muons')\n",
    "plt.ylabel('True Muons')\n",
    "plt.legend(loc=4)"
   ]
  },
  {
   "cell_type": "markdown",
   "metadata": {},
   "source": [
    "## [Expert] Binary PID matrices"
   ]
  },
  {
   "cell_type": "code",
   "execution_count": null,
   "metadata": {},
   "outputs": [],
   "source": [
    "b_confusion = [[0 for x in range(5)] for y in range(5)]\n",
    "b_purity = [[0 for x in range(5)] for y in range(5)]\n",
    "b_pidCut = 0.5\n",
    "\n",
    "for x in range(5):\n",
    "    b_confusion[x][0] = len(dsets[x][(dsets[x].kBinaryID<b_pidCut)&(abs(dsets[x].mcPDG)==pdgid[x])].index)/len(dsets[x][(abs(dsets[x].mcPDG)==pdgid[x])].index)\n",
    "    b_confusion[x][1] = len(dsets[x][(dsets[x].kBinaryID>b_pidCut)&(abs(dsets[x].mcPDG)==pdgid[x])].index)/len(dsets[x][(abs(dsets[x].mcPDG)==pdgid[x])].index)\n",
    "    b_confusion[x][2] = len(dsets[x][(dsets[x].pBinaryID>b_pidCut)&(abs(dsets[x].mcPDG)==pdgid[x])].index)/len(dsets[x][(abs(dsets[x].mcPDG)==pdgid[x])].index)\n",
    "    b_confusion[x][3] = len(dsets[x][(dsets[x].eBinaryID>b_pidCut)&(abs(dsets[x].mcPDG)==pdgid[x])].index)/len(dsets[x][(abs(dsets[x].mcPDG)==pdgid[x])].index)\n",
    "    b_confusion[x][4] = len(dsets[x][(dsets[x].muBinaryID>b_pidCut)&(abs(dsets[x].mcPDG)==pdgid[x])].index)/len(dsets[x][(abs(dsets[x].mcPDG)==pdgid[x])].index)\n",
    "for x in range(5):\n",
    "    b_purity[x][0] = len(dsets[x][(dsets[x].kBinaryID<b_pidCut)&(abs(dsets[x].mcPDG)==pdgid[x])].index)/len(dsets[x][(dsets[x].kBinaryID>b_pidCut)].index)\n",
    "    b_purity[x][1] = len(dsets[x][(dsets[x].kBinaryID>b_pidCut)&(abs(dsets[x].mcPDG)==pdgid[x])].index)/len(dsets[x][(dsets[x].kBinaryID>b_pidCut)].index)\n",
    "    b_purity[x][2] = len(dsets[x][(dsets[x].pBinaryID>b_pidCut)&(abs(dsets[x].mcPDG)==pdgid[x])].index)/len(dsets[x][(dsets[x].pBinaryID>b_pidCut)].index)\n",
    "    b_purity[x][3] = len(dsets[x][(dsets[x].eBinaryID>b_pidCut)&(abs(dsets[x].mcPDG)==pdgid[x])].index)/len(dsets[x][(dsets[x].eBinaryID>b_pidCut)].index)\n",
    "    b_purity[x][4] = len(dsets[x][(dsets[x].muBinaryID>b_pidCut)&(abs(dsets[x].mcPDG)==pdgid[x])].index)/len(dsets[x][(dsets[x].muBinaryID>b_pidCut)].index)\n",
    "\n",
    "plt.figure(figsize=(10,8)) \n",
    "sns.heatmap(b_confusion,\n",
    "            xticklabels=pidlabels,\n",
    "            yticklabels=setlabels,\n",
    "            cmap='YlGnBu',\n",
    "            vmin=0,vmax=1,\n",
    "            annot=True,\n",
    "            square=True,\n",
    "            )\n",
    "plt.title('Binary PID Confusion Matrix')\n",
    "plt.tick_params(axis='x', which='minor', bottom=False, top=False, labelbottom=True) \n",
    "plt.tick_params(axis='y', which='minor', left=False, right=False, labelbottom=True)\n",
    "plt.show()\n",
    "\n",
    "plt.figure(figsize=(10,8)) \n",
    "sns.heatmap(b_purity,\n",
    "            xticklabels=pidlabels,\n",
    "            yticklabels=setlabels,\n",
    "            cmap='YlGnBu',\n",
    "            vmin=0,vmax=1,\n",
    "            annot=True,\n",
    "            square=True,\n",
    "            )\n",
    "plt.title('Binary PID Purity Matrix')\n",
    "plt.tick_params(axis='x', which='minor', bottom=False, top=False, labelbottom=True) \n",
    "plt.tick_params(axis='y', which='minor', left=False, right=False, labelbottom=True)\n",
    "plt.show()"
   ]
  }
 ],
 "metadata": {
  "kernelspec": {
   "display_name": "Python 3 (Belle2)",
   "language": "python",
   "name": "python3"
  },
  "language_info": {
   "codemirror_mode": {
    "name": "ipython",
    "version": 3
   },
   "file_extension": ".py",
   "mimetype": "text/x-python",
   "name": "python",
   "nbconvert_exporter": "python",
   "pygments_lexer": "ipython3",
   "version": "3.8.8"
  }
 },
 "nbformat": 4,
 "nbformat_minor": 2
}
