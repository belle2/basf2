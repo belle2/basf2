{
 "cells": [
  {
   "cell_type": "markdown",
   "metadata": {},
   "source": [
    "This notebook tests the jupyter integration of basf2 and its externals (like ROOT)"
   ]
  },
  {
   "cell_type": "code",
   "execution_count": 1,
   "metadata": {},
   "outputs": [
    {
     "output_type": "stream",
     "name": "stdout",
     "text": [
      "Welcome to JupyROOT 6.24/00\n"
     ]
    }
   ],
   "source": [
    "# import basf2\n",
    "import basf2\n",
    "from modularAnalysis import inputMdst\n",
    "from mdst import add_mdst_output"
   ]
  },
  {
   "cell_type": "code",
   "execution_count": 4,
   "metadata": {
    "scrolled": true
   },
   "outputs": [
    {
     "name": "stdout",
     "output_type": "stream",
     "text": [
      "[INFO] process() called in a Jupyter Notebook. See help(process) for caveats\n",
      "\u001b[m[INFO] Starting event processing, random seed is set to '318eb6f82273aa90354b67394bebe60371c9b40e32919686e4fbf07a10eaa86'\n",
      "\u001b[m[INFO] Begin of new run.\n",
      "\u001b[m[INFO] Processed:   1 runs,      1/   100 events.\n",
      "\u001b[m[INFO] Processed:   1 runs,      2/   100 events.\n",
      "\u001b[m[INFO] Processed:   1 runs,      3/   100 events.\n",
      "\u001b[m[INFO] Processed:   1 runs,      4/   100 events.\n",
      "\u001b[m[INFO] Processed:   1 runs,      5/   100 events.\n",
      "\u001b[m[INFO] Processed:   1 runs,      6/   100 events.\n",
      "\u001b[m[INFO] Processed:   1 runs,      7/   100 events.\n",
      "\u001b[m[INFO] Processed:   1 runs,      8/   100 events.\n",
      "\u001b[m[INFO] Processed:   1 runs,      9/   100 events.\n",
      "\u001b[m[INFO] Processed:   1 runs,     10/   100 events.\n",
      "\u001b[m[INFO] Processed:   1 runs,     20/   100 events.\n",
      "\u001b[m[INFO] Processed:   1 runs,     30/   100 events.\n",
      "\u001b[m[INFO] Processed:   1 runs,     40/   100 events.\n",
      "\u001b[m[INFO] Processed:   1 runs,     50/   100 events.\n",
      "\u001b[m[INFO] Processed:   1 runs,     60/   100 events.\n",
      "\u001b[m[INFO] Processed:   1 runs,     70/   100 events.\n",
      "\u001b[m[INFO] Processed:   1 runs,     80/   100 events.\n",
      "\u001b[m[INFO] Processed:   1 runs,     90/   100 events.\n",
      "\u001b[m[INFO] Processed:   1 runs,    100/   100 events.\n",
      "\u001b[m\u001b[33m[WARNING] something\n",
      "\u001b[m"
     ]
    }
   ],
   "source": [
    "# execute a simple event simulation and reconstruction\n",
    "main_path = basf2.Path()\n",
    "main_path.add_module('EventInfoSetter', evtNumList=100)\n",
    "main_path.add_module(\"Progress\")\n",
    "basf2.process(main_path)\n",
    "basf2.B2WARNING(\"something\")"
   ]
  },
  {
   "cell_type": "code",
   "execution_count": 8,
   "metadata": {},
   "outputs": [
    {
     "data": {
      "text/html": [
       "<table border=0><thead><tr><th>Name</th><th>Calls</th><th>Memory(MB)</th><th>Time(s)</th><th>Time(ms)/Call</th></tr></thead><tbody><tr><td>EventInfoSetter</td><td>105</td><td>1</td><td>0.00</td><td>0.01 &plusmn; 0.01</td></tr><tr><td>Progress</td><td>104</td><td>0</td><td>0.02</td><td>0.17 &plusmn; 0.34</td></tr></tbody><tfoot><tr><td>Total</td><td>105</td><td>1</td><td>0.02</td><td>0.19 &plusmn; 0.34</td></tr></tfoot></table>"
      ],
      "text/plain": [
       "<pybasf2.ProcessStatistics at 0x7f2c9ebfd8c0>"
      ]
     },
     "execution_count": 8,
     "metadata": {},
     "output_type": "execute_result"
    }
   ],
   "source": [
    "basf2.statistics(basf2.statistics.TOTAL)"
   ]
  },
  {
   "cell_type": "code",
   "execution_count": null,
   "metadata": {},
   "outputs": [],
   "source": [
    "p = basf2.Path()\n",
    "p2 = basf2.Path()\n",
    "m = p.add_module(\"EventInfoSetter\", evtNumList=100)\n",
    "m.if_true(p2)\n",
    "p.add_module(\"Progress\", maxN=5)\n",
    "p2.add_module(\"EventInfoPrinter\")\n",
    "p2.add_module(\"RootInput\")\n",
    "p.add_module(\"RootInput\")\n",
    "p.add_module(\"RootOutput\")\n",
    "p.do_while(p2)\n",
    "p"
   ]
  },
  {
   "cell_type": "code",
   "execution_count": 6,
   "metadata": {},
   "outputs": [
    {
     "data": {
      "text/html": [
       "<div>basf2.Module <b>RootInput</b><p>Reads objects/arrays from one or more .root files saved by the RootOutput module and makes them available through the DataStore. Files do not necessarily have to be local, http:// and root:// (for files in xrootd) URLs are supported as well.</p><style>table.b2module * { text-align: left !important; }</style><table class=\"b2module\"><thead><tr><th>parameter</th><th>type</th><th>default</th><th>current</th><th>changed</th><th>is required</th></tr></thead><tbody><tr><td>branchNames</td><td><code>list(str)</code></td><td><code>[]</code></td><td><code>[]</code></td><td>no</td><td>no</td></tr><tr><td/><td colspan=\"5\">Names of event durability branches to be read. Empty means all branches. (EventMetaData is always read)</td></tr><tr><td>branchNamesPersistent</td><td><code>list(str)</code></td><td><code>[]</code></td><td><code>[]</code></td><td>no</td><td>no</td></tr><tr><td/><td colspan=\"5\">Names of persistent durability branches to be read. Empty means all branches. (FileMetaData is always read)</td></tr><tr><td>cacheSize</td><td><code>int</code></td><td><code>0</code></td><td><code>0</code></td><td>no</td><td>no</td></tr><tr><td/><td colspan=\"5\">file cache size in Mbytes. If negative, use root default</td></tr><tr><td>collectStatistics</td><td><code>bool</code></td><td><code>False</code></td><td><code>False</code></td><td>no</td><td>no</td></tr><tr><td/><td colspan=\"5\">Collect statistics on amount of data read and print statistics (seperate for input &amp; parent files) after processing. Data is collected from TFile using GetBytesRead(), GetBytesReadExtra(), GetReadCalls()</td></tr><tr><td>discardErrorEvents</td><td><code>bool</code></td><td><code>True</code></td><td><code>True</code></td><td>no</td><td>no</td></tr><tr><td/><td colspan=\"5\">Discard events with an error flag != 0</td></tr><tr><td>entrySequences</td><td><code>list(str)</code></td><td><code>[]</code></td><td><code>[]</code></td><td>no</td><td>no</td></tr><tr><td/><td colspan=\"5\">The number sequences (e.g. 23:42,101) defining the entries which are processed for each inputFileName.Must be specified exactly once for each file to be opened.The first event has the entry number 0.</td></tr><tr><td>excludeBranchNames</td><td><code>list(str)</code></td><td><code>[]</code></td><td><code>[]</code></td><td>no</td><td>no</td></tr><tr><td/><td colspan=\"5\">Names of event durability branches NOT to be read. Takes precedence over branchNames.</td></tr><tr><td>excludeBranchNamesPersistent</td><td><code>list(str)</code></td><td><code>['ProcessStatistics']</code></td><td><code>['ProcessStatistics']</code></td><td>no</td><td>no</td></tr><tr><td/><td colspan=\"5\">Names of persistent durability branches NOT to be read. Takes precedence over branchNamesPersistent.</td></tr><tr><td>ignoreCommandLineOverride</td><td><code>bool</code></td><td><code>False</code></td><td><code>False</code></td><td>no</td><td>no</td></tr><tr><td/><td colspan=\"5\">Ignore override of file name via command line argument -i.</td></tr><tr><td>inputFileName</td><td><code>str</code></td><td><code></code></td><td><code></code></td><td>no</td><td>no</td></tr><tr><td/><td colspan=\"5\">Input file name. For multiple files, use inputFileNames or wildcards instead. Can be overridden using the -i argument to basf2.</td></tr><tr><td>inputFileNames</td><td><code>list(str)</code></td><td><code>[]</code></td><td><code>[]</code></td><td>no</td><td>no</td></tr><tr><td/><td colspan=\"5\">List of input files. You may use shell-like expansions to specify multiple files, e.g. 'somePrefix_*.root' or 'file_[a,b]_[1-15].root'. Can be overridden using the -i argument to basf2.</td></tr><tr><td>parentLevel</td><td><code>int</code></td><td><code>0</code></td><td><code>0</code></td><td>no</td><td>no</td></tr><tr><td/><td colspan=\"5\">Number of generations of parent files (files used as input when creating a file) to be read. This can be useful if a file is missing some information available in its parent. See https://confluence.desy.de/display/BI/Software+ParentFiles for details.</td></tr><tr><td>silentErrrorDiscardMask</td><td><code>unsigned int</code></td><td><code>16</code></td><td><code>16</code></td><td>no</td><td>no</td></tr><tr><td/><td colspan=\"5\">Bitmask of error flags to silently discard without raising a WARNING. Should be a combination of the ErrorFlags defined in the EventMetaData. No Warning will be issued when discarding an event if the error flag consists exclusively of flags present in this mask</td></tr><tr><td>skipNEvents</td><td><code>unsigned int</code></td><td><code>0</code></td><td><code>0</code></td><td>no</td><td>no</td></tr><tr><td/><td colspan=\"5\">Skip this number of events before starting.</td></tr><tr><td>skipToEvent</td><td><code>list(int)</code></td><td><code>[]</code></td><td><code>[]</code></td><td>no</td><td>no</td></tr><tr><td/><td colspan=\"5\">Skip events until the event with the specified (experiment, run, event number) occurs. This parameter is useful for debugging to start with a specific event.</td></tr></tbody></table></div>"
      ],
      "text/plain": [
       "<pybasf2.Module at 0x7f2ca4166350>"
      ]
     },
     "execution_count": 6,
     "metadata": {},
     "output_type": "execute_result"
    }
   ],
   "source": [
    "basf2.register_module(\"RootInput\")"
   ]
  },
  {
   "cell_type": "code",
   "execution_count": null,
   "metadata": {},
   "outputs": [],
   "source": []
  }
 ],
 "metadata": {
  "kernelspec": {
   "display_name": "Python 3",
   "language": "python",
   "name": "python3"
  },
  "language_info": {
   "codemirror_mode": {
    "name": "ipython",
    "version": 3
   },
   "file_extension": ".py",
   "mimetype": "text/x-python",
   "name": "python",
   "nbconvert_exporter": "python",
   "pygments_lexer": "ipython3",
   "version": "3.8.8"
  },
  "widgets": {
   "state": {
    "488ab5d60c1f43bab0652767836b6b19": {
     "views": [
      {
       "cell_index": 6
      }
     ]
    },
    "8d5adc3092f44cf3a0f0162d2e20c21b": {
     "views": [
      {
       "cell_index": 4
      }
     ]
    },
    "8dab1a991e7d41fdba9cbf8dd32b675f": {
     "views": [
      {
       "cell_index": 4
      }
     ]
    },
    "edfcc080a40346948d976b06207dacfa": {
     "views": [
      {
       "cell_index": 4
      }
     ]
    },
    "fab7621dc5c94048b02e248bff6e8e8e": {
     "views": [
      {
       "cell_index": 4
      }
     ]
    }
   },
   "version": "1.2.0"
  }
 },
 "nbformat": 4,
 "nbformat_minor": 2
}
