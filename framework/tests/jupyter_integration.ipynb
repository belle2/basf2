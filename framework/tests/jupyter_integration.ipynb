{
 "cells": [
  {
   "cell_type": "markdown",
   "metadata": {},
   "source": [
    "This notebook tests the jupyter integration of basf2 and its externals (like ROOT)"
   ]
  },
  {
   "cell_type": "code",
   "execution_count": null,
   "metadata": {},
   "outputs": [],
   "source": [
    "# enable basf2 styling\n",
    "from ipython_tools import handler\n",
    "handler.style()"
   ]
  },
  {
   "cell_type": "code",
   "execution_count": null,
   "metadata": {},
   "outputs": [],
   "source": [
    "# test if root import works\n",
    "import ROOT"
   ]
  },
  {
   "cell_type": "code",
   "execution_count": null,
   "metadata": {},
   "outputs": [],
   "source": [
    "# import basf2\n",
    "import basf2\n",
    "from modularAnalysis import inputMdst\n",
    "from mdst import add_mdst_output"
   ]
  },
  {
   "cell_type": "code",
   "execution_count": null,
   "metadata": {
    "scrolled": true
   },
   "outputs": [],
   "source": [
    "# execute a simple event simulation and reconstruction\n",
    "main_path = basf2.create_path()\n",
    "\n",
    "main_path.add_module('EventInfoSetter', evtNumList=[1])\n",
    "calculation = handler.process(main_path)\n",
    "\n",
    "# display the path content\n",
    "calculation.show_path()\n",
    "\n",
    "# todo: enable later start calculation\n",
    "calculation.start()\n",
    "calculation.wait_for_end()\n",
    "\n",
    "calculation.show_log()\n",
    "\n",
    "# display the dependencies\n",
    "# todo: this is not working atm\n",
    "calculation.show_dependencies()\n",
    "\n",
    "# todo: not working atm\n",
    "calculation.show_collections()"
   ]
  },
  {
   "cell_type": "code",
   "execution_count": null,
   "metadata": {},
   "outputs": [],
   "source": [
    "# execute a simple event simulation and reconstruction, but use the multi-core processing features\n",
    "def create_test_path(event_count):\n",
    "    main_path = basf2.create_path()\n",
    "    main_path.add_module('EventInfoSetter', evtNumList=[event_count])\n",
    "\n",
    "    return {\"path\": main_path}\n",
    "    \n",
    "calculation = handler.process_parameter_space( create_test_path, event_count = list(range(1,12)) )\n",
    "calculation.start_batched_and_wait_for_end(max_processes=2)"
   ]
  },
  {
   "cell_type": "code",
   "execution_count": null,
   "metadata": {},
   "outputs": [],
   "source": [
    "# check that running basf2.process in jupyter uses handler by default\n",
    "from hep_ipython_tools.calculation import Calculation\n",
    "import basf2\n",
    "p = basf2.Path()\n",
    "p.add_module(\"EventInfoSetter\")\n",
    "result = basf2.process(p)\n",
    "assert isinstance(result, Calculation)"
   ]
  }
 ],
 "metadata": {
  "kernelspec": {
   "display_name": "Python 3 (Belle2)",
   "language": "python",
   "name": "python3"
  },
  "language_info": {
   "codemirror_mode": {
    "name": "ipython",
    "version": 3
   },
   "file_extension": ".py",
   "mimetype": "text/x-python",
   "name": "python",
   "nbconvert_exporter": "python",
   "pygments_lexer": "ipython3",
   "version": "3.6.9"
  },
  "widgets": {
   "state": {
    "488ab5d60c1f43bab0652767836b6b19": {
     "views": [
      {
       "cell_index": 6
      }
     ]
    },
    "8d5adc3092f44cf3a0f0162d2e20c21b": {
     "views": [
      {
       "cell_index": 4
      }
     ]
    },
    "8dab1a991e7d41fdba9cbf8dd32b675f": {
     "views": [
      {
       "cell_index": 4
      }
     ]
    },
    "edfcc080a40346948d976b06207dacfa": {
     "views": [
      {
       "cell_index": 4
      }
     ]
    },
    "fab7621dc5c94048b02e248bff6e8e8e": {
     "views": [
      {
       "cell_index": 4
      }
     ]
    }
   },
   "version": "1.2.0"
  }
 },
 "nbformat": 4,
 "nbformat_minor": 2
}
