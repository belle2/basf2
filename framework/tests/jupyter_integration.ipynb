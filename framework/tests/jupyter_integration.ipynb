{
 "cells": [
  {
   "cell_type": "markdown",
   "metadata": {
    "deletable": true,
    "editable": true
   },
   "source": [
    "This notebook tests the jupyter integration of basf2 and its externals (like ROOT)"
   ]
  },
  {
   "cell_type": "code",
   "execution_count": null,
   "metadata": {
    "collapsed": false,
    "deletable": true,
    "editable": true
   },
   "outputs": [],
   "source": [
    "# enable basf2 styling\n",
    "from ipython_tools import handler\n",
    "handler.style()"
   ]
  },
  {
   "cell_type": "code",
   "execution_count": null,
   "metadata": {
    "collapsed": true,
    "deletable": true,
    "editable": true
   },
   "outputs": [],
   "source": [
    "# test if root import works\n",
    "import ROOT"
   ]
  },
  {
   "cell_type": "code",
   "execution_count": null,
   "metadata": {
    "collapsed": true,
    "deletable": true,
    "editable": true
   },
   "outputs": [],
   "source": [
    "# import basf2 and configuration fragments\n",
    "import basf2\n",
    "from simulation import add_simulation\n",
    "from beamparameters import add_beamparameters\n",
    "from reconstruction import add_reconstruction, add_mc_reconstruction,add_mdst_output"
   ]
  },
  {
   "cell_type": "code",
   "execution_count": null,
   "metadata": {
    "collapsed": false,
    "deletable": true,
    "editable": true
   },
   "outputs": [],
   "source": [
    "# execute a simple event simulation and reconstruction\n",
    "main_path = basf2.create_path()\n",
    "\n",
    "main_path.add_module('EventInfoSetter', evtNumList=[1])\n",
    "calculation = handler.process(main_path)\n",
    "\n",
    "# display the path content\n",
    "calculation.show_path()\n",
    "\n",
    "# display the dependencies\n",
    "# todo: this is not working atm\n",
    "#calculation.show_dependencies()\n",
    "\n",
    "# todo: enable later start calculation\n",
    "calculation.start()\n",
    "calculation.wait_for_end()\n",
    "\n",
    "calculation.show_log()\n",
    "\n",
    "# todo: not working atm\n",
    "#calculation.show_collections()"
   ]
  },
  {
   "cell_type": "code",
   "execution_count": null,
   "metadata": {
    "collapsed": true,
    "deletable": true,
    "editable": true
   },
   "outputs": [],
   "source": [
    "# todo: test more basf2 widgets"
   ]
  }
 ],
 "metadata": {
  "kernelspec": {
   "display_name": "Python 3",
   "language": "python",
   "name": "python3"
  },
  "language_info": {
   "codemirror_mode": {
    "name": "ipython",
    "version": 3
   },
   "file_extension": ".py",
   "mimetype": "text/x-python",
   "name": "python",
   "nbconvert_exporter": "python",
   "pygments_lexer": "ipython3",
   "version": "3.5.2"
  }
 },
 "nbformat": 4,
 "nbformat_minor": 2
}
