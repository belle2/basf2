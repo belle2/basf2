{
 "cells": [
  {
   "cell_type": "markdown",
   "metadata": {},
   "source": [
    "This notebook tests the jupyter integration of basf2 and its externals (like ROOT)"
   ]
  },
  {
   "cell_type": "code",
   "execution_count": 1,
   "metadata": {},
   "outputs": [
    {
     "output_type": "stream",
     "name": "stdout",
     "text": [
      "Welcome to JupyROOT 6.24/00\n"
     ]
    }
   ],
   "source": [
    "# import basf2\n",
    "import basf2\n",
    "from modularAnalysis import inputMdst\n",
    "from mdst import add_mdst_output"
   ]
  },
  {
   "cell_type": "code",
   "execution_count": 2,
   "metadata": {
    "scrolled": true
   },
   "outputs": [
    {
     "output_type": "stream",
     "name": "stdout",
     "text": [
      "[INFO] process() called in a Jupyter Notebook. See help(process) for caveats\n",
      "\u001b[m[INFO] Starting event processing, random seed is set to '6a76486c450cbb0d1f2584631cd01e97038f50278b88263780ee4481ba908d6'\n",
      "\u001b[mDone\n"
     ]
    }
   ],
   "source": [
    "# execute a simple event simulation and reconstruction\n",
    "main_path = basf2.Path()\n",
    "\n",
    "main_path.add_module('EventInfoSetter', evtNumList=10)\n",
    "basf2.process(main_path)"
   ]
  },
  {
   "cell_type": "code",
   "execution_count": 6,
   "metadata": {},
   "outputs": [
    {
     "output_type": "execute_result",
     "data": {
      "text/plain": [
       "<pybasf2.Path at 0x7f1aa774cbd0>"
      ],
      "text/html": "<div>basf2.Path with 5 modules<ol style=\"list-style-type:decimal; font-style:normal;\"><li>Module <b>EventInfoSetter</b><ul style=\"margin:0em 0em 0.5em 0em\"><li><code>evtNumList = [100]</code></li><li style=\"list-style-type: disclosure-closed\"><div>Conditional Path with 2 modules<span> (condition: <code>&gt;= 1</code>, afterwards:<code>END</code>)</span><ol style=\"list-style-type:decimal; font-style:normal;\"><li>Module <b>EventInfoPrinter</b></li><li>Module <b>RootInput</b></li></ol></div></li></ul></li><li>Module <b>Progress</b><ul style=\"margin:0em 0em 0.5em 0em\"><li><code>maxN = 5</code></li></ul></li><li>Module <b>RootInput</b></li><li>Module <b>RootOutput</b></li><li>Module <b>do_while(RootInput&lt;1)</b> (type \"SubEvent\")</li></ol></div>"
     },
     "metadata": {},
     "execution_count": 6
    }
   ],
   "source": [
    "p = basf2.Path()\n",
    "p2 = basf2.Path()\n",
    "m = p.add_module(\"EventInfoSetter\", evtNumList=100)\n",
    "m.if_true(p2)\n",
    "p.add_module(\"Progress\", maxN=5)\n",
    "p2.add_module(\"EventInfoPrinter\")\n",
    "p2.add_module(\"RootInput\")\n",
    "p.add_module(\"RootInput\")\n",
    "p.add_module(\"RootOutput\")\n",
    "p.do_while(p2)\n",
    "p"
   ]
  },
  {
   "cell_type": "code",
   "execution_count": 4,
   "metadata": {},
   "outputs": [
    {
     "output_type": "execute_result",
     "data": {
      "text/plain": [
       "<pybasf2.Module at 0x7f1aa78019e0>"
      ],
      "text/html": "<div>basf2.Module <b>RootInput</b><p>Reads objects/arrays from one or more .root files saved by the RootOutput module and makes them available through the DataStore. Files do not necessarily have to be local, http:// and root:// (for files in xrootd) URLs are supported as well.</p><style scoped=\"scoped\">table * { text-align: left !important; }</style><table><thead><tr><th>parameter</th><th>type</th><th>default</th><th>current</th><th>changed</th><th>is required</th></tr></thead><tbody><tr><td>branchNames</td><td><code>list(str)</code></td><td><code>[]</code></td><td><code>[]</code></td><td>no</td><td>no</td></tr><tr><td/><td colspan=\"5\">Names of event durability branches to be read. Empty means all branches. (EventMetaData is always read)</td></tr><tr><td>branchNamesPersistent</td><td><code>list(str)</code></td><td><code>[]</code></td><td><code>[]</code></td><td>no</td><td>no</td></tr><tr><td/><td colspan=\"5\">Names of persistent durability branches to be read. Empty means all branches. (FileMetaData is always read)</td></tr><tr><td>cacheSize</td><td><code>int</code></td><td><code>0</code></td><td><code>0</code></td><td>no</td><td>no</td></tr><tr><td/><td colspan=\"5\">file cache size in Mbytes. If negative, use root default</td></tr><tr><td>collectStatistics</td><td><code>bool</code></td><td><code>False</code></td><td><code>False</code></td><td>no</td><td>no</td></tr><tr><td/><td colspan=\"5\">Collect statistics on amount of data read and print statistics (seperate for input &amp; parent files) after processing. Data is collected from TFile using GetBytesRead(), GetBytesReadExtra(), GetReadCalls()</td></tr><tr><td>discardErrorEvents</td><td><code>bool</code></td><td><code>True</code></td><td><code>True</code></td><td>no</td><td>no</td></tr><tr><td/><td colspan=\"5\">Discard events with an error flag != 0</td></tr><tr><td>entrySequences</td><td><code>list(str)</code></td><td><code>[]</code></td><td><code>[]</code></td><td>no</td><td>no</td></tr><tr><td/><td colspan=\"5\">The number sequences (e.g. 23:42,101) defining the entries which are processed for each inputFileName.Must be specified exactly once for each file to be opened.The first event has the entry number 0.</td></tr><tr><td>excludeBranchNames</td><td><code>list(str)</code></td><td><code>[]</code></td><td><code>[]</code></td><td>no</td><td>no</td></tr><tr><td/><td colspan=\"5\">Names of event durability branches NOT to be read. Takes precedence over branchNames.</td></tr><tr><td>excludeBranchNamesPersistent</td><td><code>list(str)</code></td><td><code>['ProcessStatistics']</code></td><td><code>['ProcessStatistics']</code></td><td>no</td><td>no</td></tr><tr><td/><td colspan=\"5\">Names of persistent durability branches NOT to be read. Takes precedence over branchNamesPersistent.</td></tr><tr><td>ignoreCommandLineOverride</td><td><code>bool</code></td><td><code>False</code></td><td><code>False</code></td><td>no</td><td>no</td></tr><tr><td/><td colspan=\"5\">Ignore override of file name via command line argument -i.</td></tr><tr><td>inputFileName</td><td><code>str</code></td><td><code></code></td><td><code></code></td><td>no</td><td>no</td></tr><tr><td/><td colspan=\"5\">Input file name. For multiple files, use inputFileNames or wildcards instead. Can be overridden using the -i argument to basf2.</td></tr><tr><td>inputFileNames</td><td><code>list(str)</code></td><td><code>[]</code></td><td><code>[]</code></td><td>no</td><td>no</td></tr><tr><td/><td colspan=\"5\">List of input files. You may use shell-like expansions to specify multiple files, e.g. 'somePrefix_*.root' or 'file_[a,b]_[1-15].root'. Can be overridden using the -i argument to basf2.</td></tr><tr><td>parentLevel</td><td><code>int</code></td><td><code>0</code></td><td><code>0</code></td><td>no</td><td>no</td></tr><tr><td/><td colspan=\"5\">Number of generations of parent files (files used as input when creating a file) to be read. This can be useful if a file is missing some information available in its parent. See https://confluence.desy.de/display/BI/Software+ParentFiles for details.</td></tr><tr><td>silentErrrorDiscardMask</td><td><code>unsigned int</code></td><td><code>16</code></td><td><code>16</code></td><td>no</td><td>no</td></tr><tr><td/><td colspan=\"5\">Bitmask of error flags to silently discard without raising a WARNING. Should be a combination of the ErrorFlags defined in the EventMetaData. No Warning will be issued when discarding an event if the error flag consists exclusively of flags present in this mask</td></tr><tr><td>skipNEvents</td><td><code>unsigned int</code></td><td><code>0</code></td><td><code>0</code></td><td>no</td><td>no</td></tr><tr><td/><td colspan=\"5\">Skip this number of events before starting.</td></tr><tr><td>skipToEvent</td><td><code>list(int)</code></td><td><code>[]</code></td><td><code>[]</code></td><td>no</td><td>no</td></tr><tr><td/><td colspan=\"5\">Skip events until the event with the specified (experiment, run, event number) occurs. This parameter is useful for debugging to start with a specific event.</td></tr></tbody></table></div>"
     },
     "metadata": {},
     "execution_count": 4
    }
   ],
   "source": [
    "basf2.register_module(\"RootInput\")"
   ]
  },
  {
   "cell_type": "code",
   "execution_count": null,
   "metadata": {},
   "outputs": [],
   "source": []
  }
 ],
 "metadata": {
  "kernelspec": {
   "display_name": "Python 3",
   "language": "python",
   "name": "python3"
  },
  "widgets": {
   "state": {
    "488ab5d60c1f43bab0652767836b6b19": {
     "views": [
      {
       "cell_index": 6
      }
     ]
    },
    "8d5adc3092f44cf3a0f0162d2e20c21b": {
     "views": [
      {
       "cell_index": 4
      }
     ]
    },
    "8dab1a991e7d41fdba9cbf8dd32b675f": {
     "views": [
      {
       "cell_index": 4
      }
     ]
    },
    "edfcc080a40346948d976b06207dacfa": {
     "views": [
      {
       "cell_index": 4
      }
     ]
    },
    "fab7621dc5c94048b02e248bff6e8e8e": {
     "views": [
      {
       "cell_index": 4
      }
     ]
    }
   },
   "version": "1.2.0"
  }
 },
 "nbformat": 4,
 "nbformat_minor": 2
}