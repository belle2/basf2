{
 "cells": [
  {
   "cell_type": "code",
   "execution_count": null,
   "metadata": {
    "collapsed": false,
    "deletable": true,
    "editable": true,
    "scrolled": false
   },
   "outputs": [],
   "source": [
    "import pandas\n",
    "import matplotlib\n",
    "import matplotlib.pyplot as plt\n",
    "%matplotlib inline\n",
    "\n",
    "font = {'family' : 'normal',\n",
    "        'size'   : 18}\n",
    "\n",
    "matplotlib.rc('font', **font)\n",
    "\n",
    "# show all columns in outputs\n",
    "pandas.set_option('display.max_columns', None)\n",
    "\n",
    "df_bytes = pandas.read_pickle(\"../all_filesizes.pkl\")\n",
    "df_bytes.head()"
   ]
  },
  {
   "cell_type": "code",
   "execution_count": null,
   "metadata": {
    "collapsed": false,
    "deletable": true,
    "editable": true,
    "scrolled": false
   },
   "outputs": [],
   "source": [
    "df = df_bytes \n",
    "df_raw_zipped = df[df.columns.drop(list(df.filter(regex='_unzipped')) + list(df.filter(regex=\"_comp_ratio\")))]\n",
    "\n",
    "df_comp_ratio = df.filter(regex=\"_comp_ratio\")\n",
    "df_comp_ratio.columns = [ cn.replace(\"_comp_ratio\", \"\") for cn in df_comp_ratio.columns]\n",
    "\n",
    "df_unzipped = df.filter(regex=\"_unzipped\")\n",
    "df_unzipped.columns = [ cn.replace(\"_unzipped\", \"\") for cn in df_unzipped.columns]\n",
    "\n",
    "for channel_name in df_comp_ratio.index:\n",
    "    df_comp_ratio_im = df_comp_ratio.drop([rn for rn in df_comp_ratio.index if not rn ==  channel_name ])\n",
    "    df_unzipped_im = df_unzipped.drop([rn for rn in df_unzipped.index if not rn ==  channel_name ])\n",
    "    df_raw_zipped_im = df_raw_zipped.drop([rn for rn in df_raw_zipped.index if not rn ==  channel_name ])\n",
    "    \n",
    "    df_raw_zipped_im = df_raw_zipped_im / 1000\n",
    "    df_unzipped_im = df_unzipped_im / 1000\n",
    "    \n",
    "    df_comp_ratio_im.index=[\"Compression Ratio\"]\n",
    "    df_unzipped_im.index=[\"Uncompressed\"]\n",
    "    df_raw_zipped_im.index=[\"Compressed\"]    \n",
    "    \n",
    "    all_sizes = pandas.concat([df_unzipped_im,df_raw_zipped_im])\n",
    "\n",
    "    all_sizes.drop(\"total_size_on_disk\", axis=1, inplace=True)\n",
    "    all_sizes.columns = [cn.replace(\"root_total_size_noPXD\", \"Total Size w/o PXD\") for cn in all_sizes.columns]\n",
    "    all_sizes.columns = [cn.replace(\"root_total_size\", \"Total Size w. filtered PXD\") for cn in all_sizes.columns]\n",
    "\n",
    "    fig = plt.Figure()\n",
    "    pl = all_sizes.T.plot(kind='bar', rot=70,figsize=(10,10))#, #xticks=list(df_unzipped.columns),)\n",
    "    pl.set_title(\"Raw Objects Size for {}\".format(channel_name))\n",
    "    pl.set_ylabel(\"kByte\")\n",
    "    \n",
    "    df_comp_ratio_im.columns = [cn.replace(\"root_total_size_noPXD\", \"Total Size w/o PXD\") for cn in df_comp_ratio_im.columns]\n",
    "    df_comp_ratio_im.columns = [cn.replace(\"root_total_size\", \"Total Size w. filtered PXD\") for cn in df_comp_ratio_im.columns]\n",
    "\n",
    "    h = df_comp_ratio_im.T.plot(kind='bar', rot=70,figsize=(10,10))    \n",
    "    h.axhline(y=1)\n",
    "    h.set_title(\"Compression Ratio for {}\".format(channel_name))\n",
    "\n"
   ]
  }
 ],
 "metadata": {
  "kernelspec": {
   "display_name": "Python 3 (Belle2)",
   "language": "python",
   "name": "python3"
  },
  "language_info": {
   "codemirror_mode": {
    "name": "ipython",
    "version": 3
   },
   "file_extension": ".py",
   "mimetype": "text/x-python",
   "name": "python",
   "nbconvert_exporter": "python",
   "pygments_lexer": "ipython3",
   "version": "3.6.2"
  }
 },
 "nbformat": 4,
 "nbformat_minor": 2
}
