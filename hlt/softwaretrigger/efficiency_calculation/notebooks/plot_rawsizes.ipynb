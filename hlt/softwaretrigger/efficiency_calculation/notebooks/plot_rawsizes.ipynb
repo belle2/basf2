{
 "cells": [
  {
   "cell_type": "code",
   "execution_count": null,
   "metadata": {
    "collapsed": false,
    "deletable": true,
    "editable": true,
    "scrolled": false
   },
   "outputs": [],
   "source": [
    "import pandas\n",
    "import matplotlib\n",
    "import matplotlib.pyplot as plt\n",
    "%matplotlib inline\n",
    "\n",
    "font = {'family' : 'normal',\n",
    "        'size'   : 18}\n",
    "\n",
    "matplotlib.rc('font', **font)\n",
    "\n",
    "# show all columns in outputs\n",
    "pandas.set_option('display.max_columns', None)\n",
    "\n",
    "df_bytes = pandas.read_pickle(\"../all_filesizes.pkl\")"
   ]
  },
  {
   "cell_type": "code",
   "execution_count": null,
   "metadata": {
    "collapsed": false,
    "deletable": true,
    "editable": true
   },
   "outputs": [],
   "source": [
    "df = df_bytes \n",
    "df_raw_zipped = df[df.columns.drop(list(df.filter(regex='_unzipped')) + list(df.filter(regex=\"_comp_ratio\")))]\n",
    "\n",
    "df_comp_ratio = df.filter(regex=\"_comp_ratio\")\n",
    "df_comp_ratio.columns = [ cn.replace(\"_comp_ratio\", \"\") for cn in df_comp_ratio.columns]\n",
    "\n",
    "df_unzipped = df.filter(regex=\"_unzipped\")\n",
    "df_unzipped.columns = [ cn.replace(\"_unzipped\", \"\") for cn in df_unzipped.columns]\n",
    "\n",
    "df_comp_ratio.index=[\"Compression Ratio\"]\n",
    "df_unzipped.index=[\"Uncompressed\"]\n",
    "df_raw_zipped.index=[\"Compressed\"]\n",
    "\n",
    "df_raw_zipped = df_raw_zipped / 1000\n",
    "df_unzipped = df_unzipped / 1000"
   ]
  },
  {
   "cell_type": "code",
   "execution_count": null,
   "metadata": {
    "collapsed": false,
    "deletable": true,
    "editable": true
   },
   "outputs": [],
   "source": [
    "# df_raws.head()\n",
    "all_sizes = pandas.concat([df_unzipped,df_raw_zipped])\n",
    "\n",
    "all_sizes.drop(\"total_size_on_disk\", axis=1, inplace=True)\n",
    "all_sizes.columns = [cn.replace(\"root_total_size_noPXD\", \"Total Size w/o PXD\") for cn in all_sizes.columns]\n",
    "all_sizes.columns = [cn.replace(\"root_total_size\", \"Total Size w. filtered PXD\") for cn in all_sizes.columns]\n",
    "\n",
    "fig = plt.Figure()\n",
    "pl = all_sizes.T.plot(kind='bar', rot=70,figsize=(10,10))#, #xticks=list(df_unzipped.columns),)\n",
    "pl.set_title(\"Raw Objects Size\")\n",
    "pl.set_ylabel(\"kByte\")\n",
    "#df_comp_ratio.T.plot(kind='bar')"
   ]
  },
  {
   "cell_type": "code",
   "execution_count": null,
   "metadata": {
    "collapsed": false,
    "deletable": true,
    "editable": true
   },
   "outputs": [],
   "source": [
    "#df_comp_ratio.drop(\"total_size_on_disk\", axis=1, inplace=True)\n",
    "df_comp_ratio.columns = [cn.replace(\"root_total_size_noPXD\", \"Total Size w/o PXD\") for cn in df_comp_ratio.columns]\n",
    "df_comp_ratio.columns = [cn.replace(\"root_total_size\", \"Total Size w. filtered PXD\") for cn in df_comp_ratio.columns]\n",
    "\n",
    "df_comp_ratio.T.plot(kind='bar', rot=70,figsize=(10,10))"
   ]
  }
 ],
 "metadata": {
  "kernelspec": {
   "display_name": "Python 3 (Belle2)",
   "language": "python",
   "name": "python3"
  },
  "language_info": {
   "codemirror_mode": {
    "name": "ipython",
    "version": 3
   },
   "file_extension": ".py",
   "mimetype": "text/x-python",
   "name": "python",
   "nbconvert_exporter": "python",
   "pygments_lexer": "ipython3",
   "version": "3.6.2"
  }
 },
 "nbformat": 4,
 "nbformat_minor": 2
}
