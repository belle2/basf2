{
 "cells": [
  {
   "cell_type": "code",
   "execution_count": 14,
   "metadata": {
    "collapsed": true,
    "deletable": true,
    "editable": true
   },
   "outputs": [],
   "source": [
    "from softwaretrigger import db_access\n",
    "from ROOT import Belle2\n",
    "from basf2 import *\n",
    "from testbeam.utils import *\n"
   ]
  },
  {
   "cell_type": "code",
   "execution_count": 15,
   "metadata": {
    "collapsed": false
   },
   "outputs": [],
   "source": [
    "# Setup local database\n",
    "setup_database()"
   ]
  },
  {
   "cell_type": "code",
   "execution_count": 16,
   "metadata": {
    "collapsed": true,
    "deletable": true,
    "editable": true
   },
   "outputs": [],
   "source": [
    "db_access.upload_cut_to_db(\n",
    "    Belle2.SoftwareTrigger.SoftwareTriggerCut.compile(\"nTracksLE >= 3 and VisibleEnergyLE > 2.5\"),\n",
    "    \"hlt\", \"accept_hadron\")\n",
    "\n",
    "db_access.upload_cut_to_db(\n",
    "    Belle2.SoftwareTrigger.SoftwareTriggerCut.compile(\"[nTracksLE >= 2 and nECLMatchTracksLE>=1 and \" +\n",
    "                                                      \"P1CMSBhabhaLE >= 3.0 and P12CMSBhabhaLE > 4.0 and \" +\n",
    "                                                      \"EC1CMSLE > 2.0 and maxAngleTTLE > 2.793] or \" +\n",
    "                                                      \"[nTracksLE >= 1 and P1CMSBhabhaLE >= 3.0 and \" + \n",
    "                                                      \"AngleGTLE > 2.618 and ENeutralLE > 2.0]\"),\n",
    "    \"hlt\", \"accept_bhabha\")\n",
    "\n",
    "db_access.upload_cut_to_db(\n",
    "    Belle2.SoftwareTrigger.SoftwareTriggerCut.compile(\"nTracksLE >= 2 and P1CMSBhabhaLE < 5.0 and \"\n",
    "                                                      \"EtotLE < 9.0 and VisibleEnergyLE < 9.0\"),\n",
    "    \"hlt\", \"accept_tau_tau\")\n",
    "\n",
    "db_access.upload_cut_to_db(\n",
    "    Belle2.SoftwareTrigger.SoftwareTriggerCut.compile(\"5 >= nTracksLE >= 2 and P1CMSBhabhaLE < 5.0 and P12CMSBhabhaLE < 9.0\"),\n",
    "    \"hlt\", \"accept_2_tracks\")\n",
    "\n",
    "db_access.upload_cut_to_db(\n",
    "    Belle2.SoftwareTrigger.SoftwareTriggerCut.compile(\"2 >= nTracksLE >= 1 and ENeutralLE > 1.0 and AngleGTLE > 0.785 and nEidLE == 0\"),\n",
    "    \"hlt\", \"accept_1_track1_cluster\")\n",
    "\n",
    "db_access.upload_cut_to_db(\n",
    "    Belle2.SoftwareTrigger.SoftwareTriggerCut.compile(\"[nTracksLE >= 2 and P12CMSBhabhaLE > 4.0 and P1CMSBhabhaLE > 3.0 and EC12CMSLE < 2] or \" + \n",
    "                                                      \"[nTracksLE == 1 and P1CMSBhabhaLE > 3.0 and nEidLE == 0]\"),\n",
    "    \"hlt\", \"accept_mu_mu\")\n",
    "\n",
    "db_access.upload_cut_to_db(\n",
    "    Belle2.SoftwareTrigger.SoftwareTriggerCut.compile(\"nTracksLE<=1 and nEidLE == 0 and EC12CMSLE > 4 and EC1CMSLE > 2\"),\n",
    "    \"hlt\", \"accept_gamma_gamma\")"
   ]
  }
 ],
 "metadata": {
  "kernelspec": {
   "display_name": "Python 3",
   "language": "python",
   "name": "python3"
  },
  "language_info": {
   "codemirror_mode": {
    "name": "ipython",
    "version": 3
   },
   "file_extension": ".py",
   "mimetype": "text/x-python",
   "name": "python",
   "nbconvert_exporter": "python",
   "pygments_lexer": "ipython3",
   "version": "3.5.2"
  }
 },
 "nbformat": 4,
 "nbformat_minor": 1
}
