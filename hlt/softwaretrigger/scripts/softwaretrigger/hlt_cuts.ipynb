{
 "cells": [
  {
   "cell_type": "code",
   "execution_count": null,
   "metadata": {
    "collapsed": false,
    "deletable": true,
    "editable": true
   },
   "outputs": [],
   "source": [
    "%load_ext autoreload\n",
    "%autoreload 2\n",
    "from softwaretrigger import db_access\n",
    "from ROOT import Belle2"
   ]
  },
  {
   "cell_type": "markdown",
   "metadata": {},
   "source": [
    "# Cuts"
   ]
  },
  {
   "cell_type": "markdown",
   "metadata": {},
   "source": [
    "### Check which cuts are currently in the database"
   ]
  },
  {
   "cell_type": "code",
   "execution_count": null,
   "metadata": {
    "collapsed": true
   },
   "outputs": [],
   "source": [
    "def print_cut_information(base_identifier, cut_identifier):\n",
    "    cut = db_access.download_cut_from_db(base_identifier, cut_identifier)\n",
    "    print(\"Base Identifier:\", base_identifier + \",\", \"Cut Identifier:\", cut_identifier)\n",
    "    print(\"  Cut:\", cut.decompile())\n",
    "    print(\"  Pre Scale:\", list(cut.getPreScaleFactor()))\n",
    "    print(\"  Reject Cut:\", cut.isRejectCut())"
   ]
  },
  {
   "cell_type": "code",
   "execution_count": null,
   "metadata": {
    "collapsed": false
   },
   "outputs": [],
   "source": [
    "for base_identifier, cut_identifier in db_access.get_all_cuts_in_database():\n",
    "    print_cut_information(base_identifier, cut_identifier)"
   ]
  },
  {
   "cell_type": "markdown",
   "metadata": {},
   "source": [
    "### How to upload/edit cuts in the database"
   ]
  },
  {
   "cell_type": "code",
   "execution_count": null,
   "metadata": {
    "collapsed": false,
    "deletable": true,
    "editable": true
   },
   "outputs": [],
   "source": [
    "db_access.upload_cut_to_db(\"test\", \"some_cut\", \"nTracksLE >= 3 and VisibleEnergyLE > 2.5\")"
   ]
  },
  {
   "cell_type": "markdown",
   "metadata": {},
   "source": [
    "# Trigger Menu"
   ]
  },
  {
   "cell_type": "markdown",
   "metadata": {},
   "source": [
    "### Check which menus are currently in the DB"
   ]
  },
  {
   "cell_type": "code",
   "execution_count": null,
   "metadata": {
    "collapsed": false
   },
   "outputs": [],
   "source": [
    "def print_menu_information(base_identifier):\n",
    "    trigger_menu = db_access.download_trigger_menu_from_db(base_identifier)\n",
    "    print(\"Base Identifier:\", base_identifier)\n",
    "    print(\"  Cuts:\", list(trigger_menu.getCutIdentifiers()))\n",
    "    print(\"  AcceptMode:\", trigger_menu.isAcceptMode())"
   ]
  },
  {
   "cell_type": "code",
   "execution_count": null,
   "metadata": {
    "collapsed": true
   },
   "outputs": [],
   "source": [
    "for base_identifier, cut_identifier in db_access.get_all\n",
    "    print_cut_information(base_identifier, cut_identifier)"
   ]
  },
  {
   "cell_type": "markdown",
   "metadata": {},
   "source": [
    "### How to upload/edit trigger menus in the database"
   ]
  },
  {
   "cell_type": "code",
   "execution_count": null,
   "metadata": {
    "collapsed": true
   },
   "outputs": [],
   "source": [
    "db_access.upload_trigger_menu_to_db(\"fast_reco\", [\"reject_ee\", \"accept_ee\", \"reject_bkg\"], True)\n",
    "db_access.upload_trigger_menu_to_db(\"hlt\", [\"accept_hadron\", \"accept_tau_tau\", \"accept_2_tracks\", \"accept_1_track1_cluster\",\n",
    "            \"accept_mumu_2trk\", \"accept_mumu_1trk\", \"accept_single_photon\"], False)\n",
    "db_access.upload_trigger_menu_to_db(\"calib\", [\"accept_ee\", \"accept_gee\", \"accept_mumu\", \"accept_gmumu\", \"accept_gg_ee\", \"accept_gg_4pi\",\n",
    "              \"accept_D0_Kpi\", \"accept_Dstar\", \"accept_Xi_piLambda\", \"accept_test\",\n",
    "              \"accept_dqm_D0\", \"accept_dqm_Dplus\", \"accept_dqm_Dstar\",\n",
    "              \"accept_dqm_Jpsiee\", \"accept_dqm_Jpsimumu\"], False)"
   ]
  }
 ],
 "metadata": {
  "kernelspec": {
   "display_name": "Python 3",
   "language": "python",
   "name": "python3"
  },
  "language_info": {
   "codemirror_mode": {
    "name": "ipython",
    "version": 3
   },
   "file_extension": ".py",
   "mimetype": "text/x-python",
   "name": "python",
   "nbconvert_exporter": "python",
   "pygments_lexer": "ipython3",
   "version": "3.5.2"
  }
 },
 "nbformat": 4,
 "nbformat_minor": 1
}
