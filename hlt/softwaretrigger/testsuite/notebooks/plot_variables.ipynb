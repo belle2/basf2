{
 "cells": [
  {
   "cell_type": "code",
   "execution_count": null,
   "metadata": {
    "collapsed": true,
    "deletable": true,
    "editable": true
   },
   "outputs": [],
   "source": [
    "import pickle\n",
    "import pandas\n",
    "from glob import glob\n",
    "import os\n",
    "import gzip\n",
    "import configparser\n",
    "import matplotlib\n",
    "import shutil\n",
    "import matplotlib.pyplot as plt\n",
    "%matplotlib inline\n",
    "\n",
    "font = {'family' : 'normal',\n",
    "        'size'   : 18}\n",
    "\n",
    "matplotlib.rc('font', **font)\n",
    "\n",
    "# show all columns in outputs\n",
    "pandas.set_option('display.max_columns', None)\n",
    "pandas.set_option('display.max_rows',None)"
   ]
  },
  {
   "cell_type": "code",
   "execution_count": null,
   "metadata": {
    "collapsed": false,
    "deletable": true,
    "editable": true
   },
   "outputs": [],
   "source": [
    "# set storage location\n",
    "output_folder = \"../output2\"\n",
    "abs_storage_location = os.path.abspath(output_folder)\n",
    "\n",
    "# here the used shift paramters get stored\n",
    "shift_parameters = []\n",
    "shift_values = {}\n",
    "\n",
    "# get channels\n",
    "channels = os.listdir(abs_storage_location)\n",
    "print(\"channels which are studied: \", channels)"
   ]
  },
  {
   "cell_type": "code",
   "execution_count": null,
   "metadata": {
    "collapsed": false,
    "deletable": true,
    "editable": true
   },
   "outputs": [],
   "source": [
    "# get all pickle files for each channel and merge them\n",
    "# generate dict with channel linked to DataFrame\n",
    "variables = {}\n",
    "\n",
    "for channel in channels:\n",
    "    \n",
    "    channel_path = os.path.join(abs_storage_location, channel)\n",
    "    analysed_path = os.path.join(channel_path, \"analysed\")\n",
    "    \n",
    "    variables_df = []\n",
    "    \n",
    "    for input_file in glob(os.path.join(analysed_path, \"*variables.pkl\")):\n",
    "        input_path = os.path.join(analysed_path, input_file)\n",
    "        \n",
    "        variables_pkl = pandas.read_pickle(input_path)\n",
    "        variables_df.append(pandas.DataFrame.from_dict(variables_pkl))\n",
    "        \n",
    "    variables_all_df = pandas.concat(variables_df,ignore_index=True)\n",
    "    variables.update({channel : variables_all_df})\n",
    "    \n",
    "    # get the shift parameters\n",
    "    for item, row in variables[channel].iterrows():\n",
    "        shift_param = row['shift_parameter']\n",
    "        if not shift_param in shift_parameters:\n",
    "            shift_parameters.append(shift_param)\n",
    "            \n",
    "    # get the values for every shift parameter\n",
    "    for shift in shift_parameters:\n",
    "        shift_val = []\n",
    "        for item, row in variables[channel].iterrows():\n",
    "            if row['shift_parameter'] == shift and row['shift_value'] not in shift_val:\n",
    "                shift_val.append(row['shift_value'])\n",
    "        \n",
    "        shift_values.update({shift : shift_val})\n",
    "\n",
    "print('shifts which where studied: ', shift_values)"
   ]
  },
  {
   "cell_type": "code",
   "execution_count": null,
   "metadata": {
    "collapsed": false,
    "deletable": true,
    "editable": true
   },
   "outputs": [],
   "source": [
    "# generate plots\n",
    "for channel in channels:\n",
    "    \n",
    "    # generate the plots folder in the channel output directory\n",
    "    channel_path = os.path.join(abs_storage_location, channel)\n",
    "    plot_path = os.path.join(channel_path, \"plots\")\n",
    "    if not os.path.exists(plot_path):\n",
    "        os.makedirs(plot_path)\n",
    "    \n",
    "    # loop over all variables in the data frame, exclude the variables connected to the shift parameters\n",
    "    # todo: possible for all variables, but only interested in fastReco variables at the moment\n",
    "    #variables_studied = [variable for variable in variables[channel].columns \n",
    "    #                     if not \"shift\" in variable]\n",
    "    variables_studied = [variable for variable in variables[channel].columns \n",
    "                         if \"fast_reco\" in variable]\n",
    "    \n",
    "    for variable in variables_studied:\n",
    "        for shift_param in shift_parameters:\n",
    "\n",
    "            shift_vals = shift_values[shift_param]\n",
    "            \n",
    "            # setup the binning and the limits for the plots out of the data\n",
    "            max_value = variables[channel][variable].max() + 0.5\n",
    "            min_value = variables[channel][variable].min() - 0.5\n",
    "            hist_range = (min_value, max_value)\n",
    "            \n",
    "            if \"number\" in variable:\n",
    "                hist_bins = int(max_value - min_value)\n",
    "            else:\n",
    "                hist_bins = 50\n",
    "            \n",
    "            plt.figure(figsize=(10,10))\n",
    "            for value in shift_vals:\n",
    "\n",
    "                variable_df = variables[channel]\n",
    "                variable_ws_df = variable_df[(variable_df.shift_parameter == shift_param) &\n",
    "                                            (variable_df.shift_value == value)]\n",
    "                \n",
    "                plt.hist(variable_ws_df[variable],\n",
    "                         bins=hist_bins,\n",
    "                         range=hist_range,\n",
    "                         histtype='step',\n",
    "                         label=str(value),\n",
    "                         lw=2)\n",
    "            \n",
    "            plt.xlabel(variable)\n",
    "            plt.ylabel('Entries')\n",
    "            plt.title(channel)\n",
    "            plt.legend()\n",
    "            plt.tight_layout()\n",
    "            plot_file = os.path.join(plot_path, \"hist_{}_{}_{}.png\".format(channel, variable, shift_param))\n",
    "            plt.savefig(plot_file)\n",
    "            plt.clf()"
   ]
  },
  {
   "cell_type": "code",
   "execution_count": null,
   "metadata": {
    "collapsed": true
   },
   "outputs": [],
   "source": []
  }
 ],
 "metadata": {
  "kernelspec": {
   "display_name": "Python 3 (Belle2)",
   "language": "python",
   "name": "python3"
  },
  "language_info": {
   "codemirror_mode": {
    "name": "ipython",
    "version": 3
   },
   "file_extension": ".py",
   "mimetype": "text/x-python",
   "name": "python",
   "nbconvert_exporter": "python",
   "pygments_lexer": "ipython3",
   "version": "3.6.2"
  }
 },
 "nbformat": 4,
 "nbformat_minor": 2
}
