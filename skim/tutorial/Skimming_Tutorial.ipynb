{
 "cells": [
  {
   "cell_type": "markdown",
   "metadata": {},
   "source": [
    "# Belle II Advanced Tutorial: Skimming"
   ]
  },
  {
   "cell_type": "markdown",
   "metadata": {},
   "source": [
    "Welcome to the jupyter notebook skimming tutorial. If you are unfamiliar with jupyter, the main thing you need to know is how to excecute the cells below - this is done by selecting the desired cell and pressing `Shift + Enter`."
   ]
  },
  {
   "cell_type": "markdown",
   "metadata": {},
   "source": [
    "This tutorial contains:\n",
    "1. [What are skims?](#Intro)\n",
    "1. [The structure of skims](#Structure)\n",
    "1. [How to create your own skim](#DiY)\n",
    "    1. [Run a sample script](#ExA)\n",
    "    1. [Determine your skim statistics](#ExB)\n",
    "    1. [Run on different generic backgrounds](#ExC)\n",
    "    1. [Skim Validation](#ExD)\n",
    "  "
   ]
  },
  {
   "cell_type": "markdown",
   "metadata": {},
   "source": [
    "### Imports"
   ]
  },
  {
   "cell_type": "code",
   "execution_count": 1,
   "metadata": {},
   "outputs": [
    {
     "data": {
      "text/html": [
       "<style>\n",
       "\n",
       "        #notebook {\n",
       "            background-color: rgba(20, 166, 255, 0.3);\n",
       "            background-image: url(\"http://www-ekp.physik.uni-karlsruhe.de/~nbraun/belle.svg\");\n",
       "            background-repeat: no-repeat;\n",
       "            background-position: right bottom;\n",
       "        }\n",
       "\n",
       "        #notebook-container {\n",
       "            width: 90%;\n",
       "        }\n",
       "\n",
       "        #menubar-container {\n",
       "            width: 90%;\n",
       "        }\n",
       "\n",
       "        #header-container {\n",
       "            width: 90%;\n",
       "        }\n",
       "        \n",
       "</style>"
      ],
      "text/plain": [
       "<IPython.core.display.HTML object>"
      ]
     },
     "metadata": {},
     "output_type": "display_data"
    }
   ],
   "source": [
    "# Wide style\n",
    "from ipython_tools import handler\n",
    "handler.style()"
   ]
  },
  {
   "cell_type": "markdown",
   "metadata": {},
   "source": [
    "### What are skims? <a name=\"Intro\"></a>"
   ]
  },
  {
   "cell_type": "markdown",
   "metadata": {},
   "source": [
    "The aim of a skim is to produce MC and data samples with a more manageable size. This:\n",
    "* reduces computing time.\n",
    "* makes files more analysis oriented.\n",
    "\n",
    "Eventually all analysts will be required to use skimmed data and MC. They will not have access to the original unskimmed files.\n",
    "\n",
    "Information about each skim is available at the [Skimming Homepage](https://confluence.desy.de/pages/viewpage.action?spaceKey=BI&title=Skimming+Homepage)\n",
    "\n",
    "The requirements for each skim must be chosen wisely. They must reduce the size of the data samples without constraining the analysis. \n",
    "Each skim must be submitted to the skimming coordinator for testing before full production"
   ]
  },
  {
   "cell_type": "markdown",
   "metadata": {},
   "source": [
    "### Skim Structure <a name=\"Structure\"></a>"
   ]
  },
  {
   "cell_type": "markdown",
   "metadata": {},
   "source": [
    "**Format**: They are simple basf2 steering scripts that are usually written by the analyst or their skim liaison to meet their needs. \n",
    "\n",
    "**Output**: skimmed files are produced as uDST files, containing particle reconstruction information."
   ]
  },
  {
   "cell_type": "markdown",
   "metadata": {},
   "source": [
    "## How to create your own skim <a name=\"DiY\"></a>"
   ]
  },
  {
   "cell_type": "markdown",
   "metadata": {},
   "source": [
    "A skimming script for a specific analysis usually consists of two scripts:\n",
    "`standalone/YourSkimName_Skim_Standalone.py` - a file that calls the necessary particle lists and declares the input and output files.\n",
    "`scripts/skim/skimType.py` - a file that contains the definition of the particle lists you want to form and the associated cuts. You will likely be able to add your definition to an existing file (see later).\n",
    "\n",
    "Code that you may find useful:\n",
    "\n",
    "* Standard Particle Lists : [stdCharged.py](https://stash.desy.de/projects/B2/repos/software/browse/analysis/scripts/stdCharged.py)\n",
    "* Standard Photon List: [stdPhotons.py](https://stash.desy.de/projects/B2/repos/software/browse/analysis/scripts/stdPhotons.py)\n",
    "* Standard Pi0 List: [stdPi0s.py](https://stash.desy.de/projects/B2/repos/software/browse/analysis/scripts/stdPi0s.py)\n",
    "* Standard Ks List: [stdVOs.py](https://stash.desy.de/projects/B2/repos/software/browse/analysis/scripts/stdV0s.py)\n",
    "* Standard Kl List: [stdKlongs.py](https://stash.desy.de/projects/B2/repos/software/browse/analysis/scripts/stdKlongs.py)"
   ]
  },
  {
   "cell_type": "markdown",
   "metadata": {},
   "source": [
    "### Excercise 1: Run a sample script <a name=\"ExA\"></a>"
   ]
  },
  {
   "cell_type": "markdown",
   "metadata": {},
   "source": [
    "Create a development setup of basf2 in your preferred workspace according to the instructions on [Sphinx](https://b2-master.belle2.org/software/development/sphinx/build/tools_doc/index-01-tools.html#development-setup). If this link is out of date, you should be able to find the instructions through a simple Sphinx search.\n",
    "\n",
    "After following these instructions you should have a new basf2 installation in a folder called `development/` (or whatever you have named it)."
   ]
  },
  {
   "cell_type": "markdown",
   "metadata": {},
   "source": [
    "Make sure to compile your code before trying to do anything. This is done by running the command `scons`.\n",
    "If you make any changes within `development/`, you will need to recompile again."
   ]
  },
  {
   "cell_type": "markdown",
   "metadata": {},
   "source": [
    "Firstly, go to `development/skims`, and take a look around. As you work more with skims you'll use more of what's available in the package."
   ]
  },
  {
   "cell_type": "markdown",
   "metadata": {},
   "source": [
    "For a beginner, however, the important directories are `standalone/` and `scripts/skim/`. "
   ]
  },
  {
   "cell_type": "markdown",
   "metadata": {},
   "source": [
    "Let's take a look at our first script, for example `standalone/ALP3Gamma_Skim_Standalone.py`.\n",
    "With the Standalone script, the important analysis tools and scripts are loaded, the input and output files are specified, and the statistics are printed. Read through the code and try to understand the steps."
   ]
  },
  {
   "cell_type": "markdown",
   "metadata": {},
   "source": [
    "Now let's take a look at the particle lists script stored in `scripts/skim/`. The relevant one for the example standalone file is `dark.py` (you can see that it is called within the standalone script).\n",
    "\n",
    "In the list script, you specify the type of cuts or particle lists that you want.  It is best to start with loose requirements and tighten them in the analysis stage."
   ]
  },
  {
   "cell_type": "markdown",
   "metadata": {},
   "source": [
    "Now let's run over a sample number of events. When testing skims, we only need small samples.\n",
    "\n",
    "(When doing this in your command line you do not need the `!`)"
   ]
  },
  {
   "cell_type": "code",
   "execution_count": 2,
   "metadata": {
    "scrolled": true
   },
   "outputs": [
    {
     "name": "stdout",
     "output_type": "stream",
     "text": [
      "[INFO] Steering file: /home/belle2/hmwakel/skimming/development/skim/standalone/ALP3Gamma_Skim_Standalone.py\n",
      "\u001b[m[INFO] Adding new particle 'beam' (pdg=55, mass=999 GeV, width=999 GeV, charge=0, spin=0)\n",
      "\u001b[m[INFO] Adding new particle 'ALP' (pdg=9000006, mass=999 GeV, width=999 GeV, charge=0, spin=0)\n",
      "\u001b[mALP:0 -> gamma:cdcAndMinimumEnergy  gamma:cdcAndMinimumEnergy\n",
      "beam:0 -> gamma:minimumEnergy ALP:0\n",
      "[INFO] Starting event processing, random seed is set to '2799e6b056f84c75623af838cee9d163488d9a104c18ac78e1be1fa2736f9baa'\n",
      "\u001b[m[INFO] Added file /ghi/fs01/belle2/bdata/MC/release-03-01-00/DB00000547/MC12b/prod00007392/s00/e1003/4S/r00000/mixed/mdst/sub00/mdst_000141_prod00007392_task10020000141.root\n",
      "\u001b[m[INFO] ParticleLoader's Summary of Actions:\n",
      "\u001b[m[INFO]  o) creating (anti-)ParticleList with name: gamma:cdcAndMinimumEnergy (gamma:cdcAndMinimumEnergy)\n",
      "\u001b[m[INFO]    -> MDST source: ECLClusters\n",
      "\u001b[m[INFO]    -> With cuts  : E >= 0.1 and theta >= 0.297 and theta <= 2.618\n",
      "\u001b[m[INFO] ParticleLoader's Summary of Actions:\n",
      "\u001b[m[INFO]  o) creating (anti-)ParticleList with name: gamma:minimumEnergy (gamma:minimumEnergy)\n",
      "\u001b[m[INFO]    -> MDST source: ECLClusters\n",
      "\u001b[m[INFO]    -> With cuts  : E >= 0.1\n",
      "\u001b[m[INFO] Number of ParticleLists studied 1 \n",
      "\u001b[m\u001b[33m[WARNING] The branch ECLClustersToTracksNamedBremsstrahlung given in branchNames does not exist.  { module: RootOutput }\n",
      "\u001b[m[INFO] Number of ParticleLists studied 1 \n",
      "\u001b[m[INFO] Conditions Database: found working server\n",
      "\turl = http://belle2db.sdcc.bnl.gov/b2s/rest/\n",
      "\u001b[m[INFO] Conditions data: configured globaltags (highest priority first) are release-03-01-00_rev3, Legacy_IP_Information\n",
      "[INFO] ParticleStats Summary: ====================>]  99% 1s remaining                     \n",
      "\n",
      "\u001b[m[INFO] =======================================================================\n",
      "\t\t\t|Retention|\t    0| Unique \n",
      "        beam:0( 0)\t|\t0.0000\t1.0000\t0.0000\n",
      "\n",
      "\u001b[m[INFO] \n",
      "======================================================================\n",
      " Average Candidate Multiplicity (ACM) and ACM for Passed Events (ACMPE) \n",
      "\t\t\t| All Particles \t\t| Particles     \t\t| AntiParticles \t\t\n",
      "\t\t\t| ACM\t\t| ACMPE\t\t| ACM\t\t| ACMPE\t\t| ACM\t\t| ACMPE \n",
      "        beam:0( 0)\t|\t  0.0000\t    -nan\t  0.0000\t    -nan\t  0.0000\t    -nan\t  0.0000\t    -nan\n",
      "\n",
      "\u001b[m[INFO] \n",
      "=======================================================\n",
      "Total Retention: 0.0000\n",
      "Total Number of Particles created in the DataStore: 16752102\n",
      "=======================================================\n",
      "\n",
      "\u001b[m[INFO] RemoveParticlesNotInLists: removed 0 Particles (-nan % of total amount).\n",
      "\u001b[m[INFO] SkimFilter Summary: \n",
      "\n",
      "\u001b[m[INFO] \n",
      "=======================================================\n",
      "Total Retention: 0.0000\n",
      "\n",
      "=======================================================\n",
      "\n",
      "\u001b[m\n",
      "[INFO] ================================================================================\n",
      "\u001b[m[INFO] Error summary: 0 errors and 1 warnings occurred.\n",
      "\u001b[m\u001b[33m[WARNING] The branch ECLClustersToTracksNamedBremsstrahlung given in branchNames does not exist.\n",
      "\u001b[m[INFO] ================================================================================\n",
      "\n",
      "\u001b[m==========================================================================================================================================\n",
      "Name                                                                           |      Calls | Memory(MB) |    Time(s) |     Time(ms)/Call\n",
      "==========================================================================================================================================\n",
      "RootInput                                                                      |     200001 |         89 |      63.91 |    0.32 +-   2.60\n",
      "ProgressBar                                                                    |     200000 |          2 |       2.43 |    0.01 +-   0.01\n",
      "ParticleLoader_gamma:cdcAndMinimumEnergy                                       |     200000 |         -7 |      37.38 |    0.19 +-   5.03\n",
      "ParticleCombiner_ALP:0 -> gamma:cdcAndMinimumEnergy  gamma:cdcAndMinimumEnergy |     200000 |         -8 |      20.02 |    0.10 +-   0.06\n",
      "ParticleLoader_gamma:minimumEnergy                                             |     200000 |        -11 |      26.91 |    0.13 +-   0.04\n",
      "ParticleCombiner_beam:0 -> gamma:minimumEnergy ALP:0                           |     200000 |        -40 |      86.28 |    0.43 +-   0.50\n",
      "SkimFilter_18020300                                                            |     200000 |         -2 |       2.44 |    0.01 +-   0.00\n",
      "SwitchDataStore ('' -> 'skim_18020300')                                        |          0 |          0 |       0.00 |    0.00 +-   0.00\n",
      "RemoveParticlesNotInLists                                                      |          0 |          0 |       0.00 |    0.00 +-   0.00\n",
      "RootOutput                                                                     |          0 |          0 |       0.00 |    0.00 +-   0.00\n",
      "SwitchDataStore ('' <- 'skim_18020300')                                        |          0 |          0 |       0.00 |    0.00 +-   0.00\n",
      "ParticleStats                                                                  |     200000 |         -1 |       2.49 |    0.01 +-   0.00\n",
      "==========================================================================================================================================\n",
      "Total                                                                          |     200001 |          8 |     284.03 |    1.42 +-   5.71\n",
      "==========================================================================================================================================\n",
      "\n"
     ]
    }
   ],
   "source": [
    "!basf2 ~/skimming/development/skim/standalone/ALP3Gamma_Skim_Standalone.py –n 100 \n",
    "#Change this to your directory if you need to!"
   ]
  },
  {
   "cell_type": "markdown",
   "metadata": {},
   "source": [
    "##### Congratulations!\n",
    "\n",
    "You just ran your first skim script. Feel free to up the number of sampled particles but be aware that this will take much longer."
   ]
  },
  {
   "cell_type": "markdown",
   "metadata": {},
   "source": [
    "### Exercise B: Determine your skim statistics <a name=\"ExB\"></a>"
   ]
  },
  {
   "cell_type": "markdown",
   "metadata": {},
   "source": [
    "Your skim script will have output a `.root` file. You now want to analyse the printed output to ensure your skim will qualify for the skim package.\n",
    "\n",
    "Important factors to look for:\n",
    "\n",
    "* **Retention Rate**: fraction of events that survive the skim. Retention rate is required to be around 10% for a skim to qualify.\n",
    "* **Average Candidate multiplicity**: Number of candidates per event. \n",
    "* **Processing time per event**\n",
    "* **Size of output uDST files**.\n",
    "\n",
    "\n",
    "Look for retention rate, average candidate multiplicity, and processing time in the output of `ALP3Gamma_Skim_Standalone.py`."
   ]
  },
  {
   "cell_type": "markdown",
   "metadata": {},
   "source": [
    "This can be done by reading the results printed once your script has finished. A handy thing to do is to store the output of the script in the text file."
   ]
  },
  {
   "cell_type": "code",
   "execution_count": 1,
   "metadata": {},
   "outputs": [],
   "source": [
    "!basf2 ALP3Gamma_Skim_Standalone.py –n 10 > output.txt"
   ]
  },
  {
   "cell_type": "markdown",
   "metadata": {},
   "source": [
    "Now you can work on improving the retention rate. Take a look at PID requirements, mass cuts, deltaE cuts and see if there are some generic cuts that would improve the retention rate without cutting out physics for those that would use your skim."
   ]
  },
  {
   "cell_type": "markdown",
   "metadata": {},
   "source": [
    "### Exercise C: Test your skim on generic MC and data <a name=\"ExC\"></a>"
   ]
  },
  {
   "cell_type": "markdown",
   "metadata": {},
   "source": [
    "Now, test your skim on a small subset of generic backgrounds on a recent MC running `b2skim-stats-submit -s your_skim_name` _within_ the skim directory. This command runs over 10,000 events for each of the generic MC and certain data collections.\n",
    "\n",
    "Once your skim has finished running on the different types of MC and data (you can check to see whether your jobs have finished runnning on kekcc through `bjobs`), you can determine the skim statistics by running `b2skim-stats-print -s your_skim_name` and can even add the `-C` option to print out to a Confluence friendly table."
   ]
  },
  {
   "cell_type": "markdown",
   "metadata": {},
   "source": [
    "Each approved and used skim has to be tested on the various background types, validated with data and the statistics should be made available via the Skimming Homepage."
   ]
  },
  {
   "cell_type": "markdown",
   "metadata": {},
   "source": [
    "### Exercise D: Skim Validation <a name=\"ExD\"></a>"
   ]
  },
  {
   "cell_type": "markdown",
   "metadata": {},
   "source": [
    "It is important to check our skims for each build of the software. Go to `validation/` and look at the structure within. There is an automatic nightly build validation that must be set up for each skim.\n",
    "\n",
    "3 scripts are required per skim in the validation directory: \n",
    "\n",
    "* `test0_myScript.py` ==> this is used to generate a SIGNAL mode that will have a high survival rate in the skim to be tested. \n",
    "\n",
    "* `test1_myScript.py` ==> this is used to run the skim on the .mdst produced by `test0_myScript.py` and produce the output .udst\n",
    "\n",
    "* `test2_myScript.py` ==> this is used to run on the output .udst produced by `test1_myScript.py` and  make at least 3-4 plots of important variables that will be used for validation. \n",
    "\n",
    "Use the current scripts as examples to write your own.\n",
    "\n",
    "Once this skim is accepted into the skim package, the output `.root` file produced using `test2_myScript.py` should also be pushed to the validation directory as a reference file."
   ]
  },
  {
   "cell_type": "markdown",
   "metadata": {},
   "source": [
    "That's it! Thank you for your interest and involvement in developing skims. If you have any feedback or questions about the skimming tutorial, please contact [hannah.wakeling@mail.mcgill.ca](hannah.wakeling@mail.mcgill.ca)."
   ]
  },
  {
   "cell_type": "code",
   "execution_count": null,
   "metadata": {},
   "outputs": [],
   "source": []
  }
 ],
 "metadata": {
  "kernelspec": {
   "display_name": "Python 3 (Belle2)",
   "language": "python",
   "name": "python3"
  },
  "language_info": {
   "codemirror_mode": {
    "name": "ipython",
    "version": 3
   },
   "file_extension": ".py",
   "mimetype": "text/x-python",
   "name": "python",
   "nbconvert_exporter": "python",
   "pygments_lexer": "ipython3",
   "version": "3.6.9"
  }
 },
 "nbformat": 4,
 "nbformat_minor": 2
}
