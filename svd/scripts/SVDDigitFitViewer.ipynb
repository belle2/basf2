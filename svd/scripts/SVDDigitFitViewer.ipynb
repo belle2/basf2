{
 "cells": [
  {
   "cell_type": "markdown",
   "metadata": {
    "deletable": true,
    "editable": true
   },
   "source": [
    "## Plot results of training of a SVDTime Neural Network\n",
    "\n",
    "This notebook displays the results of time fits for digit produced by the SVD digitizer.\n",
    "The digits are collected using the SVDFitDigitsModule, and its output is imported and shown here. "
   ]
  },
  {
   "cell_type": "markdown",
   "metadata": {
    "deletable": true,
    "editable": true
   },
   "source": [
    "##### Required Python packages\n",
    "\n",
    "The following python packages are used:\n",
    "- math (basic python math functions)\n",
    "- numpy (Vectors and matrices for numerics)\n",
    "- pandas (Python analogue of Excel tables)\n",
    "- matplotlib (Plotting library)\n",
    "- seaborn (Advanced plotting)\n",
    "- scipy (Scientific computing package)\n",
    "- scikit-learn (machine learning)\n",
    "\n",
    "If you get an error message complaining about a missing package, do\n",
    "\n",
    "pip3 install *_package name_*\n",
    "\n",
    "##### Other pre-requisites:\n",
    "\n",
    "A sample of training data, plus binning and bounds information in pickle (*.pkl) files."
   ]
  },
  {
   "cell_type": "code",
   "execution_count": 2,
   "metadata": {
    "collapsed": false,
    "deletable": true,
    "editable": true
   },
   "outputs": [
    {
     "data": {
      "application/javascript": [
       "\n",
       "require(['notebook'],\n",
       "  function() {\n",
       "    IPython.CodeCell.config_defaults.highlight_modes['magic_text/x-c++src'] = {'reg':[/^%%cpp/]};\n",
       "    console.log(\"JupyROOT - %%cpp magic configured\");\n",
       "  }\n",
       ");\n"
      ]
     },
     "metadata": {},
     "output_type": "display_data"
    },
    {
     "name": "stdout",
     "output_type": "stream",
     "text": [
      "Welcome to JupyROOT 6.08/06\n"
     ]
    }
   ],
   "source": [
    "import math\n",
    "import datetime\n",
    "import numpy as np\n",
    "import pandas as pd\n",
    "%matplotlib inline\n",
    "import matplotlib.pyplot as plt\n",
    "from matplotlib import pylab\n",
    "import seaborn as sns\n",
    "from scipy import stats as stats\n",
    "from scipy.optimize import minimize_scalar\n",
    "from svd.SVDSimBase import *"
   ]
  },
  {
   "cell_type": "markdown",
   "metadata": {
    "deletable": true,
    "editable": true
   },
   "source": [
    "### Retrieve dumped digit fits"
   ]
  },
  {
   "cell_type": "code",
   "execution_count": 3,
   "metadata": {
    "collapsed": false,
    "deletable": true,
    "editable": true
   },
   "outputs": [],
   "source": [
    "digit_fit_filename = '../../SVDFittedDigits.txt'\n",
    "\n",
    "fitdata = pd.read_csv(digit_fit_filename, sep = '\\t')\n",
    "\n",
    "pkl_name = 'SVDTime_TrainingBins_100000.pkl'\n",
    "bins = pd.read_pickle(pkl_name)\n",
    "\n",
    "timearray = bins['midpoint']\n",
    "timebins = np.unique(bins[['lower','upper']])"
   ]
  },
  {
   "cell_type": "code",
   "execution_count": 4,
   "metadata": {
    "collapsed": false,
    "deletable": true,
    "editable": true,
    "scrolled": true
   },
   "outputs": [
    {
     "data": {
      "text/html": [
       "<div>\n",
       "<style>\n",
       "    .dataframe thead tr:only-child th {\n",
       "        text-align: right;\n",
       "    }\n",
       "\n",
       "    .dataframe thead th {\n",
       "        text-align: left;\n",
       "    }\n",
       "\n",
       "    .dataframe tbody tr th {\n",
       "        vertical-align: top;\n",
       "    }\n",
       "</style>\n",
       "<table border=\"1\" class=\"dataframe\">\n",
       "  <thead>\n",
       "    <tr style=\"text-align: right;\">\n",
       "      <th></th>\n",
       "      <th>Layer</th>\n",
       "      <th>Ladder</th>\n",
       "      <th>Sensor</th>\n",
       "      <th>Side</th>\n",
       "      <th>Strip</th>\n",
       "      <th>Sample_0</th>\n",
       "      <th>Sample_1</th>\n",
       "      <th>Sample_2</th>\n",
       "      <th>Sample_3</th>\n",
       "      <th>Sample_4</th>\n",
       "      <th>...</th>\n",
       "      <th>P_20</th>\n",
       "      <th>P_21</th>\n",
       "      <th>P_22</th>\n",
       "      <th>P_23</th>\n",
       "      <th>P_24</th>\n",
       "      <th>TimeFit</th>\n",
       "      <th>TimeFitError</th>\n",
       "      <th>Amplitude</th>\n",
       "      <th>AmplitudeError</th>\n",
       "      <th>Chi2</th>\n",
       "    </tr>\n",
       "  </thead>\n",
       "  <tbody>\n",
       "    <tr>\n",
       "      <th>0</th>\n",
       "      <td>3</td>\n",
       "      <td>5</td>\n",
       "      <td>2</td>\n",
       "      <td>u</td>\n",
       "      <td>700</td>\n",
       "      <td>0</td>\n",
       "      <td>0</td>\n",
       "      <td>17</td>\n",
       "      <td>35</td>\n",
       "      <td>34</td>\n",
       "      <td>...</td>\n",
       "      <td>0.000000</td>\n",
       "      <td>0.000000</td>\n",
       "      <td>0.000000</td>\n",
       "      <td>0.0</td>\n",
       "      <td>0.0</td>\n",
       "      <td>9.228710</td>\n",
       "      <td>2.72314</td>\n",
       "      <td>35.2797</td>\n",
       "      <td>1.33071</td>\n",
       "      <td>0.835786</td>\n",
       "    </tr>\n",
       "    <tr>\n",
       "      <th>1</th>\n",
       "      <td>3</td>\n",
       "      <td>5</td>\n",
       "      <td>2</td>\n",
       "      <td>u</td>\n",
       "      <td>701</td>\n",
       "      <td>0</td>\n",
       "      <td>0</td>\n",
       "      <td>12</td>\n",
       "      <td>29</td>\n",
       "      <td>28</td>\n",
       "      <td>...</td>\n",
       "      <td>0.000000</td>\n",
       "      <td>0.000000</td>\n",
       "      <td>0.000000</td>\n",
       "      <td>0.0</td>\n",
       "      <td>0.0</td>\n",
       "      <td>13.946300</td>\n",
       "      <td>2.85902</td>\n",
       "      <td>30.9229</td>\n",
       "      <td>1.34890</td>\n",
       "      <td>0.870517</td>\n",
       "    </tr>\n",
       "    <tr>\n",
       "      <th>2</th>\n",
       "      <td>3</td>\n",
       "      <td>5</td>\n",
       "      <td>2</td>\n",
       "      <td>v</td>\n",
       "      <td>567</td>\n",
       "      <td>0</td>\n",
       "      <td>0</td>\n",
       "      <td>12</td>\n",
       "      <td>50</td>\n",
       "      <td>67</td>\n",
       "      <td>...</td>\n",
       "      <td>0.497162</td>\n",
       "      <td>0.316527</td>\n",
       "      <td>0.180457</td>\n",
       "      <td>0.0</td>\n",
       "      <td>0.0</td>\n",
       "      <td>27.887500</td>\n",
       "      <td>3.87522</td>\n",
       "      <td>69.0723</td>\n",
       "      <td>1.39942</td>\n",
       "      <td>4.239370</td>\n",
       "    </tr>\n",
       "    <tr>\n",
       "      <th>3</th>\n",
       "      <td>4</td>\n",
       "      <td>8</td>\n",
       "      <td>2</td>\n",
       "      <td>u</td>\n",
       "      <td>427</td>\n",
       "      <td>0</td>\n",
       "      <td>0</td>\n",
       "      <td>20</td>\n",
       "      <td>25</td>\n",
       "      <td>24</td>\n",
       "      <td>...</td>\n",
       "      <td>0.000000</td>\n",
       "      <td>0.000000</td>\n",
       "      <td>0.000000</td>\n",
       "      <td>0.0</td>\n",
       "      <td>0.0</td>\n",
       "      <td>0.479326</td>\n",
       "      <td>3.21901</td>\n",
       "      <td>27.0457</td>\n",
       "      <td>1.05937</td>\n",
       "      <td>1.124310</td>\n",
       "    </tr>\n",
       "    <tr>\n",
       "      <th>4</th>\n",
       "      <td>4</td>\n",
       "      <td>8</td>\n",
       "      <td>2</td>\n",
       "      <td>u</td>\n",
       "      <td>428</td>\n",
       "      <td>0</td>\n",
       "      <td>0</td>\n",
       "      <td>11</td>\n",
       "      <td>35</td>\n",
       "      <td>33</td>\n",
       "      <td>...</td>\n",
       "      <td>0.000105</td>\n",
       "      <td>0.000000</td>\n",
       "      <td>0.000000</td>\n",
       "      <td>0.0</td>\n",
       "      <td>0.0</td>\n",
       "      <td>14.411200</td>\n",
       "      <td>1.92607</td>\n",
       "      <td>34.7240</td>\n",
       "      <td>1.09744</td>\n",
       "      <td>1.224450</td>\n",
       "    </tr>\n",
       "  </tbody>\n",
       "</table>\n",
       "<p>5 rows × 42 columns</p>\n",
       "</div>"
      ],
      "text/plain": [
       "   Layer  Ladder  Sensor Side  Strip  Sample_0  Sample_1  Sample_2  Sample_3  \\\n",
       "0      3       5       2    u    700         0         0        17        35   \n",
       "1      3       5       2    u    701         0         0        12        29   \n",
       "2      3       5       2    v    567         0         0        12        50   \n",
       "3      4       8       2    u    427         0         0        20        25   \n",
       "4      4       8       2    u    428         0         0        11        35   \n",
       "\n",
       "   Sample_4    ...         P_20      P_21      P_22  P_23  P_24    TimeFit  \\\n",
       "0        34    ...     0.000000  0.000000  0.000000   0.0   0.0   9.228710   \n",
       "1        28    ...     0.000000  0.000000  0.000000   0.0   0.0  13.946300   \n",
       "2        67    ...     0.497162  0.316527  0.180457   0.0   0.0  27.887500   \n",
       "3        24    ...     0.000000  0.000000  0.000000   0.0   0.0   0.479326   \n",
       "4        33    ...     0.000105  0.000000  0.000000   0.0   0.0  14.411200   \n",
       "\n",
       "   TimeFitError  Amplitude  AmplitudeError      Chi2  \n",
       "0       2.72314    35.2797         1.33071  0.835786  \n",
       "1       2.85902    30.9229         1.34890  0.870517  \n",
       "2       3.87522    69.0723         1.39942  4.239370  \n",
       "3       3.21901    27.0457         1.05937  1.124310  \n",
       "4       1.92607    34.7240         1.09744  1.224450  \n",
       "\n",
       "[5 rows x 42 columns]"
      ]
     },
     "execution_count": 4,
     "metadata": {},
     "output_type": "execute_result"
    }
   ],
   "source": [
    "fitdata.head()"
   ]
  },
  {
   "cell_type": "code",
   "execution_count": 5,
   "metadata": {
    "collapsed": false,
    "deletable": true,
    "editable": true
   },
   "outputs": [
    {
     "data": {
      "text/plain": [
       "Index(['Layer', 'Ladder', 'Sensor', 'Side', 'Strip', 'Sample_0', 'Sample_1',\n",
       "       'Sample_2', 'Sample_3', 'Sample_4', 'Sample_5', 'TrueTime', 'P_0',\n",
       "       'P_1', 'P_2', 'P_3', 'P_4', 'P_5', 'P_6', 'P_7', 'P_8', 'P_9', 'P_10',\n",
       "       'P_11', 'P_12', 'P_13', 'P_14', 'P_15', 'P_16', 'P_17', 'P_18', 'P_19',\n",
       "       'P_20', 'P_21', 'P_22', 'P_23', 'P_24', 'TimeFit', 'TimeFitError',\n",
       "       'Amplitude', 'AmplitudeError', 'Chi2'],\n",
       "      dtype='object')"
      ]
     },
     "execution_count": 5,
     "metadata": {},
     "output_type": "execute_result"
    }
   ],
   "source": [
    "fitdata.columns"
   ]
  },
  {
   "cell_type": "markdown",
   "metadata": {
    "deletable": true,
    "editable": true
   },
   "source": [
    "Load the classifier"
   ]
  },
  {
   "cell_type": "code",
   "execution_count": 6,
   "metadata": {
    "collapsed": false,
    "deletable": true,
    "editable": true
   },
   "outputs": [
    {
     "data": {
      "text/plain": [
       "41.468087719625657"
      ]
     },
     "execution_count": 6,
     "metadata": {},
     "output_type": "execute_result"
    }
   ],
   "source": [
    "import pickle\n",
    "with open('classifier.pkl', 'rb') as f:\n",
    "    classifier = pickle.load(f)\n",
    "    \n",
    "# the sample size of the network we want to use\n",
    "n_samples = 1000000\n",
    "pkl_name = 'SVDTime_Training{0}_{1}.pkl'\n",
    "\n",
    "bounds = pd.read_pickle(pkl_name.format('Bounds', n_samples))\n",
    "\n",
    "amp_range = (\n",
    "    bounds.loc[bounds.value == 'amplitude','low'].values[0],\n",
    "    bounds.loc[bounds.value == 'amplitude','high'].values[0]\n",
    ")\n",
    "tau_range =(\n",
    "    bounds.loc[bounds.value == 'tau','low'].values[0],\n",
    "    bounds.loc[bounds.value == 'tau','high'].values[0]\n",
    ")\n",
    "coder = tau_encoder(amp_range, tau_range)\n",
    "coder.encode(250)\n"
   ]
  },
  {
   "cell_type": "markdown",
   "metadata": {
    "deletable": true,
    "editable": true
   },
   "source": [
    "### Now that we have the time shifts and amplitudes, do some plotting.\n",
    "\n",
    "We want to know the errors and biases of time shifts and amplitudes provided by the network.\n",
    "We use two kind of plots - simple 2d histograms and contour plots. Both have their advantages and disadvantages. "
   ]
  },
  {
   "cell_type": "code",
   "execution_count": 7,
   "metadata": {
    "collapsed": false,
    "deletable": true,
    "editable": true,
    "scrolled": false
   },
   "outputs": [
    {
     "data": {
      "application/vnd.jupyter.widget-view+json": {
       "model_id": "9448293ff3124406be0ed375e4acf58a"
      }
     },
     "metadata": {},
     "output_type": "display_data"
    },
    {
     "data": {
      "text/plain": [
       "<function __main__.plot_data>"
      ]
     },
     "execution_count": 7,
     "metadata": {},
     "output_type": "execute_result"
    },
    {
     "data": {
      "image/png": "[encoded data removed]",
      "text/plain": [
       "<matplotlib.figure.Figure at 0x7fb36c368940>"
      ]
     },
     "metadata": {},
     "output_type": "display_data"
    },
    {
     "name": "stdout",
     "output_type": "stream",
     "text": [
      "Layer                       3\n",
      "Ladder                      5\n",
      "Sensor                      2\n",
      "Side                        u\n",
      "Strip                     700\n",
      "Sample_0                    0\n",
      "Sample_1                    0\n",
      "Sample_2                   17\n",
      "Sample_3                   35\n",
      "Sample_4                   34\n",
      "Sample_5                   23\n",
      "TrueTime             0.135739\n",
      "P_0                         0\n",
      "P_1                         0\n",
      "P_2                         0\n",
      "P_3                         0\n",
      "P_4                         0\n",
      "P_5                         0\n",
      "P_6                         0\n",
      "P_7                         0\n",
      "P_8                         0\n",
      "P_9                         0\n",
      "P_10                        0\n",
      "P_11                        0\n",
      "P_12                        0\n",
      "P_13                        0\n",
      "P_14                        0\n",
      "P_15               0.00227445\n",
      "P_16                 0.154009\n",
      "P_17                 0.715459\n",
      "P_18                 0.127601\n",
      "P_19              0.000656241\n",
      "P_20                        0\n",
      "P_21                        0\n",
      "P_22                        0\n",
      "P_23                        0\n",
      "P_24                        0\n",
      "TimeFit               9.22871\n",
      "TimeFitError          2.72314\n",
      "Amplitude             35.2797\n",
      "AmplitudeError        1.33071\n",
      "Chi2                 0.835786\n",
      "Name: 0, dtype: object\n"
     ]
    },
    {
     "name": "stderr",
     "output_type": "stream",
     "text": [
      "/home/kvasnicka/work/belle2_new/externals/v01-05-01/Linux_x86_64/common/lib/python3.6/site-packages/sklearn/utils/validation.py:395: DeprecationWarning: Passing 1d arrays as data is deprecated in 0.17 and will raise ValueError in 0.19. Reshape your data either using X.reshape(-1, 1) if your data has a single feature or X.reshape(1, -1) if it contains a single sample.\n",
      "  DeprecationWarning)\n"
     ]
    },
    {
     "data": {
      "image/png": "[encoded data removed]",
      "text/plain": [
       "<matplotlib.figure.Figure at 0x7fb37f27e780>"
      ]
     },
     "metadata": {},
     "output_type": "display_data"
    },
    {
     "name": "stdout",
     "output_type": "stream",
     "text": [
      "Layer                     3\n",
      "Ladder                    5\n",
      "Sensor                    2\n",
      "Side                      u\n",
      "Strip                   701\n",
      "Sample_0                  0\n",
      "Sample_1                  0\n",
      "Sample_2                 12\n",
      "Sample_3                 29\n",
      "Sample_4                 28\n",
      "Sample_5                 25\n",
      "TrueTime           0.135739\n",
      "P_0                       0\n",
      "P_1                       0\n",
      "P_2                       0\n",
      "P_3                       0\n",
      "P_4                       0\n",
      "P_5                       0\n",
      "P_6                       0\n",
      "P_7                       0\n",
      "P_8                       0\n",
      "P_9                       0\n",
      "P_10                      0\n",
      "P_11                      0\n",
      "P_12                      0\n",
      "P_13                      0\n",
      "P_14                      0\n",
      "P_15                      0\n",
      "P_16              0.0146744\n",
      "P_17               0.168842\n",
      "P_18               0.714694\n",
      "P_19               0.101789\n",
      "P_20                      0\n",
      "P_21                      0\n",
      "P_22                      0\n",
      "P_23                      0\n",
      "P_24                      0\n",
      "TimeFit             13.9463\n",
      "TimeFitError        2.85902\n",
      "Amplitude           30.9229\n",
      "AmplitudeError       1.3489\n",
      "Chi2               0.870517\n",
      "Name: 1, dtype: object\n"
     ]
    },
    {
     "name": "stderr",
     "output_type": "stream",
     "text": [
      "/home/kvasnicka/work/belle2_new/externals/v01-05-01/Linux_x86_64/common/lib/python3.6/site-packages/sklearn/utils/validation.py:395: DeprecationWarning: Passing 1d arrays as data is deprecated in 0.17 and will raise ValueError in 0.19. Reshape your data either using X.reshape(-1, 1) if your data has a single feature or X.reshape(1, -1) if it contains a single sample.\n",
      "  DeprecationWarning)\n"
     ]
    }
   ],
   "source": [
    "from ipywidgets import *\n",
    "\n",
    "def fitFromProb(fw, signals, p, tau, timearray):\n",
    "    t_fit = np.average(timearray, weights = p)\n",
    "    t_sigma = np.sqrt(np.average((timearray - t_fit)**2, weights = p))\n",
    "    weights = fw(-t_fit + np.linspace(-dt, 4*dt, 6, endpoint = True), tau = tau)\n",
    "    weights[signals.values == 0.0] = 0.0\n",
    "    norm = 1.0 / np.inner(weights, weights)\n",
    "    a_fit = np.inner(signals, weights) * norm\n",
    "    a_sigma = np.sqrt(norm)\n",
    "    residuals = signals - a_fit * weights\n",
    "    ndf = np.sum(np.ones_like(signals[signals>0])) - 2 # Can't be less than 1\n",
    "    chi2_ndf = np.inner(residuals, residuals)/ndf\n",
    "    return pd.Series({\n",
    "        't_fit':t_fit, \n",
    "        't_sigma':t_sigma, \n",
    "        'a_fit':a_fit, \n",
    "        'a_sigma':a_sigma,\n",
    "        'chi2_ndf':chi2_ndf\n",
    "            })\n",
    "\n",
    "def plot_data(irow):\n",
    "    '''\n",
    "    Given row number, plot signals, true waveform and fitted waveform, and plot probabilities.\n",
    "    '''\n",
    "    fig, axarr = plt.subplots(2, 1, sharex=False, sharey = False)\n",
    "    # The first plot is data\n",
    "    sample_times = np.linspace(-dt, 4*dt, 6, endpoint = True)\n",
    "    function_times = np.linspace(-dt, 4*dt, 100, endpoint = True)\n",
    "    samples = fitdata.loc[int(irow), ['Sample_{0}'.format(i) for i in range(6)]]\n",
    "    tau_fit = 250\n",
    "    # Let us fit using the python classifier\n",
    "    x = np.zeros(7)\n",
    "    x[0:6] = samples\n",
    "    x[6] = coder.encode(tau_fit)\n",
    "    x.reshape(1,-1)\n",
    "    p_py = classifier.predict_proba(x)\n",
    "    pyfit_result = fitFromProb(betaprime_wave, samples, p_py[0], tau_fit, timearray)\n",
    "    a_fitPy = pyfit_result['a_fit']\n",
    "    t_fitPy = pyfit_result['t_fit']\n",
    "    a_fit = fitdata.loc[int(irow), 'Amplitude']\n",
    "    t_fit = fitdata.loc[int(irow), 'TimeFit']\n",
    "    t_true = fitdata.loc[int(irow), 'TrueTime']\n",
    "    \n",
    "    axarr[0].scatter(sample_times,samples, c = 'b', marker = 'o', s=50, label = 'Data')\n",
    "    axarr[0].axvline(x = t_true, c = 'k', label = 'True')\n",
    "    axarr[0].plot(function_times, a_fit * betaprime_wave(function_times - t_fit, tau = tau_fit), \n",
    "                  c = 'r', label = 'Fit')\n",
    "    axarr[0].axvline(x = t_fit, c = 'r', label = 'C++ Fit')\n",
    "    axarr[0].plot(function_times, a_fitPy * betaprime_wave(function_times - t_fitPy, tau = tau_fit), \n",
    "                  c = 'b', label = 'Fit')\n",
    "    axarr[0].axvline(x = t_fitPy, c = 'b', label = 'Python Fit')\n",
    "    # The second plot is probability density\n",
    "    p = fitdata.loc[int(irow), ['P_{0}'.format(i) for i in range(len(timearray))]].values\n",
    "    axarr[1].plot(timearray, p, c = 'r')\n",
    "    axarr[1].plot(timearray, p_py[0], c='b')\n",
    "    axarr[1].axvline(x = t_true, c = 'k', label = 'True')\n",
    "    axarr[1].axvline(x = t_fit, c = 'r', label = 'C++ Fit')\n",
    "    axarr[1].axvline(x = t_fitPy, c= 'b', label = 'Python Fit')\n",
    "    plt.legend()\n",
    "    #plt.show()\n",
    "    #plt.savefig(image_dir + 'fit.png')\n",
    "    print(fitdata.loc[int(irow),:])\n",
    "    \n",
    "interact(plot_data, irow = [int(x) for x in fitdata.index[:10]])"
   ]
  },
  {
   "cell_type": "code",
   "execution_count": null,
   "metadata": {
    "collapsed": false,
    "deletable": true,
    "editable": true
   },
   "outputs": [],
   "source": [
    "netinput = np.zeros(7)\n",
    "netinput[0:6] = [0.0, 0.0, 4.6199, 18.4796, 26.5644, 22.522]\n",
    "netinput[6] = coder.encode(250)\n",
    "#netinput = netinput.reshape(-1,1)0 0 4.6199 18.4796 26.5644 22.5220 0 4.6199 18.4796 26.5644 22.522 \n",
    "netinput"
   ]
  },
  {
   "cell_type": "code",
   "execution_count": null,
   "metadata": {
    "collapsed": false,
    "deletable": true,
    "editable": true,
    "scrolled": false
   },
   "outputs": [],
   "source": [
    "np.shape(classifier.coefs_[0])"
   ]
  },
  {
   "cell_type": "code",
   "execution_count": null,
   "metadata": {
    "collapsed": false,
    "deletable": true,
    "editable": true,
    "scrolled": true
   },
   "outputs": [],
   "source": [
    "state = netinput\n",
    "for i in range(3):\n",
    "    state = np.clip(np.dot(state, classifier.coefs_[i]) + classifier.intercepts_[i], 0.0, 1.0e6)\n",
    "    print(i, state.shape)\n",
    "    print(classifier.coefs_[i])\n",
    "    print(classifier.intercepts_[i])\n",
    "    print(state)"
   ]
  },
  {
   "cell_type": "code",
   "execution_count": null,
   "metadata": {
    "collapsed": false,
    "deletable": true,
    "editable": true
   },
   "outputs": [],
   "source": [
    "def normalize(x):\n",
    "    xnz = x[x>0]\n",
    "    expx = np.exp(xnz)\n",
    "    norm = sum(expx)\n",
    "    x[x>0] = expx/norm\n",
    "    return x\n",
    "\n",
    "state = normalize(state)\n",
    "state"
   ]
  },
  {
   "cell_type": "code",
   "execution_count": null,
   "metadata": {
    "collapsed": false,
    "deletable": true,
    "editable": true
   },
   "outputs": [],
   "source": [
    "sl_state = classifier.predict_proba(netinput.reshape(1,-1))\n",
    "sl_state"
   ]
  },
  {
   "cell_type": "code",
   "execution_count": null,
   "metadata": {
    "collapsed": false,
    "deletable": true,
    "editable": true
   },
   "outputs": [],
   "source": [
    "with open('classifier.txt', 'w') as cdump:\n",
    "    cdump.write(\"Classifier coefficients:\\n\")\n",
    "    for iLayer in range(len(classifier.coefs_)):\n",
    "        cdump.write('Layer: {0}\\n'.format(iLayer))\n",
    "        nrows = classifier.coefs_[iLayer].shape[0]\n",
    "        ncols = classifier.coefs_[iLayer].shape[1]\n",
    "        cdump.write('Weights:\\n')\n",
    "        for col in range(ncols):\n",
    "            s = \" \".join([str(classifier.coefs_[iLayer][row, col]) for row in range(nrows)])\n",
    "            s+=\"\\n\"\n",
    "            cdump.write(s)\n",
    "        # intercepts should have nrows dimension\n",
    "        cdump.write('Intercepts:\\n')\n",
    "        s = \" \".join([str(classifier.intercepts_[iLayer][col]) for col in range(ncols)])\n",
    "        s += \"\\n\"\n",
    "        cdump.write(s)\n",
    "\n",
    "print(\"Data written.\")\n",
    "\n",
    "                \n",
    "        "
   ]
  },
  {
   "cell_type": "code",
   "execution_count": null,
   "metadata": {
    "collapsed": true,
    "deletable": true,
    "editable": true
   },
   "outputs": [],
   "source": [
    " def tau_code(x):\n",
    "    return (3.0 + (100.0 - 3.0)/(329.541 - 197.725) * (x - 197.725))"
   ]
  },
  {
   "cell_type": "code",
   "execution_count": null,
   "metadata": {
    "collapsed": false,
    "deletable": true,
    "editable": true
   },
   "outputs": [],
   "source": [
    "tau_code(250)"
   ]
  },
  {
   "cell_type": "code",
   "execution_count": null,
   "metadata": {
    "collapsed": true,
    "deletable": true,
    "editable": true
   },
   "outputs": [],
   "source": []
  }
 ],
 "metadata": {
  "anaconda-cloud": {},
  "kernelspec": {
   "display_name": "Python 3 (Belle2)",
   "language": "python",
   "name": "python3"
  },
  "language_info": {
   "codemirror_mode": {
    "name": "ipython",
    "version": 3
   },
   "file_extension": ".py",
   "mimetype": "text/x-python",
   "name": "python",
   "nbconvert_exporter": "python",
   "pygments_lexer": "ipython3",
   "version": "3.6.2"
  }
 },
 "nbformat": 4,
 "nbformat_minor": 1
}
