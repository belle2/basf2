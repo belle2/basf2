{
 "cells": [
  {
   "cell_type": "markdown",
   "metadata": {
    "deletable": true,
    "editable": true
   },
   "source": [
    "## Plot results of training of a SVDTime Neural Network\n",
    "\n",
    "This notebook displays the results of time fits for digit produced by the SVD digitizer.\n",
    "The digits are collected using the SVDFitDigitsModule, and its output is imported and shown here. "
   ]
  },
  {
   "cell_type": "markdown",
   "metadata": {
    "deletable": true,
    "editable": true
   },
   "source": [
    "##### Required Python packages\n",
    "\n",
    "The following python packages are used:\n",
    "- math (basic python math functions)\n",
    "- numpy (Vectors and matrices for numerics)\n",
    "- pandas (Python analogue of Excel tables)\n",
    "- matplotlib (Plotting library)\n",
    "- seaborn (Advanced plotting)\n",
    "- scipy (Scientific computing package)\n",
    "- scikit-learn (machine learning)\n",
    "\n",
    "If you get an error message complaining about a missing package, do\n",
    "\n",
    "pip3 install *_package name_*\n",
    "\n",
    "##### Other pre-requisites:\n",
    "\n",
    "A sample of training data, plus binning and bounds information in pickle (*.pkl) files."
   ]
  },
  {
   "cell_type": "code",
   "execution_count": 1,
   "metadata": {
    "collapsed": true,
    "deletable": true,
    "editable": true
   },
   "outputs": [],
   "source": [
    "import math\n",
    "import datetime\n",
    "import numpy as np\n",
    "import pandas as pd\n",
    "%matplotlib inline\n",
    "import matplotlib.pyplot as plt\n",
    "from matplotlib import pylab\n",
    "import seaborn as sns\n",
    "from scipy import stats as stats\n",
    "from scipy.optimize import minimize_scalar\n",
    "from SVDSimBase import *"
   ]
  },
  {
   "cell_type": "markdown",
   "metadata": {
    "deletable": true,
    "editable": true
   },
   "source": [
    "### Retrieve dumped digit fits"
   ]
  },
  {
   "cell_type": "code",
   "execution_count": 2,
   "metadata": {
    "collapsed": false,
    "deletable": true,
    "editable": true
   },
   "outputs": [],
   "source": [
    "digit_fit_filename = '../../SVDFittedDigits.txt'\n",
    "\n",
    "fitdata = pd.read_csv(digit_fit_filename, sep = '\\t')\n",
    "\n",
    "pkl_name = 'SVDTime_TrainingBins_1000000.pkl'\n",
    "bins = pd.read_pickle(pkl_name)\n",
    "\n",
    "timearray = bins['midpoint']\n",
    "timebins = np.unique(bins[['lower','upper']])"
   ]
  },
  {
   "cell_type": "code",
   "execution_count": 3,
   "metadata": {
    "collapsed": false,
    "deletable": true,
    "editable": true,
    "scrolled": true
   },
   "outputs": [
    {
     "data": {
      "text/html": [
       "<div>\n",
       "<style>\n",
       "    .dataframe thead tr:only-child th {\n",
       "        text-align: right;\n",
       "    }\n",
       "\n",
       "    .dataframe thead th {\n",
       "        text-align: left;\n",
       "    }\n",
       "\n",
       "    .dataframe tbody tr th {\n",
       "        vertical-align: top;\n",
       "    }\n",
       "</style>\n",
       "<table border=\"1\" class=\"dataframe\">\n",
       "  <thead>\n",
       "    <tr style=\"text-align: right;\">\n",
       "      <th></th>\n",
       "      <th>Layer</th>\n",
       "      <th>Ladder</th>\n",
       "      <th>Sensor</th>\n",
       "      <th>Side</th>\n",
       "      <th>Strip</th>\n",
       "      <th>Sample_0</th>\n",
       "      <th>Sample_1</th>\n",
       "      <th>Sample_2</th>\n",
       "      <th>Sample_3</th>\n",
       "      <th>Sample_4</th>\n",
       "      <th>...</th>\n",
       "      <th>P_20</th>\n",
       "      <th>P_21</th>\n",
       "      <th>P_22</th>\n",
       "      <th>P_23</th>\n",
       "      <th>P_24</th>\n",
       "      <th>TimeFit</th>\n",
       "      <th>TimeFitError</th>\n",
       "      <th>Amplitude</th>\n",
       "      <th>AmplitudeError</th>\n",
       "      <th>Chi2</th>\n",
       "    </tr>\n",
       "  </thead>\n",
       "  <tbody>\n",
       "    <tr>\n",
       "      <th>0</th>\n",
       "      <td>3</td>\n",
       "      <td>5</td>\n",
       "      <td>2</td>\n",
       "      <td>u</td>\n",
       "      <td>700</td>\n",
       "      <td>0</td>\n",
       "      <td>0</td>\n",
       "      <td>17</td>\n",
       "      <td>35</td>\n",
       "      <td>34</td>\n",
       "      <td>...</td>\n",
       "      <td>0.000000</td>\n",
       "      <td>0.000000</td>\n",
       "      <td>0.000000</td>\n",
       "      <td>0.0</td>\n",
       "      <td>0.0</td>\n",
       "      <td>9.228710</td>\n",
       "      <td>2.72314</td>\n",
       "      <td>35.2797</td>\n",
       "      <td>1.33071</td>\n",
       "      <td>0.835786</td>\n",
       "    </tr>\n",
       "    <tr>\n",
       "      <th>1</th>\n",
       "      <td>3</td>\n",
       "      <td>5</td>\n",
       "      <td>2</td>\n",
       "      <td>u</td>\n",
       "      <td>701</td>\n",
       "      <td>0</td>\n",
       "      <td>0</td>\n",
       "      <td>12</td>\n",
       "      <td>29</td>\n",
       "      <td>28</td>\n",
       "      <td>...</td>\n",
       "      <td>0.000000</td>\n",
       "      <td>0.000000</td>\n",
       "      <td>0.000000</td>\n",
       "      <td>0.0</td>\n",
       "      <td>0.0</td>\n",
       "      <td>13.946300</td>\n",
       "      <td>2.85902</td>\n",
       "      <td>30.9229</td>\n",
       "      <td>1.34890</td>\n",
       "      <td>0.870517</td>\n",
       "    </tr>\n",
       "    <tr>\n",
       "      <th>2</th>\n",
       "      <td>3</td>\n",
       "      <td>5</td>\n",
       "      <td>2</td>\n",
       "      <td>v</td>\n",
       "      <td>567</td>\n",
       "      <td>0</td>\n",
       "      <td>0</td>\n",
       "      <td>12</td>\n",
       "      <td>50</td>\n",
       "      <td>67</td>\n",
       "      <td>...</td>\n",
       "      <td>0.497162</td>\n",
       "      <td>0.316527</td>\n",
       "      <td>0.180457</td>\n",
       "      <td>0.0</td>\n",
       "      <td>0.0</td>\n",
       "      <td>27.887500</td>\n",
       "      <td>3.87522</td>\n",
       "      <td>69.0723</td>\n",
       "      <td>1.39942</td>\n",
       "      <td>4.239370</td>\n",
       "    </tr>\n",
       "    <tr>\n",
       "      <th>3</th>\n",
       "      <td>4</td>\n",
       "      <td>8</td>\n",
       "      <td>2</td>\n",
       "      <td>u</td>\n",
       "      <td>427</td>\n",
       "      <td>0</td>\n",
       "      <td>0</td>\n",
       "      <td>20</td>\n",
       "      <td>25</td>\n",
       "      <td>24</td>\n",
       "      <td>...</td>\n",
       "      <td>0.000000</td>\n",
       "      <td>0.000000</td>\n",
       "      <td>0.000000</td>\n",
       "      <td>0.0</td>\n",
       "      <td>0.0</td>\n",
       "      <td>0.479326</td>\n",
       "      <td>3.21901</td>\n",
       "      <td>27.0457</td>\n",
       "      <td>1.05937</td>\n",
       "      <td>1.124310</td>\n",
       "    </tr>\n",
       "    <tr>\n",
       "      <th>4</th>\n",
       "      <td>4</td>\n",
       "      <td>8</td>\n",
       "      <td>2</td>\n",
       "      <td>u</td>\n",
       "      <td>428</td>\n",
       "      <td>0</td>\n",
       "      <td>0</td>\n",
       "      <td>11</td>\n",
       "      <td>35</td>\n",
       "      <td>33</td>\n",
       "      <td>...</td>\n",
       "      <td>0.000105</td>\n",
       "      <td>0.000000</td>\n",
       "      <td>0.000000</td>\n",
       "      <td>0.0</td>\n",
       "      <td>0.0</td>\n",
       "      <td>14.411200</td>\n",
       "      <td>1.92607</td>\n",
       "      <td>34.7240</td>\n",
       "      <td>1.09744</td>\n",
       "      <td>1.224450</td>\n",
       "    </tr>\n",
       "  </tbody>\n",
       "</table>\n",
       "<p>5 rows × 42 columns</p>\n",
       "</div>"
      ],
      "text/plain": [
       "   Layer  Ladder  Sensor Side  Strip  Sample_0  Sample_1  Sample_2  Sample_3  \\\n",
       "0      3       5       2    u    700         0         0        17        35   \n",
       "1      3       5       2    u    701         0         0        12        29   \n",
       "2      3       5       2    v    567         0         0        12        50   \n",
       "3      4       8       2    u    427         0         0        20        25   \n",
       "4      4       8       2    u    428         0         0        11        35   \n",
       "\n",
       "   Sample_4    ...         P_20      P_21      P_22  P_23  P_24    TimeFit  \\\n",
       "0        34    ...     0.000000  0.000000  0.000000   0.0   0.0   9.228710   \n",
       "1        28    ...     0.000000  0.000000  0.000000   0.0   0.0  13.946300   \n",
       "2        67    ...     0.497162  0.316527  0.180457   0.0   0.0  27.887500   \n",
       "3        24    ...     0.000000  0.000000  0.000000   0.0   0.0   0.479326   \n",
       "4        33    ...     0.000105  0.000000  0.000000   0.0   0.0  14.411200   \n",
       "\n",
       "   TimeFitError  Amplitude  AmplitudeError      Chi2  \n",
       "0       2.72314    35.2797         1.33071  0.835786  \n",
       "1       2.85902    30.9229         1.34890  0.870517  \n",
       "2       3.87522    69.0723         1.39942  4.239370  \n",
       "3       3.21901    27.0457         1.05937  1.124310  \n",
       "4       1.92607    34.7240         1.09744  1.224450  \n",
       "\n",
       "[5 rows x 42 columns]"
      ]
     },
     "execution_count": 3,
     "metadata": {},
     "output_type": "execute_result"
    }
   ],
   "source": [
    "fitdata.head()"
   ]
  },
  {
   "cell_type": "code",
   "execution_count": 4,
   "metadata": {
    "collapsed": false,
    "deletable": true,
    "editable": true
   },
   "outputs": [
    {
     "data": {
      "text/plain": [
       "Index(['Layer', 'Ladder', 'Sensor', 'Side', 'Strip', 'Sample_0', 'Sample_1',\n",
       "       'Sample_2', 'Sample_3', 'Sample_4', 'Sample_5', 'TrueTime', 'P_0',\n",
       "       'P_1', 'P_2', 'P_3', 'P_4', 'P_5', 'P_6', 'P_7', 'P_8', 'P_9', 'P_10',\n",
       "       'P_11', 'P_12', 'P_13', 'P_14', 'P_15', 'P_16', 'P_17', 'P_18', 'P_19',\n",
       "       'P_20', 'P_21', 'P_22', 'P_23', 'P_24', 'TimeFit', 'TimeFitError',\n",
       "       'Amplitude', 'AmplitudeError', 'Chi2'],\n",
       "      dtype='object')"
      ]
     },
     "execution_count": 4,
     "metadata": {},
     "output_type": "execute_result"
    }
   ],
   "source": [
    "fitdata.columns"
   ]
  },
  {
   "cell_type": "markdown",
   "metadata": {
    "deletable": true,
    "editable": true
   },
   "source": [
    "Load the classifier"
   ]
  },
  {
   "cell_type": "code",
   "execution_count": 5,
   "metadata": {
    "collapsed": false,
    "deletable": true,
    "editable": true
   },
   "outputs": [
    {
     "data": {
      "text/plain": [
       "41.468087719625657"
      ]
     },
     "execution_count": 5,
     "metadata": {},
     "output_type": "execute_result"
    }
   ],
   "source": [
    "import pickle\n",
    "with open('classifier.pkl', 'rb') as f:\n",
    "    classifier = pickle.load(f)\n",
    "    \n",
    "# the sample size of the network we want to use\n",
    "n_samples = 1000000\n",
    "pkl_name = 'SVDTime_Training{0}_{1}.pkl'\n",
    "\n",
    "bounds = pd.read_pickle(pkl_name.format('Bounds', n_samples))\n",
    "\n",
    "amp_range = (\n",
    "    bounds.loc[bounds.value == 'amplitude','low'].values[0],\n",
    "    bounds.loc[bounds.value == 'amplitude','high'].values[0]\n",
    ")\n",
    "tau_range =(\n",
    "    bounds.loc[bounds.value == 'tau','low'].values[0],\n",
    "    bounds.loc[bounds.value == 'tau','high'].values[0]\n",
    ")\n",
    "coder = tau_encoder(amp_range, tau_range)\n",
    "coder.encode(250)\n"
   ]
  },
  {
   "cell_type": "markdown",
   "metadata": {
    "deletable": true,
    "editable": true
   },
   "source": [
    "### Now that we have the time shifts and amplitudes, do some plotting.\n",
    "\n",
    "We want to know the errors and biases of time shifts and amplitudes provided by the network.\n",
    "We use two kind of plots - simple 2d histograms and contour plots. Both have their advantages and disadvantages. "
   ]
  },
  {
   "cell_type": "code",
   "execution_count": 6,
   "metadata": {
    "collapsed": false,
    "deletable": true,
    "editable": true,
    "scrolled": false
   },
   "outputs": [
    {
     "data": {
      "application/vnd.jupyter.widget-view+json": {
       "model_id": "32ca2f47041c44008568ce9a5c9bc8c3"
      }
     },
     "metadata": {},
     "output_type": "display_data"
    },
    {
     "data": {
      "text/plain": [
       "<function __main__.plot_data>"
      ]
     },
     "execution_count": 6,
     "metadata": {},
     "output_type": "execute_result"
    },
    {
     "data": {
      "image/png": "[encoded data removed]",
      "text/plain": [
       "<matplotlib.figure.Figure at 0x5d4e3c8>"
      ]
     },
     "metadata": {},
     "output_type": "display_data"
    },
    {
     "data": {
      "image/png": "[encoded data removed]",
      "text/plain": [
       "<matplotlib.figure.Figure at 0x631aed8>"
      ]
     },
     "metadata": {},
     "output_type": "display_data"
    },
    {
     "data": {
      "image/png": "[encoded data removed]",
      "text/plain": [
       "<matplotlib.figure.Figure at 0x65d3368>"
      ]
     },
     "metadata": {},
     "output_type": "display_data"
    },
    {
     "data": {
      "image/png": "[encoded data removed]",
      "text/plain": [
       "<matplotlib.figure.Figure at 0x6ab6668>"
      ]
     },
     "metadata": {},
     "output_type": "display_data"
    },
    {
     "data": {
      "image/png": "[encoded data removed]",
      "text/plain": [
       "<matplotlib.figure.Figure at 0x6cbb448>"
      ]
     },
     "metadata": {},
     "output_type": "display_data"
    }
   ],
   "source": [
    "from ipywidgets import *\n",
    "\n",
    "def fitFromProb(fw, signals, p, tau, timearray):\n",
    "    t_fit = np.average(timearray, weights = p)\n",
    "    t_sigma = np.sqrt(np.average((timearray - t_fit)**2, weights = p))\n",
    "    weights = fw(-t_fit + np.linspace(-dt, 4*dt, 6, endpoint = True), tau = tau)\n",
    "    weights[signals.values == 0.0] = 0.0\n",
    "    norm = 1.0 / np.inner(weights, weights)\n",
    "    a_fit = np.inner(signals, weights) * norm\n",
    "    a_sigma = np.sqrt(norm)\n",
    "    residuals = signals - a_fit * weights\n",
    "    ndf = np.sum(np.ones_like(signals[signals>0])) - 2 # Can't be less than 1\n",
    "    chi2_ndf = np.inner(residuals, residuals)/ndf\n",
    "    return pd.Series({\n",
    "        't_fit':t_fit, \n",
    "        't_sigma':t_sigma, \n",
    "        'a_fit':a_fit, \n",
    "        'a_sigma':a_sigma,\n",
    "        'chi2_ndf':chi2_ndf\n",
    "            })\n",
    "\n",
    "def plot_data(irow):\n",
    "    '''\n",
    "    Given row number, plot signals, true waveform and fitted waveform, and plot probabilities.\n",
    "    '''\n",
    "    fig, axarr = plt.subplots(2, 1, sharex=False, sharey = False)\n",
    "    # The first plot is data\n",
    "    sample_times = np.linspace(-dt, 4*dt, 6, endpoint = True)\n",
    "    function_times = np.linspace(-dt, 4*dt, 100, endpoint = True)\n",
    "    samples = fitdata.loc[int(irow), ['Sample_{0}'.format(i) for i in range(6)]]\n",
    "    tau_fit = 250\n",
    "    # Let us fit using the python classifier\n",
    "    x = np.zeros(7)\n",
    "    x[0:6] = samples\n",
    "    x[6] = coder.encode(tau_fit)\n",
    "    x.reshape(1,-1)\n",
    "    p_py = classifier.predict_proba(x)\n",
    "    pyfit_result = fitFromProb(betaprime_wave, samples, p_py[0], tau_fit, timearray)\n",
    "    a_fitPy = pyfit_result['a_fit']\n",
    "    t_fitPy = pyfit_result['t_fit']\n",
    "    a_fit = fitdata.loc[int(irow), 'Amplitude']\n",
    "    t_fit = fitdata.loc[int(irow), 'TimeFit']\n",
    "    t_true = fitdata.loc[int(irow), 'TrueTime']\n",
    "    \n",
    "    axarr[0].scatter(sample_times,samples, c = 'b', marker = 'o', s=50, label = 'Data')\n",
    "    axarr[0].axvline(x = t_true, c = 'k', label = 'True')\n",
    "    axarr[0].plot(function_times, a_fit * betaprime_wave(function_times - t_fit, tau = tau_fit), \n",
    "                  c = 'r', label = 'Fit')\n",
    "    axarr[0].axvline(x = t_fit, c = 'r', label = 'C++ Fit')\n",
    "    axarr[0].plot(function_times, a_fitPy * betaprime_wave(function_times - t_fitPy, tau = tau_fit), \n",
    "                  c = 'b', label = 'Fit')\n",
    "    axarr[0].axvline(x = t_fitPy, c = 'b', label = 'Python Fit')\n",
    "    # The second plot is probability density\n",
    "    p = fitdata.loc[int(irow), ['P_{0}'.format(i) for i in range(len(timearray))]].values\n",
    "    axarr[1].plot(timearray, p, c = 'r')\n",
    "    axarr[1].plot(timearray, p_py[0], c='b')\n",
    "    axarr[1].axvline(x = t_true, c = 'k', label = 'True')\n",
    "    axarr[1].axvline(x = t_fit, c = 'r', label = 'C++ Fit')\n",
    "    axarr[1].axvline(x = t_fitPy, c= 'b', label = 'Python Fit')\n",
    "    plt.legend()\n",
    "    #plt.show()\n",
    "    #plt.savefig(image_dir + 'fit.png')\n",
    "    print(fitdata.loc[int(irow),:])\n",
    "    \n",
    "interact(plot_data, irow = [int(x) for x in fitdata.index[:10]])"
   ]
  },
  {
   "cell_type": "code",
   "execution_count": 7,
   "metadata": {
    "collapsed": false,
    "deletable": true,
    "editable": true
   },
   "outputs": [
    {
     "data": {
      "text/plain": [
       "array([  0.        ,   0.        ,   4.6199    ,  18.4796    ,\n",
       "        26.5644    ,  22.522     ,  41.46808772])"
      ]
     },
     "execution_count": 7,
     "metadata": {},
     "output_type": "execute_result"
    }
   ],
   "source": [
    "netinput = np.zeros(7)\n",
    "netinput[0:6] = [0.0, 0.0, 4.6199, 18.4796, 26.5644, 22.522]\n",
    "netinput[6] = coder.encode(250)\n",
    "#netinput = netinput.reshape(-1,1)0 0 4.6199 18.4796 26.5644 22.5220 0 4.6199 18.4796 26.5644 22.522 \n",
    "netinput"
   ]
  },
  {
   "cell_type": "code",
   "execution_count": 8,
   "metadata": {
    "collapsed": false,
    "deletable": true,
    "editable": true,
    "scrolled": false
   },
   "outputs": [
    {
     "data": {
      "text/plain": [
       "(7, 24)"
      ]
     },
     "execution_count": 8,
     "metadata": {},
     "output_type": "execute_result"
    }
   ],
   "source": [
    "np.shape(classifier.coefs_[0])"
   ]
  },
  {
   "cell_type": "code",
   "execution_count": 9,
   "metadata": {
    "collapsed": false,
    "deletable": true,
    "editable": true,
    "scrolled": true
   },
   "outputs": [
    {
     "name": "stdout",
     "output_type": "stream",
     "text": [
      "0 (24,)\n",
      "[[ -7.65828032e-002  -5.08503597e-002  -7.68014481e-001   4.06633072e-317\n",
      "    3.77210277e-316   8.10882710e-001  -2.61839124e-001  -5.95168542e-001\n",
      "    2.11539666e-316  -1.33116305e-317   6.66680338e-001  -8.76360330e-002\n",
      "    6.82998013e-002   1.26599287e-001  -6.94619019e-001   5.05811125e-001\n",
      "   -6.22605070e-002   4.18607441e-001  -2.39166111e-001  -4.83975084e-001\n",
      "    1.28072964e-001   1.84044910e-001   8.49552927e-001  -6.88465933e-001]\n",
      " [  6.32060416e-001   1.10793902e-001  -4.55014147e-001   2.85682096e-317\n",
      "   -8.23277989e-317   5.14777770e-001  -1.59036661e-001   3.54800090e-001\n",
      "   -5.67582318e-317  -6.87733944e-318  -5.36183574e-001  -4.87559514e-001\n",
      "    6.89092667e-001  -1.10207213e+000   8.49475940e-001  -2.91680311e-001\n",
      "    1.54726110e-001   3.10906639e-001   2.92909472e-001  -8.38183022e-001\n",
      "   -2.38129440e-001   5.29523650e-001  -3.34084652e-001   2.25182099e-001]\n",
      " [ -4.23338777e-001  -8.25081777e-002   2.17453654e-001  -5.52194692e-317\n",
      "   -6.89599042e-318   9.07241935e-002   5.07728988e-001   3.52254060e-001\n",
      "   -3.10713932e-317  -3.77529863e-316  -1.72864454e-001   4.10253893e-001\n",
      "   -9.15515711e-001   2.12619332e-001   3.74837679e-001   2.19891742e-001\n",
      "   -7.60032874e-001  -3.10453664e-001   3.57122748e-001  -6.63562087e-001\n",
      "    2.74432540e-001   4.10063036e-002   1.35680857e-001  -3.73581725e-002]\n",
      " [  3.81580612e-002   1.77454442e-001   1.68095759e-001   1.55391516e-316\n",
      "    1.62847243e-316  -5.91900312e-002   1.52535845e-001   5.50631384e-001\n",
      "    2.71823446e-316  -1.75145960e-316   5.56265588e-001  -4.84577035e-001\n",
      "   -3.10761356e-001   7.14736711e-001  -4.53487970e-001  -3.51426154e-001\n",
      "    1.84972704e-001  -3.21535935e-003  -2.81042467e-001   4.60751148e-001\n",
      "    2.33240742e-001  -1.89643058e-001  -2.21067271e-001   1.02780764e-001]\n",
      " [  2.82399975e-001   4.48928085e-003   4.42450191e-001   4.39991841e-317\n",
      "    3.01382840e-316  -3.58813112e-001  -3.42378987e-001   7.01877986e-002\n",
      "    2.33550745e-316  -6.05052058e-318   3.79486072e-003   2.04978656e-001\n",
      "    5.19019189e-002  -1.65751728e-001  -1.21658048e-001  -1.82529557e-001\n",
      "    5.84237043e-002   8.31621179e-002   2.64059570e-001   2.72599809e-001\n",
      "    1.92874204e-001  -5.65833893e-002   1.64458899e-001  -1.18813581e-001]\n",
      " [  2.74353477e-001   4.93071708e-002   2.46869289e-001   3.85854202e-317\n",
      "   -2.08965510e-317  -4.00013125e-001  -1.75622100e-001  -2.38882379e-001\n",
      "   -4.95354900e-316  -6.63917510e-318   3.50862457e-002   2.86274129e-001\n",
      "    1.37868386e-001  -2.60455077e-001   1.51525088e-001   1.94482241e-001\n",
      "    9.04323277e-002   1.22942465e-002   4.56339464e-001   4.82993107e-002\n",
      "    2.37763971e-001   2.52206142e-003   1.67456165e-001  -1.13867125e-001]\n",
      " [ -1.39059838e-001   6.91785391e-002  -7.03176403e-002   8.70967132e-317\n",
      "   -1.56741175e-316   1.98410467e-001  -2.00563572e-001   4.84095794e-002\n",
      "    2.16066270e-318  -2.95538691e-316  -6.18011134e-001   2.23543415e-002\n",
      "    3.39846484e-002   1.91187736e-001   1.79647163e-001   2.04062431e-001\n",
      "    1.47245229e-001   7.82788637e-002  -1.02105468e+000  -7.07009756e-002\n",
      "   -1.82983923e-001  -4.84601083e-001   3.58389653e-002  -3.20292506e-003]]\n",
      "[  4.84508113e+00  -9.61928708e+00  -1.58975146e-01  -6.99366531e-04\n",
      "  -3.27692653e-01  -3.10243592e+00   7.34113064e+00  -3.30765203e+00\n",
      "  -2.12111283e-01  -4.21547893e-03  -1.41997703e+00   7.29834665e-01\n",
      "   4.59076781e+00   8.71084922e-01  -2.39886784e+00   1.51855186e+00\n",
      "   2.04898451e+00  -1.01580891e+01  -5.27358748e+00   6.39965315e+00\n",
      "   3.79126065e+00   2.10851107e+00  -7.34661302e+00   7.02511556e+00]\n",
      "[ 11.50867334   0.          18.34945728   0.           0.           0.           0.\n",
      "   6.98701471   0.           0.           0.           6.48996959\n",
      "   0.51152474  12.72053885   0.           4.03363464  11.65061582   0.           0.\n",
      "  17.24597279  12.25982147   0.           0.           2.89832589]\n",
      "1 (26,)\n",
      "[[  8.11355432e-002  -2.18545981e-316  -2.74075543e-001  -2.80099367e-001\n",
      "    5.79673491e-001  -4.63795707e-001   4.19997755e-001   2.90181019e-001\n",
      "    1.94040280e-317  -1.60302668e-001   5.64113818e-001   6.41717286e-001\n",
      "    2.53772062e-001   7.03664202e-317   6.17259629e-001   1.34535848e-001\n",
      "   -3.75879928e-001   3.55030687e-001   4.68065366e-002  -5.05276777e-001\n",
      "    4.35690307e-001  -9.68690994e-317   3.62084541e-003  -8.05022584e-002\n",
      "   -6.85707126e-001   5.84189365e-001]\n",
      " [ -9.97868065e-003   3.22332355e-316   5.99131870e-002  -4.32714694e-001\n",
      "   -4.91708053e-001   8.69868934e-001  -4.56622913e-002  -1.61285103e-001\n",
      "    5.46809624e-318  -7.04351007e-001  -6.57454899e-001  -2.39299483e-001\n",
      "   -1.21200801e+000   1.50645586e-316  -1.17861548e+000   6.36238340e-001\n",
      "   -2.85110779e-001  -5.08000171e-001  -7.89844014e-001   1.02201542e+000\n",
      "   -1.17562120e+000  -2.16230775e-316  -1.07113622e+000   3.87563921e-001\n",
      "    1.21191899e+000  -7.36104529e-001]\n",
      " [ -2.39453570e-001  -7.19947568e-317   5.62812869e-001  -8.70854528e-001\n",
      "   -3.16887136e-001  -7.92865615e-002  -2.13446265e-001   5.46764904e-001\n",
      "    1.46102385e-316   4.95068551e-001  -5.09082813e-001  -4.97536416e-001\n",
      "   -1.66017077e-002   1.43137137e-316   2.16080890e-001  -4.12096468e-001\n",
      "    9.49826465e-002  -5.58126555e-001  -5.95604315e-001  -1.05816209e-001\n",
      "    1.59427540e-001   1.07628994e-316   2.17857876e-001  -1.08347153e-002\n",
      "   -1.52865642e-002  -3.55213423e-001]\n",
      " [  1.13026894e-316  -1.43174266e-316   1.28062260e-316   3.96241982e-317\n",
      "   -9.97700355e-317  -1.84909774e-316  -2.53550685e-316  -1.46692611e-316\n",
      "   -9.10205973e-317  -1.77758199e-317   1.60378007e-317   2.22425943e-316\n",
      "   -3.71849171e-316   1.56140643e-316   9.53108016e-317   1.96109694e-316\n",
      "    8.78490763e-317   5.40344973e-317   4.60870610e-317  -5.58183707e-317\n",
      "    2.21512988e-316  -2.29009723e-316  -5.22180995e-317  -2.82587961e-317\n",
      "   -1.68785122e-316   9.26616809e-317]\n",
      " [ -1.46769107e-316  -1.06990444e-316  -1.48162338e-316   2.87684707e-316\n",
      "    1.41938039e-316   2.25234232e-316  -4.57820348e-317   1.47849886e-317\n",
      "    4.40603543e-317   1.99109162e-316  -6.17048565e-317   1.07580556e-316\n",
      "   -6.56919564e-318  -2.78837731e-316   1.40321313e-317  -2.07606379e-316\n",
      "   -2.01195542e-316   2.89668198e-316  -2.68106126e-316   2.90704812e-316\n",
      "   -1.47059628e-318   8.36010110e-317   2.77746187e-316   1.36016065e-316\n",
      "   -3.98717152e-317  -4.74680387e-317]\n",
      " [ -8.67971727e-002   1.18231989e-316   1.89962263e-001   5.85222663e-001\n",
      "    9.74660995e-002   4.76769860e-001   2.85221990e-001  -8.79148114e-001\n",
      "   -9.71738391e-317  -4.97974760e-001  -3.85159432e-001   7.75669489e-001\n",
      "    1.67972081e-001  -1.04042271e-317  -5.83109722e-002   5.35503820e-001\n",
      "   -1.00261850e-001  -8.92485276e-002  -1.74381177e-001   3.98878671e-002\n",
      "   -1.44706761e-001   1.09736466e-316  -4.59511870e-001  -1.51918057e-001\n",
      "   -2.08120993e-001   1.39091616e-001]\n",
      " [ -2.03479504e-001  -1.87456065e-316   4.13131648e-001   6.03490169e-001\n",
      "   -3.41603082e-002  -2.37710865e-002  -2.31885554e-001   6.51974337e-001\n",
      "   -1.96868470e-316   6.80176242e-001  -2.52348184e-001  -2.58856007e-001\n",
      "   -2.83505772e-001  -7.23585719e-317   4.27587332e-001  -6.40948389e-001\n",
      "    4.75508211e-001  -1.87362046e-001   2.05316650e-001  -3.23596253e-001\n",
      "   -2.75716422e-001   2.82285627e-316   7.95180226e-003  -3.24566840e-002\n",
      "   -3.51800303e-001   4.27144357e-001]\n",
      " [  5.51788611e-001  -5.02728494e-317  -1.62677499e-001   3.06774724e-001\n",
      "   -2.27669448e-001   2.10077195e-001  -3.29046900e-002  -7.71268563e-001\n",
      "    3.41864198e-316   3.20760423e-001   1.91481656e-001  -4.89420104e-001\n",
      "   -6.85968649e-002  -1.30349433e-316  -5.46210114e-001  -1.73659221e-001\n",
      "    8.13339394e-002   3.74441889e-001   3.28079437e-001   6.80504251e-001\n",
      "    1.22927157e-001   3.16561362e-316  -6.19437176e-001   4.79254089e-001\n",
      "    4.07294405e-001  -4.07286200e-001]\n",
      " [  9.24276914e-317   1.42493972e-316   2.04159629e-316   6.07512999e-317\n",
      "   -4.37668299e-317   1.92507042e-316   2.02427391e-316   8.82808996e-317\n",
      "    3.67929451e-317   4.57418010e-316   7.01847028e-317  -4.31487439e-317\n",
      "   -3.10459819e-316  -2.52526546e-316  -2.65872238e-317   6.14044943e-317\n",
      "   -2.12680567e-316   4.94008235e-317   1.41351440e-317  -1.55119790e-316\n",
      "    4.26476774e-317   4.42442752e-317   1.16457295e-316  -3.27077495e-316\n",
      "    1.42763732e-316  -1.22279113e-316]\n",
      " [  1.82742081e-316   2.97204023e-316   1.26902026e-316  -5.29911195e-317\n",
      "   -1.14835678e-319  -1.10615122e-317  -2.13761736e-316   1.13139343e-316\n",
      "    9.93347904e-316   7.05551038e-317   3.41167867e-316  -4.40439711e-317\n",
      "   -1.15167779e-316   4.29171556e-317   8.49054876e-317   1.19092054e-317\n",
      "   -5.23455091e-317   2.88716845e-317  -9.31305294e-317  -2.15277450e-316\n",
      "    1.54233569e-316   5.71633458e-318  -6.12463290e-317   2.03509543e-317\n",
      "   -4.81211688e-317  -3.79438019e-317]\n",
      " [ -2.76957593e-001   5.19341945e-317  -6.00295473e-002   2.17815111e-002\n",
      "   -4.51703989e-002   8.89701065e-002   4.25256235e-001   4.81838872e-001\n",
      "    1.93181570e-316  -2.86985579e-001   4.28261494e-002   1.68189692e-001\n",
      "   -2.00805419e-001   2.33149810e-316   1.32881940e-001   4.20665085e-001\n",
      "   -1.33545809e-001   2.98942118e-001   1.63879824e-001  -2.01921668e-001\n",
      "    2.99049618e-001  -1.66033947e-316  -1.02881972e-002  -1.98798350e-001\n",
      "    7.20710177e-001   5.56490419e-001]\n",
      " [ -4.52889791e-001   3.27356188e-316  -2.38333050e-002  -4.18634895e-002\n",
      "    4.26276480e-001   8.65730846e-002  -8.91732755e-002   3.97782811e-001\n",
      "   -3.01015616e-316   1.69003164e-001  -5.30155008e-002  -1.34425617e-001\n",
      "    4.24739968e-001  -6.64888102e-317  -8.99575356e-002  -4.18873499e-001\n",
      "   -4.39204829e-001  -1.36192768e-001   1.91107601e-002   2.57042225e-001\n",
      "   -8.79914957e-002   1.49702775e-316   2.73011919e-001  -5.03514982e-002\n",
      "   -1.12477504e-001  -2.39934443e-001]\n",
      " [ -2.29542832e-001  -5.82389218e-317   2.54223685e-001   5.44826398e-002\n",
      "    3.59894109e-001   7.37937765e-001  -4.32922201e-001   2.37462648e-001\n",
      "    1.24763453e-316   1.77103137e-001  -3.89845673e-001  -6.25344639e-001\n",
      "   -4.57594375e-001   1.65258536e-316  -7.96459714e-002  -2.26772045e-001\n",
      "    7.42560155e-001  -4.03965075e-001   7.42216129e-002  -6.51362591e-002\n",
      "    2.68990315e-001  -5.21619440e-317  -1.07307553e-001   4.48363840e-002\n",
      "    5.44190314e-001  -3.74799679e-001]\n",
      " [  2.00282491e-001   3.77192985e-317  -2.42539570e-002   7.12996752e-001\n",
      "    1.41964938e-001  -9.39235660e-002   1.75702961e-002  -4.19215149e-002\n",
      "   -2.21923606e-316   8.82361265e-001   1.66555610e-002  -2.03422472e-001\n",
      "   -4.82900701e-001  -2.26560813e-316  -4.18685887e-001  -3.11599683e-001\n",
      "   -5.16385813e-001   3.19032415e-002  -1.68377241e-002   6.49320547e-001\n",
      "    1.40523477e-003  -7.25734312e-317  -9.08189952e-001  -3.36461401e-001\n",
      "   -2.94899728e-001  -9.19449428e-002]\n",
      " [ -4.23175903e-001  -1.98738860e-316  -2.57029654e-001  -3.29707680e-001\n",
      "   -5.03601152e-001   3.22129900e-001  -2.06392566e-001   1.36727228e-001\n",
      "    1.18386977e-316  -7.60712413e-001   2.30684774e-001  -1.11406761e-001\n",
      "   -1.30467045e-001  -2.31192046e-316  -2.50581664e-001   3.32016633e-001\n",
      "   -2.70628576e-001   4.76595256e-001  -1.73415429e-001  -2.73805079e-001\n",
      "   -4.77497008e-001  -3.12135567e-316   5.01978148e-001   6.81653939e-001\n",
      "   -1.97631216e-001   3.84548852e-001]\n",
      " [ -1.11179878e-001   5.80949066e-317   1.08737417e-001  -2.42864812e-001\n",
      "    2.35532423e-001  -3.37799535e-001   1.54402383e-001   5.37005893e-001\n",
      "   -1.40003263e-316   8.05183868e-002   8.40486768e-002   7.52577786e-002\n",
      "   -6.59059775e-001   2.24251688e-316   4.52220444e-001   3.95823314e-002\n",
      "    3.13102424e-001  -2.59346634e-001   2.20950237e-001  -2.23518353e-001\n",
      "    2.50377736e-001   1.15884807e-316   2.09723487e-001  -2.13128338e-001\n",
      "    2.85836897e-001  -2.30135557e-001]\n",
      " [  8.12154793e-001  -2.10712620e-316   7.88044724e-002  -1.10814389e+000\n",
      "   -2.68677899e-001  -4.13776139e-001   7.84934140e-002   5.81369588e-002\n",
      "    2.03100214e-316  -1.89819714e-001  -6.78200876e-002  -3.46428828e-002\n",
      "   -8.30756083e-001   1.89055257e-317   3.30004524e-001  -1.55494634e-001\n",
      "    4.76326358e-001   3.97290183e-002  -1.15011591e-002  -5.07684797e-001\n",
      "    1.11984836e-001  -3.05283765e-316   3.34179720e-001  -2.58259820e-001\n",
      "    3.98595574e-001  -1.24398755e-001]\n",
      " [ -1.73117981e-001  -6.06680795e-317   1.70321726e+000  -5.98056350e-001\n",
      "    1.27511826e-001  -2.36325583e-001  -7.53545298e-001  -6.87140807e-002\n",
      "    8.87170904e-317  -6.85379077e-001  -1.34561146e+000  -1.59109758e+000\n",
      "   -2.82006468e-001  -9.37930615e-317  -7.80476756e-001   1.48580250e-001\n",
      "   -3.03441457e-001  -7.72712689e-001   2.87841061e-002  -9.98810522e-001\n",
      "   -8.15420033e-001  -1.20156143e-316  -1.48181527e+000  -1.75021805e+000\n",
      "    7.35687921e-001  -6.61687596e-001]\n",
      " [  2.65048092e-001  -2.83232301e-316  -5.33933149e-001  -3.84019375e-001\n",
      "   -2.30121947e-001  -8.23199708e-002   1.33309316e-001  -1.28550523e+000\n",
      "   -9.34785048e-318   2.97379807e-001   1.58504438e-001  -1.87055344e-001\n",
      "   -5.92957136e-001   1.53656274e-316   3.29265986e-001  -5.79222883e-001\n",
      "   -1.66127608e-001  -3.20941951e-002  -3.88319028e-001  -6.18620358e-001\n",
      "    1.44761892e-001  -2.00393322e-317   1.21186725e+000  -4.83217128e-002\n",
      "    9.93309976e-002  -2.67772812e-001]\n",
      " [  9.49960484e-002   5.02343469e-317   1.52878723e-001  -7.51864626e-001\n",
      "   -5.71180676e-001   6.44364091e-001   6.18250655e-001  -2.02468480e-001\n",
      "   -3.66405862e-316  -9.45982025e-001  -1.76454072e-001   1.11759806e+000\n",
      "    2.08447937e-001   1.97371325e-316   8.15003303e-002   6.51613452e-001\n",
      "   -8.13097224e-003   1.38430698e+000  -2.66091892e-001  -6.36906349e-001\n",
      "   -1.10435171e+000   1.57493385e-316   4.02230468e-001  -2.13702870e-001\n",
      "    4.68410144e-002   4.81163362e-001]\n",
      " [ -2.60044007e-001   2.41450415e-316  -2.46158320e-001  -2.95914822e-001\n",
      "    6.62559820e-001  -3.48070998e-001   3.34830132e-001  -4.69077759e-001\n",
      "   -1.28700425e-316   4.17492368e-001   2.57524279e-001  -2.15112014e-001\n",
      "    6.10082784e-001   3.21615115e-316   2.13916996e-001  -2.72164884e-002\n",
      "    4.37876805e-001   6.39481719e-002   2.69194958e-001  -2.33481992e-001\n",
      "    3.63097942e-001   1.78673248e-316   2.91666602e-001  -1.31373125e-001\n",
      "   -1.08789142e-001  -6.77862609e-001]\n",
      " [  8.72482278e-001  -3.58298640e-316  -4.19943378e-001   4.25147359e-002\n",
      "    8.44635041e-002  -4.18724741e-001  -1.73238785e-001   1.93516919e-001\n",
      "   -2.58728775e-316   6.41255169e-002   2.68572730e-001  -6.62670545e-002\n",
      "   -3.33536528e-001  -2.15898145e-316  -1.00402593e-001   1.48894259e-001\n",
      "    2.71830735e-001   5.32976147e-001  -4.89055475e-001   8.83685047e-001\n",
      "    2.39667423e-001   1.61135222e-316   1.05512782e-001   3.87625274e-001\n",
      "   -3.13640889e-001   7.19179638e-002]\n",
      " [ -1.85505979e-001   1.55121939e-316   2.89600107e-001  -2.16997179e-001\n",
      "   -5.16997274e-001   1.00470582e+000  -5.05844216e-001   1.46377425e-001\n",
      "   -1.66550557e-316   4.24024008e-001  -6.53032903e-001  -4.77768886e-001\n",
      "    8.33621974e-002  -1.24130224e-316   8.87735263e-002   3.67927023e-002\n",
      "    7.23750524e-004  -1.68449023e-001   2.42524089e-002  -1.81663315e-002\n",
      "   -1.90462631e-001   2.87476226e-316  -2.89580403e-001   3.28690363e-001\n",
      "   -5.15270207e-001  -1.09912031e+000]\n",
      " [ -1.11932954e+000   2.29070424e-317   4.38833430e-001   1.65365816e+000\n",
      "   -8.11522878e-002   1.16036540e-002  -8.12978872e-001  -3.48278113e-002\n",
      "   -1.89939990e-316   9.15506578e-001  -1.18519557e-001  -9.71193116e-001\n",
      "   -8.54295207e-001  -8.58909657e-317   2.02275008e-001  -7.47137476e-001\n",
      "   -7.84421081e-002  -1.32189275e+000   2.16908246e-001   1.33971098e-001\n",
      "   -6.65291555e-001  -8.04437388e-317  -1.01188762e+000   1.09961914e-001\n",
      "    8.96325641e-002   5.89740310e-001]]\n",
      "[-2.36377331 -0.04266521 -1.84253375  2.16567537  2.75558221 -6.37415499\n",
      "  3.5205144   0.666371   -0.10565715  2.79721588  2.70663413  3.21194878\n",
      "  2.50787587 -0.15762908  3.39092961 -3.18630815 -0.85380566  1.45119407\n",
      "  3.41872731 -2.82603198  2.99568646 -0.14987495  2.31790856 -1.79165482\n",
      " -3.52912254  1.92851987]\n",
      "[  1.74221351   0.           6.10803705   0.           2.63478663   0.\n",
      "  17.57923736   4.31964523   0.          14.25997389   0.18315775\n",
      "   7.990162     0.           0.          14.97612889   0.           0.\n",
      "  17.47053483   0.           0.           0.           0.           4.51262335\n",
      "   0.           0.           0.        ]\n",
      "2 (25,)\n",
      "[[ -9.93553322e-001  -6.77068754e-001  -3.82084635e-001  -1.58242138e-001\n",
      "    5.63353713e-002   2.32401426e-001   2.57941167e-001   9.94376303e-002\n",
      "    3.37674599e-002   1.63297965e-001   4.28403377e-001   7.29470726e-001\n",
      "    7.11748355e-001   4.61655289e-001   3.79252353e-001   2.48846204e-001\n",
      "    1.20277476e-001   3.87711351e-003  -4.52607753e-002  -4.08818250e-002\n",
      "   -1.17631302e-001  -3.56748586e-001  -7.73379380e-001  -1.19421387e+000\n",
      "   -1.57641441e+000]\n",
      " [  3.15094140e-316  -3.00936299e-316  -1.45187391e-316  -3.06499172e-316\n",
      "    3.57865497e-316   2.20796574e-316  -4.52324856e-317  -1.14677394e-316\n",
      "    1.91510071e-316   4.92769741e-316  -1.22917352e-316   1.36067942e-316\n",
      "   -1.26259148e-316   2.52702034e-316  -1.57602692e-316  -4.75014969e-317\n",
      "    1.44627856e-316   8.88224005e-317  -2.34726453e-316  -7.93733950e-317\n",
      "   -6.76164335e-316   2.32236565e-316   4.44661650e-317  -4.51886985e-316\n",
      "   -3.05664690e-316]\n",
      " [  7.74080395e-001   3.05338104e-001  -1.70441592e-001  -6.36426441e-001\n",
      "   -9.56312218e-001  -9.95995024e-001  -5.62257273e-001  -1.67489315e-001\n",
      "   -2.30515381e-001  -5.34390765e-001  -6.23855003e-001  -5.83165552e-001\n",
      "   -3.67155022e-001  -2.19973223e-001   1.55850097e-001   3.20970784e-001\n",
      "    3.54158824e-001   3.35490525e-001   2.82701122e-001   2.43680841e-001\n",
      "    3.02536448e-001   3.43415169e-001   2.04632064e-001  -1.35617510e-001\n",
      "   -5.32527186e-001]\n",
      " [  9.43842779e-001   8.05337227e-001   7.22170407e-001   6.93063297e-001\n",
      "    6.76002181e-001   6.13162537e-001   5.04582603e-001   4.09590597e-001\n",
      "    2.59521842e-001   1.84773570e-002  -1.84639723e-001  -3.91197695e-001\n",
      "   -6.03757623e-001  -7.81805699e-001  -9.03895445e-001  -9.78912256e-001\n",
      "   -1.04972121e+000  -1.03685145e+000  -9.07867948e-001  -6.89394329e-001\n",
      "   -5.49123442e-001  -3.98555385e-001  -2.65353592e-001  -8.39505397e-002\n",
      "    3.28274512e-002]\n",
      " [ -2.00786441e-001   1.31305386e-001   3.68417108e-001   5.04901404e-001\n",
      "    5.74475276e-001   5.80523910e-001   4.90392680e-001   2.75952675e-001\n",
      "    2.44243344e-002  -4.01347672e-001  -5.81496259e-001  -6.14905883e-001\n",
      "   -4.22282167e-001  -2.18693137e-001  -4.33816333e-002   1.26097397e-001\n",
      "    2.78382733e-001   2.78197184e-001   8.92247490e-002  -2.46431275e-001\n",
      "   -4.91021109e-001  -6.55687926e-001  -5.59837550e-001  -3.59041894e-001\n",
      "    3.64029972e-002]\n",
      " [  4.64026759e-001   4.88652656e-001   4.41755040e-001   3.36039228e-001\n",
      "    5.64980547e-002  -1.57494538e-001  -4.36997171e-001  -7.80846570e-001\n",
      "   -1.34661178e+000  -2.04515852e+000  -2.58185813e+000  -6.12008204e-001\n",
      "   -4.63394305e-002   6.47207556e-001   5.85314885e-001   2.05500359e-001\n",
      "   -1.38000331e-001  -4.61248449e-001  -7.61243503e-001  -8.73491805e-001\n",
      "   -1.77607939e-001  -3.26486434e-001  -6.62318315e-001  -7.37160645e-001\n",
      "   -6.95243537e-001]\n",
      " [ -7.85204441e-001  -4.14285162e-001  -9.43810163e-002   1.69779733e-001\n",
      "    4.47088806e-001   6.01632507e-001   4.86006631e-001   2.10422033e-002\n",
      "   -5.81962771e-001  -8.24195330e-001  -1.18120055e+000  -1.37441014e+000\n",
      "   -1.39804579e+000  -1.05224497e+000  -5.88651204e-001  -1.00878167e-001\n",
      "    2.56344683e-001   5.10857064e-001   5.13410768e-001   4.72307574e-001\n",
      "    4.73371238e-001   3.33112901e-001   2.57668109e-001   1.60397650e-001\n",
      "    6.44029752e-002]\n",
      " [  2.25007794e-001   3.03195799e-002  -1.99927623e-001  -2.80745596e-001\n",
      "   -3.55391055e-001  -3.61377892e-001  -4.22027109e-001  -4.25846072e-001\n",
      "   -4.32992813e-001  -5.22049385e-001  -6.29146106e-001  -6.04355746e-001\n",
      "   -7.48040424e-001  -8.17432985e-001  -7.11369854e-001  -5.79896589e-001\n",
      "   -4.11742893e-001  -2.78618334e-001  -1.61427456e-001   2.15844199e-002\n",
      "    2.73794667e-001   4.21442726e-001   5.75501482e-001   7.17703347e-001\n",
      "    7.70721508e-001]\n",
      " [ -2.25908705e-316  -9.33156706e-317  -3.24256430e-316   8.98750617e-317\n",
      "   -5.56018069e-317  -3.44177512e-316  -1.26569668e-316  -1.12546435e-316\n",
      "    1.23202561e-316   2.42798898e-316   1.11073763e-317   8.57470889e-317\n",
      "    6.91713297e-317   1.17193023e-316   1.09511943e-316  -4.48353062e-316\n",
      "   -2.91791732e-316   2.69903719e-316  -1.66507934e-316  -1.96336801e-316\n",
      "   -1.95638336e-317  -8.88165013e-318  -2.93811650e-317  -1.60341644e-317\n",
      "    1.03596475e-317]\n",
      " [ -1.25314942e+000  -1.34817678e+000  -1.42600906e+000  -1.55705600e+000\n",
      "   -1.58131936e+000  -1.50884964e+000  -1.41180100e+000  -1.20525882e+000\n",
      "   -8.62018942e-001  -4.59922049e-001  -7.74996925e-002   2.54791851e-001\n",
      "    4.86805639e-001   6.41224811e-001   6.68126960e-001   6.92047605e-001\n",
      "    6.39220048e-001   4.63034078e-001   1.19607505e-001  -1.61383960e-001\n",
      "   -4.81767762e-001  -6.76540394e-001  -7.66238994e-001  -8.97846601e-001\n",
      "   -1.19315504e+000]\n",
      " [ -1.21406930e+000  -1.34338804e+000  -1.34330142e+000  -1.22677474e+000\n",
      "   -1.02783417e+000  -5.88984286e-001  -7.56660569e-002   3.83981606e-001\n",
      "    4.39697533e-001   3.07639589e-001   3.14050095e-001   2.57767650e-001\n",
      "    2.41656506e-001   1.38004038e-001  -6.33821781e-002  -2.21713790e-002\n",
      "   -7.67058935e-002  -1.42317688e-001  -8.86071178e-002   7.00959403e-002\n",
      "    2.22768370e-001  -3.24412323e-002  -2.70991499e-001  -4.80646414e-001\n",
      "   -8.48453991e-001]\n",
      " [  1.38485782e+000   1.01738637e+000   6.06183051e-001   1.85604940e-001\n",
      "   -2.50139780e-001  -6.70422865e-001  -1.04352808e+000  -1.37730165e+000\n",
      "   -4.96012667e-001   1.50368567e-001   7.05165576e-002   6.34988109e-001\n",
      "    1.09043931e+000   7.12310656e-001   3.29928377e-001   2.11139242e-001\n",
      "   -2.36228300e-001  -5.75323921e-001  -8.04577503e-001  -4.78755376e-001\n",
      "   -7.05265906e-002   1.79295805e-001   2.82070250e-001   3.91873230e-001\n",
      "    4.90222694e-001]\n",
      " [ -8.38857972e-001  -5.76846438e-001  -3.13781418e-001  -6.11143863e-002\n",
      "    2.11644294e-001   4.41036356e-001   5.72598488e-001   6.45973917e-001\n",
      "    6.71235117e-001  -2.53402752e-001  -2.25389786e-001  -2.82506199e-001\n",
      "   -3.81807707e-001  -5.28326648e-001  -4.71615446e-001  -2.52807277e-001\n",
      "   -8.65446047e-002   7.72751686e-002   2.13517056e-001   2.25662113e-001\n",
      "    7.92396636e-002   1.10730409e-001   3.02847528e-001   4.83921097e-001\n",
      "    7.55584996e-001]\n",
      " [ -3.18041296e-316  -3.04214795e-316  -2.33930652e-316   2.68706035e-316\n",
      "    1.08852163e-316  -1.42566491e-316   4.45672706e-317   2.08994610e-316\n",
      "   -6.54100129e-317   1.59725939e-317   1.36418545e-316  -8.91329010e-318\n",
      "   -2.74043258e-316  -4.43514479e-317  -2.97792633e-316   9.84041515e-317\n",
      "   -6.97292830e-317   8.20661417e-317   5.87578291e-317   2.44912100e-316\n",
      "   -2.09299221e-316  -2.52211659e-316  -2.50850340e-316  -1.17822651e-316\n",
      "    1.50603407e-316]\n",
      " [  8.54918614e-001   6.12328426e-001   4.21075919e-001   3.12227215e-001\n",
      "    3.14951402e-001   2.65602747e-001   2.08731567e-001   2.90498763e-001\n",
      "    3.12743794e-001   3.74043936e-001   3.00517495e-001   1.78228853e-001\n",
      "   -9.31558003e-002  -3.80449434e-001  -8.17892476e-001  -1.23092130e+000\n",
      "   -1.52197570e+000  -1.50927567e+000  -9.61968568e-001  -3.65336908e-001\n",
      "   -1.31236676e-001   8.34459519e-002   2.66489148e-001   5.10915610e-001\n",
      "    7.17688421e-001]\n",
      " [  3.31214117e-001   3.84833122e-001   3.50203143e-001   2.05264603e-001\n",
      "   -8.96181677e-002  -5.36993269e-001  -1.04583801e+000  -1.59895944e+000\n",
      "   -1.43642993e+000  -1.18774344e-001  -1.75569412e-004  -1.27170150e-005\n",
      "   -3.39352903e-004  -6.46028763e-004  -4.67006764e-002  -7.22355361e-003\n",
      "   -4.22783989e-002  -5.59798164e-002  -3.11239085e-001  -6.54390248e-001\n",
      "   -4.21910949e-001  -1.54754652e-001  -7.11089851e-002  -1.13639869e-001\n",
      "   -1.02353593e-001]\n",
      " [  1.11146434e-001   1.00750686e-001   8.53984320e-002  -5.44328249e-002\n",
      "   -1.62963168e-001  -2.86576635e-001  -3.85601170e-001  -4.69112314e-001\n",
      "   -4.88817121e-001  -1.71185345e-001   1.03835255e-001   3.08245862e-001\n",
      "    5.72917523e-001   6.52188796e-001   6.63788546e-001   5.94422461e-001\n",
      "    5.29141240e-001   3.66202398e-001  -2.98446938e-002  -2.45615146e-001\n",
      "   -2.46349268e-001  -3.02479694e-002   8.14094953e-002   1.22472756e-001\n",
      "    1.25719781e-002]\n",
      " [ -1.91273976e+000  -1.32540975e+000  -7.73755978e-001  -2.81706496e-001\n",
      "    7.38926512e-002   2.76557978e-001   3.31171862e-001   2.25095284e-001\n",
      "    9.28643550e-002  -1.48612377e-001  -5.40017026e-001  -1.03642533e+000\n",
      "   -1.43465238e+000  -1.24355690e+000  -1.11711673e+000  -7.29356134e-001\n",
      "   -3.17432620e-001   2.05717969e-002   4.50305564e-001   5.89742140e-001\n",
      "    4.99322657e-001   3.32322946e-001   1.15509994e-001  -2.26937573e-001\n",
      "   -8.37802218e-001]\n",
      " [ -1.21506587e+000  -8.21886934e-001  -4.60798439e-001  -1.85333942e-001\n",
      "   -2.65682968e-002   1.68057126e-002   1.51544873e-001   2.75180065e-001\n",
      "    3.88288853e-001   4.49356511e-001   4.56219219e-001   4.20051358e-001\n",
      "    2.72108769e-001   2.23943795e-001   1.71007357e-001   7.46715168e-002\n",
      "    3.79998988e-002  -1.76220435e-001  -2.51684766e-001  -7.12202685e-002\n",
      "    1.13001957e-001  -1.52463187e-001  -2.32392171e-001  -2.10749714e-001\n",
      "   -1.47175487e-001]\n",
      " [ -3.63922714e-002  -8.35313443e-002   1.12937020e-002   8.71669718e-003\n",
      "    6.22447193e-002   1.43609637e-001   3.31443105e-001   4.25551225e-001\n",
      "    3.94608453e-001   3.44565855e-001   2.15608528e-001   5.85807486e-002\n",
      "   -8.47108682e-002  -2.78797933e-001  -5.94543834e-001  -1.14487761e+000\n",
      "   -1.73752610e+000  -2.34066059e+000  -2.78210610e+000  -1.41392600e+000\n",
      "   -3.20107615e-001  -1.63627606e-002   2.30669836e-002  -7.14076022e-003\n",
      "   -2.62747632e-003]\n",
      " [  1.26330433e+000   8.76911302e-001   5.49040621e-001   2.78222348e-001\n",
      "   -6.45972486e-002  -3.90471007e-001  -5.60609089e-001  -7.07104142e-001\n",
      "   -9.60248670e-001  -8.98316043e-001  -5.44759716e-001  -7.19677002e-002\n",
      "    2.52722124e-001   4.56854451e-001   4.91252352e-001   3.08372431e-001\n",
      "    1.36564839e-001  -5.42583947e-003   7.67011198e-002   1.12032370e-001\n",
      "   -3.77116360e-001  -2.22211607e-001  -1.56469340e-001  -3.10186176e-001\n",
      "   -2.75342400e-001]\n",
      " [ -3.83919491e-317   1.24293819e-316  -1.33489774e-316  -1.60382992e-316\n",
      "   -5.05244375e-318   2.62460517e-318   2.38045655e-316  -2.77191578e-317\n",
      "   -8.55102140e-317   1.78497020e-316  -1.03295639e-317   1.20123544e-316\n",
      "   -4.95872049e-317  -3.40387288e-316  -2.33589949e-316  -5.64955963e-317\n",
      "    2.78237550e-316  -9.62831623e-317   1.51089726e-316  -2.95653561e-316\n",
      "   -1.97418029e-316   1.24869998e-316  -3.30232371e-316  -2.94324806e-316\n",
      "    2.97211909e-316]\n",
      " [ -5.40347933e-002   9.98081372e-003  -1.26395587e-001  -9.90574807e-002\n",
      "   -3.17322680e-001  -6.34785802e-001  -6.86944873e-001  -6.10768676e-001\n",
      "   -3.71587203e-001  -2.43952241e-001  -8.47218186e-002   1.53416999e-001\n",
      "    4.78420911e-001   7.24873749e-001  -1.27802351e-002  -4.41640646e-002\n",
      "   -9.03071525e-002  -1.81113640e-001  -1.07566716e+000  -1.34385415e+000\n",
      "   -9.25870903e-001  -4.48791393e-001   4.64826449e-002   4.38567241e-001\n",
      "    8.33132776e-001]\n",
      " [ -1.67043402e-001  -3.44395573e-001  -3.53687124e-001  -3.57819526e-001\n",
      "   -1.51629494e-001   1.10258709e-002   9.13929189e-002   1.92908703e-001\n",
      "    2.84137860e-001   3.08973896e-001   1.35911934e-001  -1.84512437e-001\n",
      "   -7.52312533e-001  -1.55979847e+000  -2.33194858e+000  -1.75311168e+000\n",
      "   -1.08457219e+000  -6.38285936e-001  -4.02876514e-001  -4.19507385e-001\n",
      "   -7.33895687e-001  -5.14486443e-001  -1.23492817e-001  -2.66083538e-003\n",
      "   -1.00665413e-002]\n",
      " [ -3.63074781e-001  -2.62644557e-001  -2.87858405e-002   1.86249658e-001\n",
      "    3.22826007e-001   4.01191336e-001   4.09449055e-001   3.48616792e-001\n",
      "    1.75727097e-001  -1.11535271e-001  -3.36141940e-001  -7.18177761e-001\n",
      "   -1.00947198e+000  -9.28594368e-001  -8.70839538e-001  -6.90471027e-001\n",
      "   -4.92857060e-001  -2.82234577e-001  -3.94466892e-002   1.87568905e-001\n",
      "    1.90553258e-001   2.87633183e-001   2.05020122e-001   2.67135041e-001\n",
      "    3.58170557e-001]\n",
      " [ -4.84679951e-001  -2.21162444e-001   1.21832608e-001   3.76056831e-001\n",
      "    4.78931425e-001   5.01294122e-001   5.15758559e-001   2.53788347e-001\n",
      "    3.94411923e-002  -1.18118213e-001  -2.78892779e-001  -3.71862222e-001\n",
      "   -3.37466783e-001  -1.66322404e-001   1.03341507e-001   4.11904569e-001\n",
      "    7.10247852e-001   7.71290761e-001   5.19430572e-001   1.13813134e-001\n",
      "   -1.81650224e-001  -3.27880644e-001  -5.54034943e-001  -6.95469405e-001\n",
      "   -7.38414189e-001]]\n",
      "[-3.00380904 -1.48912727 -0.3195442   0.54041286  0.84500312  1.03044465\n",
      "  0.12530081 -1.0367375  -1.0291168   0.03044067  0.2578799   0.42471953\n",
      "  0.66492425  0.30643837 -0.19653972 -0.51781615 -0.33070806  0.81902268\n",
      "  1.98312345  0.26488186 -0.06231777 -0.2848207  -0.0896028  -0.36015122\n",
      "  1.26778911]\n",
      "[ 0.          0.          0.          0.          0.          0.          0.\n",
      "  0.          0.          0.          0.          0.          0.          0.\n",
      "  0.          0.          0.          0.          0.          2.08246369\n",
      "  4.97830956  3.94953843  2.84978464  0.          0.        ]\n"
     ]
    }
   ],
   "source": [
    "state = netinput\n",
    "for i in range(3):\n",
    "    state = np.clip(np.dot(state, classifier.coefs_[i]) + classifier.intercepts_[i], 0.0, 1.0e6)\n",
    "    print(i, state.shape)\n",
    "    print(classifier.coefs_[i])\n",
    "    print(classifier.intercepts_[i])\n",
    "    print(state)"
   ]
  },
  {
   "cell_type": "code",
   "execution_count": 10,
   "metadata": {
    "collapsed": false,
    "deletable": true,
    "editable": true
   },
   "outputs": [
    {
     "data": {
      "text/plain": [
       "array([ 0.        ,  0.        ,  0.        ,  0.        ,  0.        ,\n",
       "        0.        ,  0.        ,  0.        ,  0.        ,  0.        ,\n",
       "        0.        ,  0.        ,  0.        ,  0.        ,  0.        ,\n",
       "        0.        ,  0.        ,  0.        ,  0.        ,  0.03607226,\n",
       "        0.6528647 ,  0.23336384,  0.0776992 ,  0.        ,  0.        ])"
      ]
     },
     "execution_count": 10,
     "metadata": {},
     "output_type": "execute_result"
    }
   ],
   "source": [
    "def normalize(x):\n",
    "    xnz = x[x>0]\n",
    "    expx = np.exp(xnz)\n",
    "    norm = sum(expx)\n",
    "    x[x>0] = expx/norm\n",
    "    return x\n",
    "\n",
    "state = normalize(state)\n",
    "state"
   ]
  },
  {
   "cell_type": "code",
   "execution_count": 11,
   "metadata": {
    "collapsed": false,
    "deletable": true,
    "editable": true
   },
   "outputs": [
    {
     "data": {
      "text/plain": [
       "array([[  5.46291396e-21,   2.33252929e-17,   7.65709103e-15,\n",
       "          1.06987391e-12,   1.49153686e-10,   1.19548723e-09,\n",
       "          1.10684122e-10,   4.98965866e-14,   2.38791913e-14,\n",
       "          1.46503890e-13,   1.12497607e-17,   8.12129742e-19,\n",
       "          1.62312843e-19,   4.99988419e-17,   7.01861412e-17,\n",
       "          1.39315222e-12,   4.90923336e-10,   2.76393125e-07,\n",
       "          8.74950386e-05,   3.60542305e-02,   6.52538458e-01,\n",
       "          2.33247224e-01,   7.76603750e-02,   4.11932336e-04,\n",
       "          5.82512616e-09]])"
      ]
     },
     "execution_count": 11,
     "metadata": {},
     "output_type": "execute_result"
    }
   ],
   "source": [
    "sl_state = classifier.predict_proba(netinput.reshape(1,-1))\n",
    "sl_state"
   ]
  },
  {
   "cell_type": "code",
   "execution_count": 12,
   "metadata": {
    "collapsed": false,
    "deletable": true,
    "editable": true
   },
   "outputs": [
    {
     "name": "stdout",
     "output_type": "stream",
     "text": [
      "Data written.\n"
     ]
    }
   ],
   "source": [
    "with open('classifier.txt', 'w') as cdump:\n",
    "    cdump.write(\"Classifier coefficients:\\n\")\n",
    "    for iLayer in range(len(classifier.coefs_)):\n",
    "        cdump.write('Layer: {0}\\n'.format(iLayer))\n",
    "        nrows = classifier.coefs_[iLayer].shape[0]\n",
    "        ncols = classifier.coefs_[iLayer].shape[1]\n",
    "        cdump.write('Weights:\\n')\n",
    "        for col in range(ncols):\n",
    "            s = \" \".join([str(classifier.coefs_[iLayer][row, col]) for row in range(nrows)])\n",
    "            s+=\"\\n\"\n",
    "            cdump.write(s)\n",
    "        # intercepts should have nrows dimension\n",
    "        cdump.write('Intercepts:\\n')\n",
    "        s = \" \".join([str(classifier.intercepts_[iLayer][col]) for col in range(ncols)])\n",
    "        s += \"\\n\"\n",
    "        cdump.write(s)\n",
    "\n",
    "print(\"Data written.\")\n",
    "\n",
    "                \n",
    "        "
   ]
  },
  {
   "cell_type": "code",
   "execution_count": 13,
   "metadata": {
    "collapsed": true,
    "deletable": true,
    "editable": true
   },
   "outputs": [],
   "source": [
    " def tau_code(x):\n",
    "    return (3.0 + (100.0 - 3.0)/(329.541 - 197.725) * (x - 197.725))"
   ]
  },
  {
   "cell_type": "code",
   "execution_count": 14,
   "metadata": {
    "collapsed": false,
    "deletable": true,
    "editable": true
   },
   "outputs": [
    {
     "data": {
      "text/plain": [
       "41.46782636402258"
      ]
     },
     "execution_count": 14,
     "metadata": {},
     "output_type": "execute_result"
    }
   ],
   "source": [
    "tau_code(250)"
   ]
  },
  {
   "cell_type": "code",
   "execution_count": null,
   "metadata": {
    "collapsed": true,
    "deletable": true,
    "editable": true
   },
   "outputs": [],
   "source": []
  }
 ],
 "metadata": {
  "anaconda-cloud": {},
  "kernelspec": {
   "display_name": "Python 3 (Belle2)",
   "language": "python",
   "name": "python3"
  },
  "language_info": {
   "codemirror_mode": {
    "name": "ipython",
    "version": 3
   },
   "file_extension": ".py",
   "mimetype": "text/x-python",
   "name": "python",
   "nbconvert_exporter": "python",
   "pygments_lexer": "ipython3",
   "version": "3.6.2"
  }
 },
 "nbformat": 4,
 "nbformat_minor": 1
}
