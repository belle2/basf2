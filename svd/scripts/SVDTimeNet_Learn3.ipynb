{
 "cells": [
  {
   "cell_type": "markdown",
   "metadata": {
    "deletable": true,
    "editable": true
   },
   "source": [
    "## Train and save the SVDTime Neural Network\n",
    "\n",
    "The SVDTimeNN is a MultilayerPerceptron estimator of \n",
    "The truth data in this case are bin numbers in a series of time shift bins. The result of such a training is a distribution function for a time shift value. From these, it is easy to calculate mean value and standard deviation, but also do a range of approximate probabilistic calculations."
   ]
  },
  {
   "cell_type": "markdown",
   "metadata": {
    "deletable": true,
    "editable": true
   },
   "source": [
    "##### Required Python packages\n",
    "\n",
    "The following python packages are used:\n",
    "- math (basic python math functions)\n",
    "- numpy (Vectors and matrices for numerics)\n",
    "- pandas (Python analogue of Excel tables)\n",
    "- matplotlib (Plotting library)\n",
    "- seaborn (Advanced plotting)\n",
    "- scipy (Scientific computing package)\n",
    "- scikit-learn (machine learning)\n",
    "\n",
    "Only sklear2pmml is missing in the current basf2 distribution. Install it with\n",
    "\n",
    "pip3 install --user git+https://github.com/jpmml/sklearn2pmml.git\n",
    "\n",
    "##### Other pre-requisites:\n",
    "\n",
    "A sample of training data, plus binning and bounds information in pickle (*.pkl) files."
   ]
  },
  {
   "cell_type": "code",
   "execution_count": 1,
   "metadata": {
    "collapsed": false,
    "deletable": true,
    "editable": true
   },
   "outputs": [
    {
     "data": {
      "application/javascript": [
       "\n",
       "require(['notebook'],\n",
       "  function() {\n",
       "    IPython.CodeCell.config_defaults.highlight_modes['magic_text/x-c++src'] = {'reg':[/^%%cpp/]};\n",
       "    console.log(\"JupyROOT - %%cpp magic configured\");\n",
       "  }\n",
       ");\n"
      ]
     },
     "metadata": {},
     "output_type": "display_data"
    },
    {
     "name": "stdout",
     "output_type": "stream",
     "text": [
      "Welcome to JupyROOT 6.08/06\n"
     ]
    }
   ],
   "source": [
    "import math\n",
    "import datetime\n",
    "import numpy as np\n",
    "import pandas as pd\n",
    "%matplotlib inline\n",
    "import matplotlib.pyplot as plt\n",
    "from matplotlib import pylab\n",
    "import seaborn as sns\n",
    "from scipy import stats as stats\n",
    "from scipy.optimize import minimize_scalar\n",
    "from sklearn.neural_network import MLPClassifier\n",
    "from sklearn2pmml import sklearn2pmml, PMMLPipeline\n",
    "from svd.SVDSimBase import *\n",
    "from lxml import etree as ET"
   ]
  },
  {
   "cell_type": "markdown",
   "metadata": {
    "deletable": true,
    "editable": true
   },
   "source": [
    "### Retrieve training sample"
   ]
  },
  {
   "cell_type": "code",
   "execution_count": 2,
   "metadata": {
    "collapsed": false,
    "deletable": true,
    "editable": true
   },
   "outputs": [],
   "source": [
    "n_samples = 1000000\n",
    "pkl_name = 'SVDTime_Training3_{0}_{1}.pkl'\n",
    "\n",
    "stockdata = pd.read_pickle(pkl_name.format('Sample', n_samples))\n",
    "n_samples = len(stockdata)\n",
    "bounds = pd.read_pickle(pkl_name.format('Bounds', n_samples))\n",
    "bins = pd.read_pickle(pkl_name.format('Bins', n_samples))\n",
    "\n",
    "timearray = bins['midpoint']\n",
    "timebins = np.unique(bins[['lower','upper']])"
   ]
  },
  {
   "cell_type": "code",
   "execution_count": 3,
   "metadata": {
    "collapsed": false,
    "deletable": true,
    "editable": true
   },
   "outputs": [
    {
     "data": {
      "text/html": [
       "<div>\n",
       "<style>\n",
       "    .dataframe thead tr:only-child th {\n",
       "        text-align: right;\n",
       "    }\n",
       "\n",
       "    .dataframe thead th {\n",
       "        text-align: left;\n",
       "    }\n",
       "\n",
       "    .dataframe tbody tr th {\n",
       "        vertical-align: top;\n",
       "    }\n",
       "</style>\n",
       "<table border=\"1\" class=\"dataframe\">\n",
       "  <thead>\n",
       "    <tr style=\"text-align: right;\">\n",
       "      <th></th>\n",
       "      <th>test</th>\n",
       "      <th>amplitude</th>\n",
       "      <th>t0</th>\n",
       "      <th>tau</th>\n",
       "      <th>sigma</th>\n",
       "      <th>s1</th>\n",
       "      <th>s2</th>\n",
       "      <th>s3</th>\n",
       "      <th>s4</th>\n",
       "      <th>s5</th>\n",
       "      <th>s6</th>\n",
       "      <th>normed_tau</th>\n",
       "      <th>t0_bin</th>\n",
       "      <th>abin</th>\n",
       "    </tr>\n",
       "  </thead>\n",
       "  <tbody>\n",
       "    <tr>\n",
       "      <th>0</th>\n",
       "      <td>0.267836</td>\n",
       "      <td>14.456133</td>\n",
       "      <td>-7.404476</td>\n",
       "      <td>225.897068</td>\n",
       "      <td>4.139629</td>\n",
       "      <td>0.000000</td>\n",
       "      <td>0.000000</td>\n",
       "      <td>14.010917</td>\n",
       "      <td>12.561512</td>\n",
       "      <td>10.387404</td>\n",
       "      <td>8.454864</td>\n",
       "      <td>13.321875</td>\n",
       "      <td>13</td>\n",
       "      <td>12</td>\n",
       "    </tr>\n",
       "    <tr>\n",
       "      <th>1</th>\n",
       "      <td>0.761310</td>\n",
       "      <td>90.094752</td>\n",
       "      <td>-0.203702</td>\n",
       "      <td>244.035236</td>\n",
       "      <td>2.352088</td>\n",
       "      <td>0.000000</td>\n",
       "      <td>0.000000</td>\n",
       "      <td>65.898884</td>\n",
       "      <td>90.557821</td>\n",
       "      <td>75.252274</td>\n",
       "      <td>55.695186</td>\n",
       "      <td>25.833429</td>\n",
       "      <td>15</td>\n",
       "      <td>88</td>\n",
       "    </tr>\n",
       "    <tr>\n",
       "      <th>2</th>\n",
       "      <td>0.389157</td>\n",
       "      <td>98.083420</td>\n",
       "      <td>-39.552291</td>\n",
       "      <td>328.020822</td>\n",
       "      <td>4.495098</td>\n",
       "      <td>8.231188</td>\n",
       "      <td>68.519079</td>\n",
       "      <td>95.882218</td>\n",
       "      <td>93.212643</td>\n",
       "      <td>79.419842</td>\n",
       "      <td>63.624859</td>\n",
       "      <td>83.765971</td>\n",
       "      <td>3</td>\n",
       "      <td>96</td>\n",
       "    </tr>\n",
       "    <tr>\n",
       "      <th>3</th>\n",
       "      <td>0.646701</td>\n",
       "      <td>94.736810</td>\n",
       "      <td>29.742417</td>\n",
       "      <td>284.786097</td>\n",
       "      <td>4.981928</td>\n",
       "      <td>0.000000</td>\n",
       "      <td>0.000000</td>\n",
       "      <td>0.000000</td>\n",
       "      <td>62.626350</td>\n",
       "      <td>93.738800</td>\n",
       "      <td>88.519938</td>\n",
       "      <td>53.943026</td>\n",
       "      <td>25</td>\n",
       "      <td>92</td>\n",
       "    </tr>\n",
       "    <tr>\n",
       "      <th>4</th>\n",
       "      <td>0.361906</td>\n",
       "      <td>3.346757</td>\n",
       "      <td>-38.118085</td>\n",
       "      <td>239.676184</td>\n",
       "      <td>1.654655</td>\n",
       "      <td>0.000000</td>\n",
       "      <td>0.000000</td>\n",
       "      <td>4.230489</td>\n",
       "      <td>4.834844</td>\n",
       "      <td>4.230489</td>\n",
       "      <td>0.000000</td>\n",
       "      <td>22.826592</td>\n",
       "      <td>3</td>\n",
       "      <td>1</td>\n",
       "    </tr>\n",
       "  </tbody>\n",
       "</table>\n",
       "</div>"
      ],
      "text/plain": [
       "       test  amplitude         t0         tau     sigma        s1         s2  \\\n",
       "0  0.267836  14.456133  -7.404476  225.897068  4.139629  0.000000   0.000000   \n",
       "1  0.761310  90.094752  -0.203702  244.035236  2.352088  0.000000   0.000000   \n",
       "2  0.389157  98.083420 -39.552291  328.020822  4.495098  8.231188  68.519079   \n",
       "3  0.646701  94.736810  29.742417  284.786097  4.981928  0.000000   0.000000   \n",
       "4  0.361906   3.346757 -38.118085  239.676184  1.654655  0.000000   0.000000   \n",
       "\n",
       "          s3         s4         s5         s6  normed_tau  t0_bin  abin  \n",
       "0  14.010917  12.561512  10.387404   8.454864   13.321875      13    12  \n",
       "1  65.898884  90.557821  75.252274  55.695186   25.833429      15    88  \n",
       "2  95.882218  93.212643  79.419842  63.624859   83.765971       3    96  \n",
       "3   0.000000  62.626350  93.738800  88.519938   53.943026      25    92  \n",
       "4   4.230489   4.834844   4.230489   0.000000   22.826592       3     1  "
      ]
     },
     "execution_count": 3,
     "metadata": {},
     "output_type": "execute_result"
    }
   ],
   "source": [
    "stockdata.head()"
   ]
  },
  {
   "cell_type": "markdown",
   "metadata": {
    "deletable": true,
    "editable": true
   },
   "source": [
    "### Split the data into training and test samples"
   ]
  },
  {
   "cell_type": "code",
   "execution_count": 4,
   "metadata": {
    "collapsed": true,
    "deletable": true,
    "editable": true
   },
   "outputs": [],
   "source": [
    "test_fraction = 0.2\n",
    "X = stockdata[['s'+str(i) for i in range(2,5)]+['normed_tau']]\n",
    "Y = stockdata['t0_bin']\n",
    "X_train = X[stockdata.test>test_fraction]\n",
    "X_test = X[stockdata.test<test_fraction]\n",
    "Y_train = Y[stockdata.test>test_fraction]\n",
    "Y_test = Y[stockdata.test<test_fraction]"
   ]
  },
  {
   "cell_type": "code",
   "execution_count": 5,
   "metadata": {
    "collapsed": false,
    "deletable": true,
    "editable": true
   },
   "outputs": [
    {
     "data": {
      "text/html": [
       "<div>\n",
       "<style>\n",
       "    .dataframe thead tr:only-child th {\n",
       "        text-align: right;\n",
       "    }\n",
       "\n",
       "    .dataframe thead th {\n",
       "        text-align: left;\n",
       "    }\n",
       "\n",
       "    .dataframe tbody tr th {\n",
       "        vertical-align: top;\n",
       "    }\n",
       "</style>\n",
       "<table border=\"1\" class=\"dataframe\">\n",
       "  <thead>\n",
       "    <tr style=\"text-align: right;\">\n",
       "      <th></th>\n",
       "      <th>s2</th>\n",
       "      <th>s3</th>\n",
       "      <th>s4</th>\n",
       "      <th>normed_tau</th>\n",
       "    </tr>\n",
       "  </thead>\n",
       "  <tbody>\n",
       "    <tr>\n",
       "      <th>0</th>\n",
       "      <td>0.000000</td>\n",
       "      <td>14.010917</td>\n",
       "      <td>12.561512</td>\n",
       "      <td>13.321875</td>\n",
       "    </tr>\n",
       "    <tr>\n",
       "      <th>1</th>\n",
       "      <td>0.000000</td>\n",
       "      <td>65.898884</td>\n",
       "      <td>90.557821</td>\n",
       "      <td>25.833429</td>\n",
       "    </tr>\n",
       "    <tr>\n",
       "      <th>2</th>\n",
       "      <td>68.519079</td>\n",
       "      <td>95.882218</td>\n",
       "      <td>93.212643</td>\n",
       "      <td>83.765971</td>\n",
       "    </tr>\n",
       "    <tr>\n",
       "      <th>3</th>\n",
       "      <td>0.000000</td>\n",
       "      <td>0.000000</td>\n",
       "      <td>62.626350</td>\n",
       "      <td>53.943026</td>\n",
       "    </tr>\n",
       "    <tr>\n",
       "      <th>4</th>\n",
       "      <td>0.000000</td>\n",
       "      <td>4.230489</td>\n",
       "      <td>4.834844</td>\n",
       "      <td>22.826592</td>\n",
       "    </tr>\n",
       "  </tbody>\n",
       "</table>\n",
       "</div>"
      ],
      "text/plain": [
       "          s2         s3         s4  normed_tau\n",
       "0   0.000000  14.010917  12.561512   13.321875\n",
       "1   0.000000  65.898884  90.557821   25.833429\n",
       "2  68.519079  95.882218  93.212643   83.765971\n",
       "3   0.000000   0.000000  62.626350   53.943026\n",
       "4   0.000000   4.230489   4.834844   22.826592"
      ]
     },
     "execution_count": 5,
     "metadata": {},
     "output_type": "execute_result"
    }
   ],
   "source": [
    "X.head()"
   ]
  },
  {
   "cell_type": "code",
   "execution_count": 6,
   "metadata": {
    "collapsed": true,
    "deletable": true,
    "editable": true
   },
   "outputs": [],
   "source": [
    "classifier = MLPClassifier(\n",
    "    hidden_layer_sizes = (len(timearray)-1,len(timearray)+1),\n",
    "    activation = 'relu',\n",
    "    solver = 'adam',\n",
    "    tol = 1.0e-6, \n",
    "    alpha = 0.005, \n",
    "    verbose = False\n",
    ")\n",
    "nntime_fitter = PMMLPipeline([('claasifier', classifier)])"
   ]
  },
  {
   "cell_type": "code",
   "execution_count": 7,
   "metadata": {
    "collapsed": false,
    "deletable": true,
    "editable": true,
    "scrolled": false
   },
   "outputs": [
    {
     "data": {
      "text/plain": [
       "PMMLPipeline(steps=[('claasifier', MLPClassifier(activation='relu', alpha=0.005, batch_size='auto', beta_1=0.9,\n",
       "       beta_2=0.999, early_stopping=False, epsilon=1e-08,\n",
       "       hidden_layer_sizes=(24, 26), learning_rate='constant',\n",
       "       learning_rate_init=0.001, max_iter=200, momentum=0.9,\n",
       "       nesterovs_momentum=True, power_t=0.5, random_state=None,\n",
       "       shuffle=True, solver='adam', tol=1e-06, validation_fraction=0.1,\n",
       "       verbose=False, warm_start=False))])"
      ]
     },
     "execution_count": 7,
     "metadata": {},
     "output_type": "execute_result"
    }
   ],
   "source": [
    "nntime_fitter.fit(X_train,Y_train)"
   ]
  },
  {
   "cell_type": "code",
   "execution_count": 8,
   "metadata": {
    "collapsed": false,
    "deletable": true,
    "editable": true
   },
   "outputs": [
    {
     "name": "stdout",
     "output_type": "stream",
     "text": [
      "Test: 0.6368647975077881\n",
      "Train: 0.6368750586395622\n"
     ]
    }
   ],
   "source": [
    "test_score = nntime_fitter.score(X_test, Y_test)\n",
    "train_score = nntime_fitter.score(X_train, Y_train)\n",
    "print('Test: {}'.format(test_score))\n",
    "print('Train: {}'.format(train_score))"
   ]
  },
  {
   "cell_type": "code",
   "execution_count": 9,
   "metadata": {
    "collapsed": false,
    "deletable": true,
    "editable": true
   },
   "outputs": [
    {
     "name": "stderr",
     "output_type": "stream",
     "text": [
      "Oct 29, 2017 11:51:49 PM org.jpmml.sklearn.Main run\n",
      "INFO: Parsing PKL..\n",
      "Oct 29, 2017 11:51:49 PM org.jpmml.sklearn.Main run\n",
      "INFO: Parsed PKL in 70 ms.\n",
      "Oct 29, 2017 11:51:49 PM org.jpmml.sklearn.Main run\n",
      "INFO: Converting..\n",
      "Oct 29, 2017 11:51:49 PM org.jpmml.sklearn.Main run\n",
      "INFO: Converted in 99 ms.\n",
      "Oct 29, 2017 11:51:49 PM org.jpmml.sklearn.Main run\n",
      "INFO: Marshalling PMML..\n",
      "Oct 29, 2017 11:51:50 PM org.jpmml.sklearn.Main run\n",
      "INFO: Marshalled PMML in 1002 ms.\n"
     ]
    }
   ],
   "source": [
    "pmml_name = 'SVDTimeNet3.pmml'\n",
    "xml_name = pmml_name.replace('pmml','xml')\n",
    "sklearn2pmml(nntime_fitter, pmml_name, with_repr = True)"
   ]
  },
  {
   "cell_type": "code",
   "execution_count": 10,
   "metadata": {
    "collapsed": true,
    "deletable": true,
    "editable": true
   },
   "outputs": [],
   "source": [
    "parser = ET.XMLParser(remove_blank_text=True)\n",
    "net = ET.parse(pmml_name, parser)\n",
    "root = net.getroot()\n",
    "# namespace hassle\n",
    "namespace = root.nsmap[None]\n",
    "nsprefix = '{'+namespace+'}'\n",
    "procinfo = root.find(nsprefix + 'MiningBuildTask')"
   ]
  },
  {
   "cell_type": "code",
   "execution_count": 11,
   "metadata": {
    "collapsed": true,
    "deletable": true,
    "editable": true,
    "scrolled": true
   },
   "outputs": [],
   "source": [
    "# Save some metadata\n",
    "name = ET.SubElement(procinfo, nsprefix + 'Title')\n",
    "name.text = 'Neural network for time shift estimation'\n",
    "\n",
    "# Information on use of the classifier\n",
    "target = ET.SubElement(procinfo, nsprefix + 'IntendedUse')\n",
    "basf2proc = ET.SubElement(target, nsprefix + 'basf2process')\n",
    "basf2simulation = ET.SubElement(basf2proc, nsprefix + 'Simulation')\n",
    "basf2simulation.text = 'yes'\n",
    "basf2reconstruction = ET.SubElement(basf2proc, nsprefix + 'Reconstruction')\n",
    "basf2reconstruction.text = 'yes'\n",
    "sensorType = ET.SubElement(target, nsprefix + 'SensorType')\n",
    "sensorType.text = 'all'\n",
    "sensorSide = ET.SubElement(target, nsprefix + 'SensorSide')\n",
    "sensorSide.text = 'all'\n",
    "\n",
    "#information on training\n",
    "training = ET.SubElement(procinfo, nsprefix + 'Training')\n",
    "source = ET.SubElement(training, nsprefix + 'SampleSource')\n",
    "source.text = 'Toy simulation'\n",
    "genfunc = ET.SubElement(training, nsprefix + 'Waveform')\n",
    "genfunc.text = 'beta-prime'\n",
    "num_samples = ET.SubElement(training, nsprefix + 'SampleSize')\n",
    "train_samples = ET.SubElement(num_samples, nsprefix + 'Training', {'n': str(int((1-test_fraction)*n_samples))})\n",
    "test_samples = ET.SubElement(num_samples, nsprefix + 'Test', {'n': str(int(test_fraction*n_samples))})\n",
    "bounds.apply(\n",
    "    lambda row: ET.SubElement(training, nsprefix + 'Parameter', **{u:str(v) for u, v in row.items()}), axis = 1\n",
    ")\n",
    "\n",
    "netparams = ET.SubElement(procinfo, nsprefix + 'NetworkParameters')\n",
    "inputLayer = ET.SubElement(netparams, nsprefix + 'NetworkLayer')\n",
    "inputLayer.attrib['number'] = str(0)\n",
    "inputLayer.attrib['kind'] = 'input'\n",
    "inputLayer.attrib['size'] = str(4) # 4 as in 3 APV samples + tau\n",
    "n_hidden = len(classifier.hidden_layer_sizes)\n",
    "for (iLayer, sz) in zip(range(1,1+n_hidden), classifier.hidden_layer_sizes) :\n",
    "    layer = ET.SubElement(netparams, nsprefix + 'NetworkLayer')\n",
    "    layer.attrib['number'] = str(iLayer)\n",
    "    layer.attrib['kind'] = 'hidden'\n",
    "    layer.attrib['size'] = str(sz)\n",
    "outputLayer = ET.SubElement(netparams, nsprefix + 'NetworkLayer')\n",
    "outputLayer.attrib['number'] = str(n_hidden+1)\n",
    "outputLayer.attrib['kind'] = 'output'\n",
    "outputLayer.attrib['size'] = str(len(timearray)) \n",
    "\n",
    "for field in root.find(nsprefix + 'DataDictionary'):\n",
    "    if field.attrib['name'] == 't0_bin':\n",
    "        for child in field:\n",
    "            i = int(child.attrib['value'])\n",
    "            child.attrib['lower'] = '{0:.3f}'.format(bins.loc[i,'lower'])\n",
    "            child.attrib['upper'] = '{0:.3f}'.format(bins.loc[i,'upper'])\n",
    "            child.attrib['midpoint'] = '{0:.3f}'.format(bins.loc[i,'midpoint'])\n"
   ]
  },
  {
   "cell_type": "code",
   "execution_count": 12,
   "metadata": {
    "collapsed": true,
    "deletable": true,
    "editable": true
   },
   "outputs": [],
   "source": [
    "net.write(xml_name, xml_declaration = True, pretty_print = True, encoding = 'utf-8')"
   ]
  },
  {
   "cell_type": "markdown",
   "metadata": {
    "deletable": true,
    "editable": true
   },
   "source": [
    "#### Set up tau en/decoder"
   ]
  },
  {
   "cell_type": "code",
   "execution_count": 13,
   "metadata": {
    "collapsed": false,
    "deletable": true,
    "editable": true
   },
   "outputs": [
    {
     "name": "stderr",
     "output_type": "stream",
     "text": [
      "/home/kvasnicka/work/belle2_new/externals/v01-05-01/Linux_x86_64/common/lib/python3.6/site-packages/ipykernel/__main__.py:2: DeprecationWarning: \n",
      ".ix is deprecated. Please use\n",
      ".loc for label based indexing or\n",
      ".iloc for positional indexing\n",
      "\n",
      "See the documentation here:\n",
      "http://pandas.pydata.org/pandas-docs/stable/indexing.html#ix-indexer-is-deprecated\n",
      "  from ipykernel import kernelapp as app\n"
     ]
    }
   ],
   "source": [
    "amp_index = bounds[bounds.value == 'amplitude'].index[0]\n",
    "amp_range = (bounds.ix[amp_index,'low'], bounds.ix[amp_index, 'high'])\n",
    "tau_index = bounds[bounds.value == 'tau'].index[0]\n",
    "tau_range = (bounds.ix[tau_index,'low'], bounds.ix[tau_index, 'high'])\n",
    "coder = tau_encoder(amp_range, tau_range)"
   ]
  },
  {
   "cell_type": "markdown",
   "metadata": {
    "deletable": true,
    "editable": true
   },
   "source": [
    "#### True values"
   ]
  },
  {
   "cell_type": "code",
   "execution_count": 14,
   "metadata": {
    "collapsed": true,
    "deletable": true,
    "editable": true
   },
   "outputs": [],
   "source": [
    "Trues_test = stockdata[stockdata.test < test_fraction][['t0', 'amplitude','tau','t0_bin', 'abin']]"
   ]
  },
  {
   "cell_type": "code",
   "execution_count": 15,
   "metadata": {
    "collapsed": false,
    "deletable": true,
    "editable": true
   },
   "outputs": [
    {
     "data": {
      "text/html": [
       "<div>\n",
       "<style>\n",
       "    .dataframe thead tr:only-child th {\n",
       "        text-align: right;\n",
       "    }\n",
       "\n",
       "    .dataframe thead th {\n",
       "        text-align: left;\n",
       "    }\n",
       "\n",
       "    .dataframe tbody tr th {\n",
       "        vertical-align: top;\n",
       "    }\n",
       "</style>\n",
       "<table border=\"1\" class=\"dataframe\">\n",
       "  <thead>\n",
       "    <tr style=\"text-align: right;\">\n",
       "      <th></th>\n",
       "      <th>t0</th>\n",
       "      <th>amplitude</th>\n",
       "      <th>tau</th>\n",
       "      <th>t0_bin</th>\n",
       "      <th>abin</th>\n",
       "    </tr>\n",
       "  </thead>\n",
       "  <tbody>\n",
       "    <tr>\n",
       "      <th>9</th>\n",
       "      <td>22.750252</td>\n",
       "      <td>15.804565</td>\n",
       "      <td>210.951435</td>\n",
       "      <td>23</td>\n",
       "      <td>13</td>\n",
       "    </tr>\n",
       "    <tr>\n",
       "      <th>10</th>\n",
       "      <td>-6.626674</td>\n",
       "      <td>3.332620</td>\n",
       "      <td>317.705473</td>\n",
       "      <td>13</td>\n",
       "      <td>1</td>\n",
       "    </tr>\n",
       "    <tr>\n",
       "      <th>12</th>\n",
       "      <td>-43.348413</td>\n",
       "      <td>28.392209</td>\n",
       "      <td>259.240924</td>\n",
       "      <td>2</td>\n",
       "      <td>26</td>\n",
       "    </tr>\n",
       "    <tr>\n",
       "      <th>17</th>\n",
       "      <td>14.525145</td>\n",
       "      <td>62.533486</td>\n",
       "      <td>344.844077</td>\n",
       "      <td>20</td>\n",
       "      <td>60</td>\n",
       "    </tr>\n",
       "    <tr>\n",
       "      <th>20</th>\n",
       "      <td>11.062595</td>\n",
       "      <td>58.220374</td>\n",
       "      <td>279.920782</td>\n",
       "      <td>19</td>\n",
       "      <td>56</td>\n",
       "    </tr>\n",
       "  </tbody>\n",
       "</table>\n",
       "</div>"
      ],
      "text/plain": [
       "           t0  amplitude         tau  t0_bin  abin\n",
       "9   22.750252  15.804565  210.951435      23    13\n",
       "10  -6.626674   3.332620  317.705473      13     1\n",
       "12 -43.348413  28.392209  259.240924       2    26\n",
       "17  14.525145  62.533486  344.844077      20    60\n",
       "20  11.062595  58.220374  279.920782      19    56"
      ]
     },
     "execution_count": 15,
     "metadata": {},
     "output_type": "execute_result"
    }
   ],
   "source": [
    "Trues_test.head()"
   ]
  },
  {
   "cell_type": "markdown",
   "metadata": {
    "deletable": true,
    "editable": true
   },
   "source": [
    "#### Predicted probabilities."
   ]
  },
  {
   "cell_type": "code",
   "execution_count": 16,
   "metadata": {
    "collapsed": false,
    "deletable": true,
    "editable": true
   },
   "outputs": [
    {
     "data": {
      "text/plain": [
       "array([[  3.22943076e-15,   2.31026181e-12,   1.25848460e-10, ...,\n",
       "          3.18291917e-01,   3.00966684e-01,   3.31849573e-01],\n",
       "       [  1.68856471e-02,   3.93159120e-02,   7.32354696e-02, ...,\n",
       "          5.23160455e-04,   2.07493618e-04,   1.74210185e-04],\n",
       "       [  5.81510786e-01,   3.71006820e-01,   4.64274593e-02, ...,\n",
       "          1.61197557e-15,   1.33350840e-15,   5.67819582e-15],\n",
       "       ..., \n",
       "       [  1.64289774e-19,   2.34224262e-19,   7.30353028e-19, ...,\n",
       "          5.26618400e-36,   1.63373292e-37,   2.31713424e-39],\n",
       "       [  2.78004730e-05,   1.60519801e-02,   4.42976286e-01, ...,\n",
       "          4.81153145e-12,   7.79398725e-12,   3.68363044e-11],\n",
       "       [  8.79026891e-38,   7.46937458e-37,   1.50923845e-34, ...,\n",
       "          1.63200696e-46,   8.71202351e-48,   4.08424222e-50]])"
      ]
     },
     "execution_count": 16,
     "metadata": {},
     "output_type": "execute_result"
    }
   ],
   "source": [
    "probs = nntime_fitter.predict_proba(X_test)\n",
    "probs"
   ]
  },
  {
   "cell_type": "markdown",
   "metadata": {
    "deletable": true,
    "editable": true
   },
   "source": [
    "### Calculate time shifts and amplitudes from probabilities"
   ]
  },
  {
   "cell_type": "code",
   "execution_count": 17,
   "metadata": {
    "collapsed": false,
    "deletable": true,
    "editable": true
   },
   "outputs": [],
   "source": [
    "def fitFromProb(fw, signals, p, tau, timearray):\n",
    "    t_fit = np.average(timearray, weights = p)\n",
    "    t_sigma = np.sqrt(np.average((timearray - t_fit)**2, weights = p))\n",
    "    weights = fw(-t_fit + np.linspace(0, 2*dt, 3, endpoint = True), tau = tau)\n",
    "    weights[signals.values == 0.0] = 0.0\n",
    "    norm = 1.0 / np.inner(weights, weights)\n",
    "    a_fit = np.inner(signals, weights) * norm\n",
    "    a_sigma = np.sqrt(norm)\n",
    "    residuals = signals - a_fit * weights\n",
    "    ndf = np.sum(np.ones_like(signals[signals>0])) - 2 # Can't be less than 1\n",
    "    chi2_ndf = np.inner(residuals, residuals)/ndf\n",
    "    return pd.Series({\n",
    "        't_fit':t_fit, \n",
    "        't_sigma':t_sigma, \n",
    "        'a_fit':a_fit, \n",
    "        'a_sigma':a_sigma,\n",
    "        'chi2_ndf':chi2_ndf\n",
    "            })"
   ]
  },
  {
   "cell_type": "code",
   "execution_count": 18,
   "metadata": {
    "collapsed": true,
    "deletable": true,
    "editable": true
   },
   "outputs": [],
   "source": [
    "probdf = pd.DataFrame(probs)\n",
    "probdf.index = X_test.index\n",
    "probdf.to_pickle('SVDTime_Training3_Probs_{0}.pkl'.format(n_samples))"
   ]
  },
  {
   "cell_type": "code",
   "execution_count": 19,
   "metadata": {
    "collapsed": false,
    "deletable": true,
    "editable": true
   },
   "outputs": [
    {
     "name": "stderr",
     "output_type": "stream",
     "text": [
      "/home/kvasnicka/work/belle2_new/externals/v01-05-01/Linux_x86_64/common/lib/python3.6/site-packages/ipykernel/__main__.py:5: DeprecationWarning: \n",
      ".ix is deprecated. Please use\n",
      ".loc for label based indexing or\n",
      ".iloc for positional indexing\n",
      "\n",
      "See the documentation here:\n",
      "http://pandas.pydata.org/pandas-docs/stable/indexing.html#ix-indexer-is-deprecated\n",
      "/home/kvasnicka/work/belle2_new/externals/v01-05-01/Linux_x86_64/common/lib/python3.6/site-packages/ipykernel/__main__.py:11: RuntimeWarning: divide by zero encountered in double_scalars\n"
     ]
    }
   ],
   "source": [
    "fits = X_test.apply(\n",
    "    lambda row: fitFromProb(\n",
    "        betaprime_wave, \n",
    "        row[['s'+str(i) for i in range(2,5)]], \n",
    "        probdf.ix[row.name],\n",
    "        coder.decode(row['normed_tau']), \n",
    "        timearray), \n",
    "    axis = 1\n",
    ")\n",
    "fits['t_true'] = Trues_test['t0']\n",
    "fits['tau'] = Trues_test['tau']\n",
    "fits['a_true'] = Trues_test['amplitude']\n",
    "fits['t_bin'] = Trues_test['t0_bin']\n",
    "fits['a_bin'] = Trues_test['abin']"
   ]
  },
  {
   "cell_type": "code",
   "execution_count": 20,
   "metadata": {
    "collapsed": false,
    "deletable": true,
    "editable": true
   },
   "outputs": [
    {
     "data": {
      "text/html": [
       "<div>\n",
       "<style>\n",
       "    .dataframe thead tr:only-child th {\n",
       "        text-align: right;\n",
       "    }\n",
       "\n",
       "    .dataframe thead th {\n",
       "        text-align: left;\n",
       "    }\n",
       "\n",
       "    .dataframe tbody tr th {\n",
       "        vertical-align: top;\n",
       "    }\n",
       "</style>\n",
       "<table border=\"1\" class=\"dataframe\">\n",
       "  <thead>\n",
       "    <tr style=\"text-align: right;\">\n",
       "      <th></th>\n",
       "      <th>a_fit</th>\n",
       "      <th>a_sigma</th>\n",
       "      <th>chi2_ndf</th>\n",
       "      <th>t_fit</th>\n",
       "      <th>t_sigma</th>\n",
       "      <th>t_true</th>\n",
       "      <th>tau</th>\n",
       "      <th>a_true</th>\n",
       "      <th>t_bin</th>\n",
       "      <th>a_bin</th>\n",
       "    </tr>\n",
       "  </thead>\n",
       "  <tbody>\n",
       "    <tr>\n",
       "      <th>9</th>\n",
       "      <td>16.017756</td>\n",
       "      <td>1.106572</td>\n",
       "      <td>-0.000000</td>\n",
       "      <td>26.435361</td>\n",
       "      <td>2.914273</td>\n",
       "      <td>22.750252</td>\n",
       "      <td>210.951435</td>\n",
       "      <td>15.804565</td>\n",
       "      <td>23</td>\n",
       "      <td>13</td>\n",
       "    </tr>\n",
       "    <tr>\n",
       "      <th>10</th>\n",
       "      <td>3.736473</td>\n",
       "      <td>0.741103</td>\n",
       "      <td>inf</td>\n",
       "      <td>-24.736160</td>\n",
       "      <td>13.014162</td>\n",
       "      <td>-6.626674</td>\n",
       "      <td>317.705473</td>\n",
       "      <td>3.332620</td>\n",
       "      <td>13</td>\n",
       "      <td>1</td>\n",
       "    </tr>\n",
       "    <tr>\n",
       "      <th>12</th>\n",
       "      <td>27.669342</td>\n",
       "      <td>0.644410</td>\n",
       "      <td>2.695265</td>\n",
       "      <td>-44.140297</td>\n",
       "      <td>1.843487</td>\n",
       "      <td>-43.348413</td>\n",
       "      <td>259.240924</td>\n",
       "      <td>28.392209</td>\n",
       "      <td>2</td>\n",
       "      <td>26</td>\n",
       "    </tr>\n",
       "    <tr>\n",
       "      <th>17</th>\n",
       "      <td>64.061465</td>\n",
       "      <td>1.253124</td>\n",
       "      <td>inf</td>\n",
       "      <td>15.747233</td>\n",
       "      <td>1.634458</td>\n",
       "      <td>14.525145</td>\n",
       "      <td>344.844077</td>\n",
       "      <td>62.533486</td>\n",
       "      <td>20</td>\n",
       "      <td>60</td>\n",
       "    </tr>\n",
       "    <tr>\n",
       "      <th>20</th>\n",
       "      <td>58.307010</td>\n",
       "      <td>0.992306</td>\n",
       "      <td>inf</td>\n",
       "      <td>11.362067</td>\n",
       "      <td>1.239587</td>\n",
       "      <td>11.062595</td>\n",
       "      <td>279.920782</td>\n",
       "      <td>58.220374</td>\n",
       "      <td>19</td>\n",
       "      <td>56</td>\n",
       "    </tr>\n",
       "  </tbody>\n",
       "</table>\n",
       "</div>"
      ],
      "text/plain": [
       "        a_fit   a_sigma  chi2_ndf      t_fit    t_sigma     t_true  \\\n",
       "9   16.017756  1.106572 -0.000000  26.435361   2.914273  22.750252   \n",
       "10   3.736473  0.741103       inf -24.736160  13.014162  -6.626674   \n",
       "12  27.669342  0.644410  2.695265 -44.140297   1.843487 -43.348413   \n",
       "17  64.061465  1.253124       inf  15.747233   1.634458  14.525145   \n",
       "20  58.307010  0.992306       inf  11.362067   1.239587  11.062595   \n",
       "\n",
       "           tau     a_true  t_bin  a_bin  \n",
       "9   210.951435  15.804565     23     13  \n",
       "10  317.705473   3.332620     13      1  \n",
       "12  259.240924  28.392209      2     26  \n",
       "17  344.844077  62.533486     20     60  \n",
       "20  279.920782  58.220374     19     56  "
      ]
     },
     "execution_count": 20,
     "metadata": {},
     "output_type": "execute_result"
    }
   ],
   "source": [
    "fits.head()"
   ]
  },
  {
   "cell_type": "code",
   "execution_count": 21,
   "metadata": {
    "collapsed": true,
    "deletable": true,
    "editable": true
   },
   "outputs": [],
   "source": [
    "fits.to_pickle('SVDTime_Training3_Fits_{0}.pkl'.format(n_samples))"
   ]
  },
  {
   "cell_type": "code",
   "execution_count": 22,
   "metadata": {
    "collapsed": true,
    "deletable": true,
    "editable": true
   },
   "outputs": [],
   "source": [
    "import pickle"
   ]
  },
  {
   "cell_type": "code",
   "execution_count": 23,
   "metadata": {
    "collapsed": true,
    "deletable": true,
    "editable": true
   },
   "outputs": [],
   "source": [
    "with open('classifier3.pkl', 'wb') as f:\n",
    "    pickle.dump(classifier, f)\n"
   ]
  },
  {
   "cell_type": "code",
   "execution_count": 24,
   "metadata": {
    "collapsed": false,
    "deletable": true,
    "editable": true
   },
   "outputs": [
    {
     "name": "stdout",
     "output_type": "stream",
     "text": [
      "Data written.\n"
     ]
    }
   ],
   "source": [
    "with open('classifier3.txt', 'w') as cdump:\n",
    "    cdump.write(\"Classifier coefficients:\\n\")\n",
    "    for iLayer in range(len(classifier.coefs_)):\n",
    "        cdump.write('Layer: {0}\\n'.format(iLayer))\n",
    "        nrows = classifier.coefs_[iLayer].shape[0]\n",
    "        ncols = classifier.coefs_[iLayer].shape[1]\n",
    "        cdump.write('Weights:\\n')\n",
    "        for col in range(ncols):\n",
    "            s = \" \".join([str(classifier.coefs_[iLayer][row, col]) for row in range(nrows)])\n",
    "            s+=\"\\n\"\n",
    "            cdump.write(s)\n",
    "        # intercepts should have nrows dimension\n",
    "        cdump.write('Intercepts:\\n')\n",
    "        s = \" \".join([str(classifier.intercepts_[iLayer][col]) for col in range(ncols)])\n",
    "        s += \"\\n\"\n",
    "        cdump.write(s)\n",
    "\n",
    "print(\"Data written.\")"
   ]
  }
 ],
 "metadata": {
  "anaconda-cloud": {},
  "kernelspec": {
   "display_name": "Python 3 (Belle2)",
   "language": "python",
   "name": "python3"
  },
  "language_info": {
   "codemirror_mode": {
    "name": "ipython",
    "version": 3
   },
   "file_extension": ".py",
   "mimetype": "text/x-python",
   "name": "python",
   "nbconvert_exporter": "python",
   "pygments_lexer": "ipython3",
   "version": "3.6.2"
  }
 },
 "nbformat": 4,
 "nbformat_minor": 1
}
