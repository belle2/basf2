{
 "cells": [
  {
   "cell_type": "markdown",
   "metadata": {
    "deletable": true,
    "editable": true
   },
   "source": [
    "## Generate a data sample for SVDTime Neural Network training\n",
    "\n",
    "This script generates a toy data sample for neural network training.\n",
    "The result is stored in a ROOT file. \n",
    "\n",
    "TO DO / FIX: \n",
    "* We can make the generation faster using C++. \n",
    "* root_pandas doesn't work. HDF5 works perfectly, but requires complicated installation on linux. So we stay with pickle (*.pkl) for the time being.\n",
    "\n",
    "Packages required:\n",
    "- pandas\n",
    "- SVDSiimBase"
   ]
  },
  {
   "cell_type": "code",
   "execution_count": 1,
   "metadata": {
    "collapsed": false,
    "deletable": true,
    "editable": true,
    "scrolled": true
   },
   "outputs": [],
   "source": [
    "import pandas as pd\n",
    "from SVDSimBase import *"
   ]
  },
  {
   "cell_type": "markdown",
   "metadata": {
    "deletable": true,
    "editable": true
   },
   "source": [
    "### Sample generation\n",
    "\n",
    "Generate a pandas dataframe containing a large number of waveform samples and truth data, and store it in HDF5.\n",
    "The data will be used as training and test data.\n",
    "Waveform widths (tau), amplitudes and time shifts are sampled uniformly from a large set of feasible values."
   ]
  },
  {
   "cell_type": "code",
   "execution_count": 2,
   "metadata": {
    "collapsed": false,
    "deletable": true,
    "editable": true,
    "scrolled": true
   },
   "outputs": [
    {
     "name": "stdout",
     "output_type": "stream",
     "text": [
      "Generating 1000000 samples...\n",
      "Samples created.\n"
     ]
    }
   ],
   "source": [
    "n_samples = 1000000\n",
    "generator = SampleGenerator(\n",
    "    (-2.5*dt, 1.5*dt), \n",
    "    (tau_hao2real(raw_tau_min), tau_hao2real(raw_tau_max)), \n",
    "    (3,100), \n",
    "    (1,4),\n",
    "    3)\n",
    "print('Generating {0} samples...'.format(n_samples))\n",
    "sample = generator.generate(n_samples)\n",
    "\n",
    "# Create a bin table\n",
    "timearray = generator.get_t0_array()\n",
    "timebins = generator.get_t0_bins()\n",
    "bins = pd.DataFrame({\n",
    "    'midpoint' : timearray,\n",
    "    'lower' : timebins.values[:-1],\n",
    "    'upper' : timebins.values[1:]\n",
    "})\n",
    "\n",
    "# Create a table of simulation bounds\n",
    "bounds = pd.DataFrame({\n",
    "    'value': np.array(['t0', 'amplitude', 'tau', 'sigma']),\n",
    "    'sampling': np.array(['uniform', 'uniform', 'uniform', 'uniform']),\n",
    "    'low'  : [\n",
    "        generator.get_t0_bounds()[0], \n",
    "        generator.get_amp_bounds()[0], \n",
    "        tau_hao2real(raw_tau_min),\n",
    "        generator.get_sigma_bounds()[0]\n",
    "    ],\n",
    "    'high' : [\n",
    "        generator.get_t0_bounds()[1], \n",
    "        generator.get_amp_bounds()[1], \n",
    "        tau_hao2real(raw_tau_max),\n",
    "        generator.get_sigma_bounds()[1]\n",
    "    ]\n",
    "})\n",
    "orderedcols = ['value', 'sampling', 'low', 'high']\n",
    "bounds = bounds[orderedcols]\n",
    "\n",
    "print('Samples created.')"
   ]
  },
  {
   "cell_type": "code",
   "execution_count": 3,
   "metadata": {
    "collapsed": false,
    "deletable": true,
    "editable": true
   },
   "outputs": [
    {
     "name": "stdout",
     "output_type": "stream",
     "text": [
      "Done.\n"
     ]
    }
   ],
   "source": [
    "output_name = 'SVDTime_Training{0}_{1}.pkl'\n",
    "\n",
    "# There will be three trees: sample, bins, bounds.\n",
    "\n",
    "sample.to_pickle(output_name.format('Sample', n_samples))\n",
    "bins.to_pickle(output_name.format('Bins', n_samples))\n",
    "bounds.to_pickle(output_name.format('Bounds', n_samples))\n",
    "\n",
    "print('Done.')"
   ]
  },
  {
   "cell_type": "code",
   "execution_count": 4,
   "metadata": {
    "collapsed": false,
    "deletable": true,
    "editable": true
   },
   "outputs": [
    {
     "data": {
      "text/html": [
       "<div>\n",
       "<style>\n",
       "    .dataframe thead tr:only-child th {\n",
       "        text-align: right;\n",
       "    }\n",
       "\n",
       "    .dataframe thead th {\n",
       "        text-align: left;\n",
       "    }\n",
       "\n",
       "    .dataframe tbody tr th {\n",
       "        vertical-align: top;\n",
       "    }\n",
       "</style>\n",
       "<table border=\"1\" class=\"dataframe\">\n",
       "  <thead>\n",
       "    <tr style=\"text-align: right;\">\n",
       "      <th></th>\n",
       "      <th>test</th>\n",
       "      <th>amplitude</th>\n",
       "      <th>t0</th>\n",
       "      <th>tau</th>\n",
       "      <th>sigma</th>\n",
       "      <th>s1</th>\n",
       "      <th>s2</th>\n",
       "      <th>s3</th>\n",
       "      <th>s4</th>\n",
       "      <th>s5</th>\n",
       "      <th>s6</th>\n",
       "      <th>normed_tau</th>\n",
       "      <th>t0_bin</th>\n",
       "      <th>abin</th>\n",
       "    </tr>\n",
       "  </thead>\n",
       "  <tbody>\n",
       "    <tr>\n",
       "      <th>0</th>\n",
       "      <td>0.420250</td>\n",
       "      <td>45.085136</td>\n",
       "      <td>0.486506</td>\n",
       "      <td>271.287924</td>\n",
       "      <td>1.764844</td>\n",
       "      <td>0.000000</td>\n",
       "      <td>0.000000</td>\n",
       "      <td>30.597607</td>\n",
       "      <td>44.763166</td>\n",
       "      <td>42.496677</td>\n",
       "      <td>32.864097</td>\n",
       "      <td>44.632101</td>\n",
       "      <td>16</td>\n",
       "      <td>43</td>\n",
       "    </tr>\n",
       "    <tr>\n",
       "      <th>1</th>\n",
       "      <td>0.470006</td>\n",
       "      <td>40.923811</td>\n",
       "      <td>-76.319618</td>\n",
       "      <td>327.200027</td>\n",
       "      <td>1.863665</td>\n",
       "      <td>32.731206</td>\n",
       "      <td>40.779863</td>\n",
       "      <td>37.023823</td>\n",
       "      <td>32.194629</td>\n",
       "      <td>24.682549</td>\n",
       "      <td>18.780200</td>\n",
       "      <td>83.199794</td>\n",
       "      <td>1</td>\n",
       "      <td>38</td>\n",
       "    </tr>\n",
       "    <tr>\n",
       "      <th>2</th>\n",
       "      <td>0.752444</td>\n",
       "      <td>47.280162</td>\n",
       "      <td>18.665801</td>\n",
       "      <td>304.865337</td>\n",
       "      <td>2.584116</td>\n",
       "      <td>0.000000</td>\n",
       "      <td>0.000000</td>\n",
       "      <td>10.061467</td>\n",
       "      <td>38.310970</td>\n",
       "      <td>46.824519</td>\n",
       "      <td>43.728683</td>\n",
       "      <td>67.793515</td>\n",
       "      <td>20</td>\n",
       "      <td>45</td>\n",
       "    </tr>\n",
       "    <tr>\n",
       "      <th>3</th>\n",
       "      <td>0.700490</td>\n",
       "      <td>9.206401</td>\n",
       "      <td>-33.538889</td>\n",
       "      <td>230.937656</td>\n",
       "      <td>1.520102</td>\n",
       "      <td>0.000000</td>\n",
       "      <td>7.236357</td>\n",
       "      <td>8.552058</td>\n",
       "      <td>8.552058</td>\n",
       "      <td>6.578506</td>\n",
       "      <td>3.947104</td>\n",
       "      <td>16.798830</td>\n",
       "      <td>9</td>\n",
       "      <td>7</td>\n",
       "    </tr>\n",
       "    <tr>\n",
       "      <th>4</th>\n",
       "      <td>0.892159</td>\n",
       "      <td>54.405736</td>\n",
       "      <td>36.581858</td>\n",
       "      <td>344.323744</td>\n",
       "      <td>3.623510</td>\n",
       "      <td>0.000000</td>\n",
       "      <td>0.000000</td>\n",
       "      <td>0.000000</td>\n",
       "      <td>23.733895</td>\n",
       "      <td>48.571691</td>\n",
       "      <td>53.815226</td>\n",
       "      <td>95.011588</td>\n",
       "      <td>23</td>\n",
       "      <td>52</td>\n",
       "    </tr>\n",
       "  </tbody>\n",
       "</table>\n",
       "</div>"
      ],
      "text/plain": [
       "       test  amplitude         t0         tau     sigma         s1         s2  \\\n",
       "0  0.420250  45.085136   0.486506  271.287924  1.764844   0.000000   0.000000   \n",
       "1  0.470006  40.923811 -76.319618  327.200027  1.863665  32.731206  40.779863   \n",
       "2  0.752444  47.280162  18.665801  304.865337  2.584116   0.000000   0.000000   \n",
       "3  0.700490   9.206401 -33.538889  230.937656  1.520102   0.000000   7.236357   \n",
       "4  0.892159  54.405736  36.581858  344.323744  3.623510   0.000000   0.000000   \n",
       "\n",
       "          s3         s4         s5         s6  normed_tau  t0_bin  abin  \n",
       "0  30.597607  44.763166  42.496677  32.864097   44.632101      16    43  \n",
       "1  37.023823  32.194629  24.682549  18.780200   83.199794       1    38  \n",
       "2  10.061467  38.310970  46.824519  43.728683   67.793515      20    45  \n",
       "3   8.552058   8.552058   6.578506   3.947104   16.798830       9     7  \n",
       "4   0.000000  23.733895  48.571691  53.815226   95.011588      23    52  "
      ]
     },
     "execution_count": 4,
     "metadata": {},
     "output_type": "execute_result"
    }
   ],
   "source": [
    "sample.head()"
   ]
  },
  {
   "cell_type": "code",
   "execution_count": null,
   "metadata": {
    "collapsed": true,
    "deletable": true,
    "editable": true
   },
   "outputs": [],
   "source": []
  }
 ],
 "metadata": {
  "anaconda-cloud": {},
  "kernelspec": {
   "display_name": "Python 3 (Belle2)",
   "language": "python",
   "name": "python3"
  },
  "language_info": {
   "codemirror_mode": {
    "name": "ipython",
    "version": 3
   },
   "file_extension": ".py",
   "mimetype": "text/x-python",
   "name": "python",
   "nbconvert_exporter": "python",
   "pygments_lexer": "ipython3",
   "version": "3.6.2"
  }
 },
 "nbformat": 4,
 "nbformat_minor": 1
}
