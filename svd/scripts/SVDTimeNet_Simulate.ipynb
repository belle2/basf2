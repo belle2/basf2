{
 "cells": [
  {
   "cell_type": "markdown",
   "metadata": {
    "deletable": true,
    "editable": true
   },
   "source": [
    "## Generate a data sample for SVDTime Neural Network training\n",
    "\n",
    "This script generates a toy data sample for neural network training.\n",
    "The result is stored in a ROOT file. \n",
    "\n",
    "TO DO / FIX: \n",
    "* We can make the generation faster using C++. \n",
    "* root_pandas doesn't work. HDF5 works perfectly, but requires complicated installation on linux. So we stay with pickle (*.pkl) for the time being.\n",
    "\n",
    "Packages required:\n",
    "- pandas\n",
    "- SVDSiimBase"
   ]
  },
  {
   "cell_type": "code",
   "execution_count": 1,
   "metadata": {
    "collapsed": false,
    "deletable": true,
    "editable": true,
    "scrolled": true
   },
   "outputs": [
    {
     "data": {
      "application/javascript": [
       "\n",
       "require(['notebook'],\n",
       "  function() {\n",
       "    IPython.CodeCell.config_defaults.highlight_modes['magic_text/x-c++src'] = {'reg':[/^%%cpp/]};\n",
       "    console.log(\"JupyROOT - %%cpp magic configured\");\n",
       "  }\n",
       ");\n"
      ]
     },
     "metadata": {},
     "output_type": "display_data"
    },
    {
     "name": "stdout",
     "output_type": "stream",
     "text": [
      "Welcome to JupyROOT 6.08/06\n"
     ]
    }
   ],
   "source": [
    "import pandas as pd\n",
    "from svd.SVDSimBase import *"
   ]
  },
  {
   "cell_type": "markdown",
   "metadata": {
    "deletable": true,
    "editable": true
   },
   "source": [
    "### Sample generation\n",
    "\n",
    "Generate a pandas dataframe containing a large number of waveform samples and truth data, and pickle it.\n",
    "The data will be used as training and test data.\n",
    "Waveform widths (tau), amplitudes and time shifts are sampled uniformly from a large set of feasible values.\n",
    "Additionally, waveform widths (tau) are jittered using a normal distribution with 5 ns width: that is, the \"true\" values are slightly off. This is to robustify against imprecise knowledge of waveform width or shape."
   ]
  },
  {
   "cell_type": "code",
   "execution_count": 2,
   "metadata": {
    "collapsed": false,
    "deletable": true,
    "editable": true,
    "scrolled": true
   },
   "outputs": [
    {
     "name": "stdout",
     "output_type": "stream",
     "text": [
      "Generating 100000 samples...\n",
      "Samples created.\n"
     ]
    }
   ],
   "source": [
    "n_samples = 1000000\n",
    "generator = SampleGenerator(\n",
    "    (-2.5*dt, 1.5*dt), \n",
    "    (tau_hao2real(raw_tau_min), tau_hao2real(raw_tau_max)), \n",
    "    (3,100), \n",
    "    (1,4),\n",
    "    5.0,\n",
    "    3)\n",
    "print('Generating {0} samples...'.format(n_samples))\n",
    "sample = generator.generate(n_samples)\n",
    "\n",
    "# Create a bin table\n",
    "timearray = generator.get_t0_array()\n",
    "timebins = generator.get_t0_bins()\n",
    "bins = pd.DataFrame({\n",
    "    'midpoint' : timearray,\n",
    "    'lower' : timebins.values[:-1],\n",
    "    'upper' : timebins.values[1:]\n",
    "})\n",
    "\n",
    "# Create a table of simulation bounds\n",
    "bounds = pd.DataFrame({\n",
    "    'value': np.array(['t0', 'amplitude', 'tau', 'sigma']),\n",
    "    'sampling': np.array(['uniform', 'uniform', 'uniform', 'uniform']),\n",
    "    'low'  : [\n",
    "        generator.get_t0_bounds()[0], \n",
    "        generator.get_amp_bounds()[0], \n",
    "        tau_hao2real(raw_tau_min),\n",
    "        generator.get_sigma_bounds()[0]\n",
    "    ],\n",
    "    'high' : [\n",
    "        generator.get_t0_bounds()[1], \n",
    "        generator.get_amp_bounds()[1], \n",
    "        tau_hao2real(raw_tau_max),\n",
    "        generator.get_sigma_bounds()[1]\n",
    "    ]\n",
    "})\n",
    "orderedcols = ['value', 'sampling', 'low', 'high']\n",
    "bounds = bounds[orderedcols]\n",
    "\n",
    "print('Samples created.')"
   ]
  },
  {
   "cell_type": "code",
   "execution_count": 3,
   "metadata": {
    "collapsed": false,
    "deletable": true,
    "editable": true
   },
   "outputs": [
    {
     "name": "stdout",
     "output_type": "stream",
     "text": [
      "Done.\n"
     ]
    }
   ],
   "source": [
    "output_name = 'SVDTime_Training{0}_{1}.pkl'\n",
    "\n",
    "# There will be three trees: sample, bins, bounds.\n",
    "\n",
    "sample.to_pickle(output_name.format('Sample', n_samples))\n",
    "bins.to_pickle(output_name.format('Bins', n_samples))\n",
    "bounds.to_pickle(output_name.format('Bounds', n_samples))\n",
    "\n",
    "print('Done.')"
   ]
  },
  {
   "cell_type": "code",
   "execution_count": 4,
   "metadata": {
    "collapsed": false,
    "deletable": true,
    "editable": true
   },
   "outputs": [
    {
     "data": {
      "text/html": [
       "<div>\n",
       "<style>\n",
       "    .dataframe thead tr:only-child th {\n",
       "        text-align: right;\n",
       "    }\n",
       "\n",
       "    .dataframe thead th {\n",
       "        text-align: left;\n",
       "    }\n",
       "\n",
       "    .dataframe tbody tr th {\n",
       "        vertical-align: top;\n",
       "    }\n",
       "</style>\n",
       "<table border=\"1\" class=\"dataframe\">\n",
       "  <thead>\n",
       "    <tr style=\"text-align: right;\">\n",
       "      <th></th>\n",
       "      <th>test</th>\n",
       "      <th>amplitude</th>\n",
       "      <th>t0</th>\n",
       "      <th>tau</th>\n",
       "      <th>sigma</th>\n",
       "      <th>s1</th>\n",
       "      <th>s2</th>\n",
       "      <th>s3</th>\n",
       "      <th>s4</th>\n",
       "      <th>s5</th>\n",
       "      <th>s6</th>\n",
       "      <th>normed_tau</th>\n",
       "      <th>t0_bin</th>\n",
       "      <th>abin</th>\n",
       "    </tr>\n",
       "  </thead>\n",
       "  <tbody>\n",
       "    <tr>\n",
       "      <th>0</th>\n",
       "      <td>0.381214</td>\n",
       "      <td>66.205163</td>\n",
       "      <td>-16.507690</td>\n",
       "      <td>350.809620</td>\n",
       "      <td>1.339915</td>\n",
       "      <td>0.000000</td>\n",
       "      <td>15.672636</td>\n",
       "      <td>51.495806</td>\n",
       "      <td>64.929494</td>\n",
       "      <td>65.675810</td>\n",
       "      <td>56.720018</td>\n",
       "      <td>99.485490</td>\n",
       "      <td>13</td>\n",
       "      <td>64</td>\n",
       "    </tr>\n",
       "    <tr>\n",
       "      <th>1</th>\n",
       "      <td>0.479518</td>\n",
       "      <td>94.376003</td>\n",
       "      <td>-32.060522</td>\n",
       "      <td>301.452437</td>\n",
       "      <td>1.583958</td>\n",
       "      <td>0.000000</td>\n",
       "      <td>58.713675</td>\n",
       "      <td>89.017508</td>\n",
       "      <td>90.280167</td>\n",
       "      <td>73.865591</td>\n",
       "      <td>56.188356</td>\n",
       "      <td>65.439326</td>\n",
       "      <td>10</td>\n",
       "      <td>92</td>\n",
       "    </tr>\n",
       "    <tr>\n",
       "      <th>2</th>\n",
       "      <td>0.243131</td>\n",
       "      <td>62.374614</td>\n",
       "      <td>-5.334261</td>\n",
       "      <td>347.403432</td>\n",
       "      <td>3.996140</td>\n",
       "      <td>0.000000</td>\n",
       "      <td>3.753623</td>\n",
       "      <td>37.285984</td>\n",
       "      <td>60.558444</td>\n",
       "      <td>60.057961</td>\n",
       "      <td>53.301440</td>\n",
       "      <td>97.135931</td>\n",
       "      <td>15</td>\n",
       "      <td>60</td>\n",
       "    </tr>\n",
       "    <tr>\n",
       "      <th>3</th>\n",
       "      <td>0.286232</td>\n",
       "      <td>71.052203</td>\n",
       "      <td>-44.876416</td>\n",
       "      <td>217.046846</td>\n",
       "      <td>2.080566</td>\n",
       "      <td>19.706177</td>\n",
       "      <td>67.289386</td>\n",
       "      <td>66.328109</td>\n",
       "      <td>49.505763</td>\n",
       "      <td>32.202778</td>\n",
       "      <td>21.148093</td>\n",
       "      <td>7.217067</td>\n",
       "      <td>7</td>\n",
       "      <td>69</td>\n",
       "    </tr>\n",
       "    <tr>\n",
       "      <th>4</th>\n",
       "      <td>0.430956</td>\n",
       "      <td>93.181003</td>\n",
       "      <td>33.732367</td>\n",
       "      <td>281.486897</td>\n",
       "      <td>1.713032</td>\n",
       "      <td>0.000000</td>\n",
       "      <td>0.000000</td>\n",
       "      <td>0.000000</td>\n",
       "      <td>54.289690</td>\n",
       "      <td>91.650337</td>\n",
       "      <td>86.396496</td>\n",
       "      <td>51.667266</td>\n",
       "      <td>23</td>\n",
       "      <td>91</td>\n",
       "    </tr>\n",
       "  </tbody>\n",
       "</table>\n",
       "</div>"
      ],
      "text/plain": [
       "       test  amplitude         t0         tau     sigma         s1         s2  \\\n",
       "0  0.381214  66.205163 -16.507690  350.809620  1.339915   0.000000  15.672636   \n",
       "1  0.479518  94.376003 -32.060522  301.452437  1.583958   0.000000  58.713675   \n",
       "2  0.243131  62.374614  -5.334261  347.403432  3.996140   0.000000   3.753623   \n",
       "3  0.286232  71.052203 -44.876416  217.046846  2.080566  19.706177  67.289386   \n",
       "4  0.430956  93.181003  33.732367  281.486897  1.713032   0.000000   0.000000   \n",
       "\n",
       "          s3         s4         s5         s6  normed_tau  t0_bin  abin  \n",
       "0  51.495806  64.929494  65.675810  56.720018   99.485490      13    64  \n",
       "1  89.017508  90.280167  73.865591  56.188356   65.439326      10    92  \n",
       "2  37.285984  60.558444  60.057961  53.301440   97.135931      15    60  \n",
       "3  66.328109  49.505763  32.202778  21.148093    7.217067       7    69  \n",
       "4   0.000000  54.289690  91.650337  86.396496   51.667266      23    91  "
      ]
     },
     "execution_count": 4,
     "metadata": {},
     "output_type": "execute_result"
    }
   ],
   "source": [
    "sample.head()"
   ]
  },
  {
   "cell_type": "code",
   "execution_count": null,
   "metadata": {
    "collapsed": true,
    "deletable": true,
    "editable": true
   },
   "outputs": [],
   "source": []
  }
 ],
 "metadata": {
  "anaconda-cloud": {},
  "kernelspec": {
   "display_name": "Python 3 (Belle2)",
   "language": "python",
   "name": "python3"
  },
  "language_info": {
   "codemirror_mode": {
    "name": "ipython",
    "version": 3
   },
   "file_extension": ".py",
   "mimetype": "text/x-python",
   "name": "python",
   "nbconvert_exporter": "python",
   "pygments_lexer": "ipython3",
   "version": "3.6.2"
  }
 },
 "nbformat": 4,
 "nbformat_minor": 1
}
