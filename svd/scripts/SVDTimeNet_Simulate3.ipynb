{
 "cells": [
  {
   "cell_type": "markdown",
   "metadata": {
    "deletable": true,
    "editable": true
   },
   "source": [
    "## Generate a data sample for SVDTime Neural Network training\n",
    "\n",
    "This script generates a toy data sample for neural network training.\n",
    "The result is stored in a ROOT file. \n",
    "\n",
    "TO DO / FIX: \n",
    "* We can make the generation faster using C++. \n",
    "* root_pandas doesn't work. HDF5 works perfectly, but requires complicated installation on linux. So we stay with pickle (*.pkl) for the time being.\n",
    "\n",
    "Packages required:\n",
    "- pandas\n",
    "- SVDSiimBase"
   ]
  },
  {
   "cell_type": "code",
   "execution_count": 1,
   "metadata": {
    "collapsed": false,
    "deletable": true,
    "editable": true,
    "scrolled": true
   },
   "outputs": [
    {
     "data": {
      "application/javascript": [
       "\n",
       "require(['notebook'],\n",
       "  function() {\n",
       "    IPython.CodeCell.config_defaults.highlight_modes['magic_text/x-c++src'] = {'reg':[/^%%cpp/]};\n",
       "    console.log(\"JupyROOT - %%cpp magic configured\");\n",
       "  }\n",
       ");\n"
      ]
     },
     "metadata": {},
     "output_type": "display_data"
    },
    {
     "name": "stdout",
     "output_type": "stream",
     "text": [
      "Welcome to JupyROOT 6.08/06\n"
     ]
    }
   ],
   "source": [
    "import pandas as pd\n",
    "from svd.SVDSimBase import *"
   ]
  },
  {
   "cell_type": "markdown",
   "metadata": {
    "deletable": true,
    "editable": true
   },
   "source": [
    "### Sample generation\n",
    "\n",
    "Generate a pandas dataframe containing a large number of waveform samples and truth data, and store it in HDF5.\n",
    "The data will be used as training and test data.\n",
    "Waveform widths (tau), amplitudes and time shifts are sampled uniformly from a large set of feasible values."
   ]
  },
  {
   "cell_type": "code",
   "execution_count": 2,
   "metadata": {
    "collapsed": false,
    "deletable": true,
    "editable": true,
    "scrolled": true
   },
   "outputs": [
    {
     "name": "stdout",
     "output_type": "stream",
     "text": [
      "Generating 1000000 samples...\n",
      "Samples created.\n"
     ]
    }
   ],
   "source": [
    "n_samples = 1000000\n",
    "generator = SampleGenerator(\n",
    "    (-1.5*dt, 1.0*dt), \n",
    "    (tau_hao2real(raw_tau_min), tau_hao2real(raw_tau_max)), \n",
    "    (3,100), \n",
    "    (1,5),\n",
    "    tau_sigma = 0,\n",
    "    bin_size = 3)\n",
    "print('Generating {0} samples...'.format(n_samples))\n",
    "sample = generator.generate(n_samples)\n",
    "\n",
    "# Create a bin table\n",
    "timearray = generator.get_t0_array()\n",
    "timebins = generator.get_t0_bins()\n",
    "bins = pd.DataFrame({\n",
    "    'midpoint' : timearray,\n",
    "    'lower' : timebins.values[:-1],\n",
    "    'upper' : timebins.values[1:]\n",
    "})\n",
    "\n",
    "# Create a table of simulation bounds\n",
    "bounds = pd.DataFrame({\n",
    "    'value': np.array(['t0', 'amplitude', 'tau', 'sigma']),\n",
    "    'sampling': np.array(['uniform', 'uniform', 'uniform', 'uniform']),\n",
    "    'low'  : [\n",
    "        generator.get_t0_bounds()[0], \n",
    "        generator.get_amp_bounds()[0], \n",
    "        tau_hao2real(raw_tau_min),\n",
    "        generator.get_sigma_bounds()[0]\n",
    "    ],\n",
    "    'high' : [\n",
    "        generator.get_t0_bounds()[1], \n",
    "        generator.get_amp_bounds()[1], \n",
    "        tau_hao2real(raw_tau_max),\n",
    "        generator.get_sigma_bounds()[1]\n",
    "    ]\n",
    "})\n",
    "orderedcols = ['value', 'sampling', 'low', 'high']\n",
    "bounds = bounds[orderedcols]\n",
    "\n",
    "print('Samples created.')"
   ]
  },
  {
   "cell_type": "code",
   "execution_count": 3,
   "metadata": {
    "collapsed": false,
    "deletable": true,
    "editable": true
   },
   "outputs": [
    {
     "name": "stdout",
     "output_type": "stream",
     "text": [
      "Done.\n"
     ]
    }
   ],
   "source": [
    "output_name = 'SVDTime_Training3_{0}_{1}.pkl'\n",
    "\n",
    "# There will be three trees: sample, bins, bounds.\n",
    "\n",
    "sample.to_pickle(output_name.format('Sample', n_samples))\n",
    "bins.to_pickle(output_name.format('Bins', n_samples))\n",
    "bounds.to_pickle(output_name.format('Bounds', n_samples))\n",
    "\n",
    "print('Done.')"
   ]
  },
  {
   "cell_type": "code",
   "execution_count": 4,
   "metadata": {
    "collapsed": false,
    "deletable": true,
    "editable": true
   },
   "outputs": [
    {
     "data": {
      "text/html": [
       "<div>\n",
       "<style>\n",
       "    .dataframe thead tr:only-child th {\n",
       "        text-align: right;\n",
       "    }\n",
       "\n",
       "    .dataframe thead th {\n",
       "        text-align: left;\n",
       "    }\n",
       "\n",
       "    .dataframe tbody tr th {\n",
       "        vertical-align: top;\n",
       "    }\n",
       "</style>\n",
       "<table border=\"1\" class=\"dataframe\">\n",
       "  <thead>\n",
       "    <tr style=\"text-align: right;\">\n",
       "      <th></th>\n",
       "      <th>test</th>\n",
       "      <th>amplitude</th>\n",
       "      <th>t0</th>\n",
       "      <th>tau</th>\n",
       "      <th>sigma</th>\n",
       "      <th>s1</th>\n",
       "      <th>s2</th>\n",
       "      <th>s3</th>\n",
       "      <th>s4</th>\n",
       "      <th>s5</th>\n",
       "      <th>s6</th>\n",
       "      <th>normed_tau</th>\n",
       "      <th>t0_bin</th>\n",
       "      <th>abin</th>\n",
       "    </tr>\n",
       "  </thead>\n",
       "  <tbody>\n",
       "    <tr>\n",
       "      <th>0</th>\n",
       "      <td>0.267836</td>\n",
       "      <td>14.456133</td>\n",
       "      <td>-7.404476</td>\n",
       "      <td>225.897068</td>\n",
       "      <td>4.139629</td>\n",
       "      <td>0.000000</td>\n",
       "      <td>0.000000</td>\n",
       "      <td>14.010917</td>\n",
       "      <td>12.561512</td>\n",
       "      <td>10.387404</td>\n",
       "      <td>8.454864</td>\n",
       "      <td>13.321875</td>\n",
       "      <td>13</td>\n",
       "      <td>12</td>\n",
       "    </tr>\n",
       "    <tr>\n",
       "      <th>1</th>\n",
       "      <td>0.761310</td>\n",
       "      <td>90.094752</td>\n",
       "      <td>-0.203702</td>\n",
       "      <td>244.035236</td>\n",
       "      <td>2.352088</td>\n",
       "      <td>0.000000</td>\n",
       "      <td>0.000000</td>\n",
       "      <td>65.898884</td>\n",
       "      <td>90.557821</td>\n",
       "      <td>75.252274</td>\n",
       "      <td>55.695186</td>\n",
       "      <td>25.833429</td>\n",
       "      <td>15</td>\n",
       "      <td>88</td>\n",
       "    </tr>\n",
       "    <tr>\n",
       "      <th>2</th>\n",
       "      <td>0.389157</td>\n",
       "      <td>98.083420</td>\n",
       "      <td>-39.552291</td>\n",
       "      <td>328.020822</td>\n",
       "      <td>4.495098</td>\n",
       "      <td>8.231188</td>\n",
       "      <td>68.519079</td>\n",
       "      <td>95.882218</td>\n",
       "      <td>93.212643</td>\n",
       "      <td>79.419842</td>\n",
       "      <td>63.624859</td>\n",
       "      <td>83.765971</td>\n",
       "      <td>3</td>\n",
       "      <td>96</td>\n",
       "    </tr>\n",
       "    <tr>\n",
       "      <th>3</th>\n",
       "      <td>0.646701</td>\n",
       "      <td>94.736810</td>\n",
       "      <td>29.742417</td>\n",
       "      <td>284.786097</td>\n",
       "      <td>4.981928</td>\n",
       "      <td>0.000000</td>\n",
       "      <td>0.000000</td>\n",
       "      <td>0.000000</td>\n",
       "      <td>62.626350</td>\n",
       "      <td>93.738800</td>\n",
       "      <td>88.519938</td>\n",
       "      <td>53.943026</td>\n",
       "      <td>25</td>\n",
       "      <td>92</td>\n",
       "    </tr>\n",
       "    <tr>\n",
       "      <th>4</th>\n",
       "      <td>0.361906</td>\n",
       "      <td>3.346757</td>\n",
       "      <td>-38.118085</td>\n",
       "      <td>239.676184</td>\n",
       "      <td>1.654655</td>\n",
       "      <td>0.000000</td>\n",
       "      <td>0.000000</td>\n",
       "      <td>4.230489</td>\n",
       "      <td>4.834844</td>\n",
       "      <td>4.230489</td>\n",
       "      <td>0.000000</td>\n",
       "      <td>22.826592</td>\n",
       "      <td>3</td>\n",
       "      <td>1</td>\n",
       "    </tr>\n",
       "  </tbody>\n",
       "</table>\n",
       "</div>"
      ],
      "text/plain": [
       "       test  amplitude         t0         tau     sigma        s1         s2  \\\n",
       "0  0.267836  14.456133  -7.404476  225.897068  4.139629  0.000000   0.000000   \n",
       "1  0.761310  90.094752  -0.203702  244.035236  2.352088  0.000000   0.000000   \n",
       "2  0.389157  98.083420 -39.552291  328.020822  4.495098  8.231188  68.519079   \n",
       "3  0.646701  94.736810  29.742417  284.786097  4.981928  0.000000   0.000000   \n",
       "4  0.361906   3.346757 -38.118085  239.676184  1.654655  0.000000   0.000000   \n",
       "\n",
       "          s3         s4         s5         s6  normed_tau  t0_bin  abin  \n",
       "0  14.010917  12.561512  10.387404   8.454864   13.321875      13    12  \n",
       "1  65.898884  90.557821  75.252274  55.695186   25.833429      15    88  \n",
       "2  95.882218  93.212643  79.419842  63.624859   83.765971       3    96  \n",
       "3   0.000000  62.626350  93.738800  88.519938   53.943026      25    92  \n",
       "4   4.230489   4.834844   4.230489   0.000000   22.826592       3     1  "
      ]
     },
     "execution_count": 4,
     "metadata": {},
     "output_type": "execute_result"
    }
   ],
   "source": [
    "sample.head()"
   ]
  },
  {
   "cell_type": "code",
   "execution_count": null,
   "metadata": {
    "collapsed": true,
    "deletable": true,
    "editable": true
   },
   "outputs": [],
   "source": []
  }
 ],
 "metadata": {
  "anaconda-cloud": {},
  "kernelspec": {
   "display_name": "Python 3 (Belle2)",
   "language": "python",
   "name": "python3"
  },
  "language_info": {
   "codemirror_mode": {
    "name": "ipython",
    "version": 3
   },
   "file_extension": ".py",
   "mimetype": "text/x-python",
   "name": "python",
   "nbconvert_exporter": "python",
   "pygments_lexer": "ipython3",
   "version": "3.6.2"
  }
 },
 "nbformat": 4,
 "nbformat_minor": 1
}
