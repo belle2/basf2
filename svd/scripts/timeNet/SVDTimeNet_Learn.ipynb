{
 "cells": [
  {
   "cell_type": "markdown",
   "metadata": {
    "deletable": true,
    "editable": true
   },
   "source": [
    "## Train and save the SVDTime Neural Network\n",
    "\n",
    "The SVDTimeNN is a MultilayerPerceptron estimator of \n",
    "The truth data in this case are bin numbers in a series of time shift bins. The result of such a training is a distribution function for a time shift value. From these, it is easy to calculate mean value and standard deviation, but also do a range of approximate probabilistic calculations."
   ]
  },
  {
   "cell_type": "markdown",
   "metadata": {
    "deletable": true,
    "editable": true
   },
   "source": [
    "##### Required Python packages\n",
    "\n",
    "The following python packages are used:\n",
    "- math (basic python math functions)\n",
    "- numpy (Vectors and matrices for numerics)\n",
    "- pandas (Python analogue of Excel tables)\n",
    "- matplotlib (Plotting library)\n",
    "- seaborn (Advanced plotting)\n",
    "- scipy (Scientific computing package)\n",
    "- scikit-learn (machine learning)\n",
    "\n",
    "Only sklear2pmml is missing in the current basf2 distribution. Install it with\n",
    "\n",
    "pip3 install --user git+https://github.com/jpmml/sklearn2pmml.git\n",
    "\n",
    "##### Other pre-requisites:\n",
    "\n",
    "A sample of training data, plus binning and bounds information in pickle (*.pkl) files."
   ]
  },
  {
   "cell_type": "code",
   "execution_count": 1,
   "metadata": {
    "collapsed": false,
    "deletable": true,
    "editable": true
   },
   "outputs": [],
   "source": [
    "import math\n",
    "import datetime\n",
    "import numpy as np\n",
    "import pandas as pd\n",
    "%matplotlib inline\n",
    "import matplotlib.pyplot as plt\n",
    "from matplotlib import pylab\n",
    "import seaborn as sns\n",
    "from scipy import stats as stats\n",
    "from scipy.optimize import minimize_scalar\n",
    "from sklearn.neural_network import MLPClassifier\n",
    "from sklearn2pmml import sklearn2pmml, PMMLPipeline\n",
    "from svd.SVDSimBase import *\n",
    "from lxml import etree as ET"
   ]
  },
  {
   "cell_type": "markdown",
   "metadata": {
    "deletable": true,
    "editable": true
   },
   "source": [
    "### Retrieve training sample"
   ]
  },
  {
   "cell_type": "code",
   "execution_count": 2,
   "metadata": {
    "collapsed": true,
    "deletable": true,
    "editable": true
   },
   "outputs": [],
   "source": [
    "n_samples = 1000000\n",
    "pkl_name = 'SVDTime_Training{0}_{1}.pkl'\n",
    "\n",
    "stockdata = pd.read_pickle(pkl_name.format('Sample', n_samples))\n",
    "n_samples = len(stockdata)\n",
    "bounds = pd.read_pickle(pkl_name.format('Bounds', n_samples))\n",
    "bins = pd.read_pickle(pkl_name.format('Bins', n_samples))\n",
    "\n",
    "timearray = bins['midpoint']\n",
    "timebins = np.unique(bins[['lower','upper']])"
   ]
  },
  {
   "cell_type": "code",
   "execution_count": 3,
   "metadata": {
    "collapsed": false,
    "deletable": true,
    "editable": true
   },
   "outputs": [
    {
     "data": {
      "text/html": [
       "<div>\n",
       "<style>\n",
       "    .dataframe thead tr:only-child th {\n",
       "        text-align: right;\n",
       "    }\n",
       "\n",
       "    .dataframe thead th {\n",
       "        text-align: left;\n",
       "    }\n",
       "\n",
       "    .dataframe tbody tr th {\n",
       "        vertical-align: top;\n",
       "    }\n",
       "</style>\n",
       "<table border=\"1\" class=\"dataframe\">\n",
       "  <thead>\n",
       "    <tr style=\"text-align: right;\">\n",
       "      <th></th>\n",
       "      <th>test</th>\n",
       "      <th>amplitude</th>\n",
       "      <th>t0</th>\n",
       "      <th>tau</th>\n",
       "      <th>sigma</th>\n",
       "      <th>s1</th>\n",
       "      <th>s2</th>\n",
       "      <th>s3</th>\n",
       "      <th>s4</th>\n",
       "      <th>s5</th>\n",
       "      <th>s6</th>\n",
       "      <th>normed_tau</th>\n",
       "      <th>t0_bin</th>\n",
       "      <th>abin</th>\n",
       "    </tr>\n",
       "  </thead>\n",
       "  <tbody>\n",
       "    <tr>\n",
       "      <th>0</th>\n",
       "      <td>0.420250</td>\n",
       "      <td>45.085136</td>\n",
       "      <td>0.486506</td>\n",
       "      <td>271.287924</td>\n",
       "      <td>1.764844</td>\n",
       "      <td>0.000000</td>\n",
       "      <td>0.000000</td>\n",
       "      <td>30.597607</td>\n",
       "      <td>44.763166</td>\n",
       "      <td>42.496677</td>\n",
       "      <td>32.864097</td>\n",
       "      <td>44.632101</td>\n",
       "      <td>16</td>\n",
       "      <td>43</td>\n",
       "    </tr>\n",
       "    <tr>\n",
       "      <th>1</th>\n",
       "      <td>0.470006</td>\n",
       "      <td>40.923811</td>\n",
       "      <td>-76.319618</td>\n",
       "      <td>327.200027</td>\n",
       "      <td>1.863665</td>\n",
       "      <td>32.731206</td>\n",
       "      <td>40.779863</td>\n",
       "      <td>37.023823</td>\n",
       "      <td>32.194629</td>\n",
       "      <td>24.682549</td>\n",
       "      <td>18.780200</td>\n",
       "      <td>83.199794</td>\n",
       "      <td>1</td>\n",
       "      <td>38</td>\n",
       "    </tr>\n",
       "    <tr>\n",
       "      <th>2</th>\n",
       "      <td>0.752444</td>\n",
       "      <td>47.280162</td>\n",
       "      <td>18.665801</td>\n",
       "      <td>304.865337</td>\n",
       "      <td>2.584116</td>\n",
       "      <td>0.000000</td>\n",
       "      <td>0.000000</td>\n",
       "      <td>10.061467</td>\n",
       "      <td>38.310970</td>\n",
       "      <td>46.824519</td>\n",
       "      <td>43.728683</td>\n",
       "      <td>67.793515</td>\n",
       "      <td>20</td>\n",
       "      <td>45</td>\n",
       "    </tr>\n",
       "    <tr>\n",
       "      <th>3</th>\n",
       "      <td>0.700490</td>\n",
       "      <td>9.206401</td>\n",
       "      <td>-33.538889</td>\n",
       "      <td>230.937656</td>\n",
       "      <td>1.520102</td>\n",
       "      <td>0.000000</td>\n",
       "      <td>7.236357</td>\n",
       "      <td>8.552058</td>\n",
       "      <td>8.552058</td>\n",
       "      <td>6.578506</td>\n",
       "      <td>3.947104</td>\n",
       "      <td>16.798830</td>\n",
       "      <td>9</td>\n",
       "      <td>7</td>\n",
       "    </tr>\n",
       "    <tr>\n",
       "      <th>4</th>\n",
       "      <td>0.892159</td>\n",
       "      <td>54.405736</td>\n",
       "      <td>36.581858</td>\n",
       "      <td>344.323744</td>\n",
       "      <td>3.623510</td>\n",
       "      <td>0.000000</td>\n",
       "      <td>0.000000</td>\n",
       "      <td>0.000000</td>\n",
       "      <td>23.733895</td>\n",
       "      <td>48.571691</td>\n",
       "      <td>53.815226</td>\n",
       "      <td>95.011588</td>\n",
       "      <td>23</td>\n",
       "      <td>52</td>\n",
       "    </tr>\n",
       "  </tbody>\n",
       "</table>\n",
       "</div>"
      ],
      "text/plain": [
       "       test  amplitude         t0         tau     sigma         s1         s2  \\\n",
       "0  0.420250  45.085136   0.486506  271.287924  1.764844   0.000000   0.000000   \n",
       "1  0.470006  40.923811 -76.319618  327.200027  1.863665  32.731206  40.779863   \n",
       "2  0.752444  47.280162  18.665801  304.865337  2.584116   0.000000   0.000000   \n",
       "3  0.700490   9.206401 -33.538889  230.937656  1.520102   0.000000   7.236357   \n",
       "4  0.892159  54.405736  36.581858  344.323744  3.623510   0.000000   0.000000   \n",
       "\n",
       "          s3         s4         s5         s6  normed_tau  t0_bin  abin  \n",
       "0  30.597607  44.763166  42.496677  32.864097   44.632101      16    43  \n",
       "1  37.023823  32.194629  24.682549  18.780200   83.199794       1    38  \n",
       "2  10.061467  38.310970  46.824519  43.728683   67.793515      20    45  \n",
       "3   8.552058   8.552058   6.578506   3.947104   16.798830       9     7  \n",
       "4   0.000000  23.733895  48.571691  53.815226   95.011588      23    52  "
      ]
     },
     "execution_count": 3,
     "metadata": {},
     "output_type": "execute_result"
    }
   ],
   "source": [
    "stockdata.head()"
   ]
  },
  {
   "cell_type": "markdown",
   "metadata": {
    "deletable": true,
    "editable": true
   },
   "source": [
    "### Split the data into training and test samples"
   ]
  },
  {
   "cell_type": "code",
   "execution_count": 4,
   "metadata": {
    "collapsed": true,
    "deletable": true,
    "editable": true
   },
   "outputs": [],
   "source": [
    "test_fraction = 0.2\n",
    "X = stockdata[['s'+str(i) for i in range(1,7)]+['normed_tau']]\n",
    "Y = stockdata['t0_bin']\n",
    "X_train = X[stockdata.test>test_fraction]\n",
    "X_test = X[stockdata.test<test_fraction]\n",
    "Y_train = Y[stockdata.test>test_fraction]\n",
    "Y_test = Y[stockdata.test<test_fraction]"
   ]
  },
  {
   "cell_type": "code",
   "execution_count": 5,
   "metadata": {
    "collapsed": false,
    "deletable": true,
    "editable": true
   },
   "outputs": [
    {
     "data": {
      "text/html": [
       "<div>\n",
       "<style>\n",
       "    .dataframe thead tr:only-child th {\n",
       "        text-align: right;\n",
       "    }\n",
       "\n",
       "    .dataframe thead th {\n",
       "        text-align: left;\n",
       "    }\n",
       "\n",
       "    .dataframe tbody tr th {\n",
       "        vertical-align: top;\n",
       "    }\n",
       "</style>\n",
       "<table border=\"1\" class=\"dataframe\">\n",
       "  <thead>\n",
       "    <tr style=\"text-align: right;\">\n",
       "      <th></th>\n",
       "      <th>s1</th>\n",
       "      <th>s2</th>\n",
       "      <th>s3</th>\n",
       "      <th>s4</th>\n",
       "      <th>s5</th>\n",
       "      <th>s6</th>\n",
       "      <th>normed_tau</th>\n",
       "    </tr>\n",
       "  </thead>\n",
       "  <tbody>\n",
       "    <tr>\n",
       "      <th>0</th>\n",
       "      <td>0.000000</td>\n",
       "      <td>0.000000</td>\n",
       "      <td>30.597607</td>\n",
       "      <td>44.763166</td>\n",
       "      <td>42.496677</td>\n",
       "      <td>32.864097</td>\n",
       "      <td>44.632101</td>\n",
       "    </tr>\n",
       "    <tr>\n",
       "      <th>1</th>\n",
       "      <td>32.731206</td>\n",
       "      <td>40.779863</td>\n",
       "      <td>37.023823</td>\n",
       "      <td>32.194629</td>\n",
       "      <td>24.682549</td>\n",
       "      <td>18.780200</td>\n",
       "      <td>83.199794</td>\n",
       "    </tr>\n",
       "    <tr>\n",
       "      <th>2</th>\n",
       "      <td>0.000000</td>\n",
       "      <td>0.000000</td>\n",
       "      <td>10.061467</td>\n",
       "      <td>38.310970</td>\n",
       "      <td>46.824519</td>\n",
       "      <td>43.728683</td>\n",
       "      <td>67.793515</td>\n",
       "    </tr>\n",
       "    <tr>\n",
       "      <th>3</th>\n",
       "      <td>0.000000</td>\n",
       "      <td>7.236357</td>\n",
       "      <td>8.552058</td>\n",
       "      <td>8.552058</td>\n",
       "      <td>6.578506</td>\n",
       "      <td>3.947104</td>\n",
       "      <td>16.798830</td>\n",
       "    </tr>\n",
       "    <tr>\n",
       "      <th>4</th>\n",
       "      <td>0.000000</td>\n",
       "      <td>0.000000</td>\n",
       "      <td>0.000000</td>\n",
       "      <td>23.733895</td>\n",
       "      <td>48.571691</td>\n",
       "      <td>53.815226</td>\n",
       "      <td>95.011588</td>\n",
       "    </tr>\n",
       "  </tbody>\n",
       "</table>\n",
       "</div>"
      ],
      "text/plain": [
       "          s1         s2         s3         s4         s5         s6  \\\n",
       "0   0.000000   0.000000  30.597607  44.763166  42.496677  32.864097   \n",
       "1  32.731206  40.779863  37.023823  32.194629  24.682549  18.780200   \n",
       "2   0.000000   0.000000  10.061467  38.310970  46.824519  43.728683   \n",
       "3   0.000000   7.236357   8.552058   8.552058   6.578506   3.947104   \n",
       "4   0.000000   0.000000   0.000000  23.733895  48.571691  53.815226   \n",
       "\n",
       "   normed_tau  \n",
       "0   44.632101  \n",
       "1   83.199794  \n",
       "2   67.793515  \n",
       "3   16.798830  \n",
       "4   95.011588  "
      ]
     },
     "execution_count": 5,
     "metadata": {},
     "output_type": "execute_result"
    }
   ],
   "source": [
    "X.head()"
   ]
  },
  {
   "cell_type": "code",
   "execution_count": 6,
   "metadata": {
    "collapsed": true,
    "deletable": true,
    "editable": true
   },
   "outputs": [],
   "source": [
    "classifier = MLPClassifier(\n",
    "    hidden_layer_sizes = (len(timearray)-1,len(timearray)+1),\n",
    "    activation = 'relu',\n",
    "    solver = 'adam',\n",
    "    tol = 1.0e-6, \n",
    "    alpha = 0.005, \n",
    "    verbose = False\n",
    ")\n",
    "nntime_fitter = PMMLPipeline([('claasifier', classifier)])"
   ]
  },
  {
   "cell_type": "code",
   "execution_count": 7,
   "metadata": {
    "collapsed": false,
    "deletable": true,
    "editable": true,
    "scrolled": false
   },
   "outputs": [
    {
     "data": {
      "text/plain": [
       "PMMLPipeline(steps=[('claasifier', MLPClassifier(activation='relu', alpha=0.005, batch_size='auto', beta_1=0.9,\n",
       "       beta_2=0.999, early_stopping=False, epsilon=1e-08,\n",
       "       hidden_layer_sizes=(24, 26), learning_rate='constant',\n",
       "       learning_rate_init=0.001, max_iter=200, momentum=0.9,\n",
       "       nesterovs_momentum=True, power_t=0.5, random_state=None,\n",
       "       shuffle=True, solver='adam', tol=1e-06, validation_fraction=0.1,\n",
       "       verbose=False, warm_start=False))])"
      ]
     },
     "execution_count": 7,
     "metadata": {},
     "output_type": "execute_result"
    }
   ],
   "source": [
    "nntime_fitter.fit(X_train,Y_train)"
   ]
  },
  {
   "cell_type": "code",
   "execution_count": 8,
   "metadata": {
    "collapsed": false,
    "deletable": true,
    "editable": true
   },
   "outputs": [
    {
     "name": "stdout",
     "output_type": "stream",
     "text": [
      "Test: 0.7845886967015285\n",
      "Train: 0.785154533652886\n"
     ]
    }
   ],
   "source": [
    "test_score = nntime_fitter.score(X_test, Y_test)\n",
    "train_score = nntime_fitter.score(X_train, Y_train)\n",
    "print('Test: {}'.format(test_score))\n",
    "print('Train: {}'.format(train_score))"
   ]
  },
  {
   "cell_type": "code",
   "execution_count": 9,
   "metadata": {
    "collapsed": true,
    "deletable": true,
    "editable": true
   },
   "outputs": [],
   "source": [
    "pmml_name = 'SVDTimeNet.pmml'\n",
    "xml_name = pmml_name.replace('pmml','xml')\n",
    "sklearn2pmml(nntime_fitter, pmml_name, with_repr = True)"
   ]
  },
  {
   "cell_type": "code",
   "execution_count": 10,
   "metadata": {
    "collapsed": true,
    "deletable": true,
    "editable": true
   },
   "outputs": [],
   "source": [
    "parser = ET.XMLParser(remove_blank_text=True)\n",
    "net = ET.parse(pmml_name, parser)\n",
    "root = net.getroot()\n",
    "# namespace hassle\n",
    "namespace = root.nsmap[None]\n",
    "nsprefix = '{'+namespace+'}'\n",
    "procinfo = root.find(nsprefix + 'MiningBuildTask')"
   ]
  },
  {
   "cell_type": "code",
   "execution_count": 11,
   "metadata": {
    "collapsed": true,
    "deletable": true,
    "editable": true,
    "scrolled": true
   },
   "outputs": [],
   "source": [
    "# Save some metadata\n",
    "name = ET.SubElement(procinfo, nsprefix + 'Title')\n",
    "name.text = 'Neural network for time shift estimation'\n",
    "\n",
    "# Information on use of the classifier\n",
    "target = ET.SubElement(procinfo, nsprefix + 'IntendedUse')\n",
    "basf2proc = ET.SubElement(target, nsprefix + 'basf2process')\n",
    "basf2simulation = ET.SubElement(basf2proc, nsprefix + 'Simulation')\n",
    "basf2simulation.text = 'yes'\n",
    "basf2reconstruction = ET.SubElement(basf2proc, nsprefix + 'Reconstruction')\n",
    "basf2reconstruction.text = 'yes'\n",
    "sensorType = ET.SubElement(target, nsprefix + 'SensorType')\n",
    "sensorType.text = 'all'\n",
    "sensorSide = ET.SubElement(target, nsprefix + 'SensorSide')\n",
    "sensorSide.text = 'all'\n",
    "\n",
    "#information on training\n",
    "training = ET.SubElement(procinfo, nsprefix + 'Training')\n",
    "source = ET.SubElement(training, nsprefix + 'SampleSource')\n",
    "source.text = 'Toy simulation'\n",
    "genfunc = ET.SubElement(training, nsprefix + 'Waveform')\n",
    "genfunc.text = 'beta-prime'\n",
    "num_samples = ET.SubElement(training, nsprefix + 'SampleSize')\n",
    "train_samples = ET.SubElement(num_samples, nsprefix + 'Training', {'n': str(int((1-test_fraction)*n_samples))})\n",
    "test_samples = ET.SubElement(num_samples, nsprefix + 'Test', {'n': str(int(test_fraction*n_samples))})\n",
    "bounds.apply(\n",
    "    lambda row: ET.SubElement(training, nsprefix + 'Parameter', **{u:str(v) for u, v in row.items()}), axis = 1\n",
    ")\n",
    "\n",
    "netparams = ET.SubElement(procinfo, nsprefix + 'NetworkParameters')\n",
    "inputLayer = ET.SubElement(netparams, nsprefix + 'NetworkLayer')\n",
    "inputLayer.attrib['number'] = str(0)\n",
    "inputLayer.attrib['kind'] = 'input'\n",
    "inputLayer.attrib['size'] = str(7) # 7 as in 6 APV samples + tau\n",
    "n_hidden = len(classifier.hidden_layer_sizes)\n",
    "for (iLayer, sz) in zip(range(1,1+n_hidden), classifier.hidden_layer_sizes) :\n",
    "    layer = ET.SubElement(netparams, nsprefix + 'NetworkLayer')\n",
    "    layer.attrib['number'] = str(iLayer)\n",
    "    layer.attrib['kind'] = 'hidden'\n",
    "    layer.attrib['size'] = str(sz)\n",
    "outputLayer = ET.SubElement(netparams, nsprefix + 'NetworkLayer')\n",
    "outputLayer.attrib['number'] = str(n_hidden+1)\n",
    "outputLayer.attrib['kind'] = 'output'\n",
    "outputLayer.attrib['size'] = str(len(timearray)) \n",
    "\n",
    "for field in root.find(nsprefix + 'DataDictionary'):\n",
    "    if field.attrib['name'] == 't0_bin':\n",
    "        for child in field:\n",
    "            i = int(child.attrib['value'])\n",
    "            child.attrib['lower'] = '{0:.3f}'.format(bins.loc[i,'lower'])\n",
    "            child.attrib['upper'] = '{0:.3f}'.format(bins.loc[i,'upper'])\n",
    "            child.attrib['midpoint'] = '{0:.3f}'.format(bins.loc[i,'midpoint'])\n"
   ]
  },
  {
   "cell_type": "code",
   "execution_count": 12,
   "metadata": {
    "collapsed": true,
    "deletable": true,
    "editable": true
   },
   "outputs": [],
   "source": [
    "net.write(xml_name, xml_declaration = True, pretty_print = True, encoding = 'utf-8')"
   ]
  },
  {
   "cell_type": "markdown",
   "metadata": {
    "deletable": true,
    "editable": true
   },
   "source": [
    "#### Set up tau en/decoder"
   ]
  },
  {
   "cell_type": "code",
   "execution_count": 13,
   "metadata": {
    "collapsed": false,
    "deletable": true,
    "editable": true
   },
   "outputs": [
    {
     "name": "stderr",
     "output_type": "stream",
     "text": [
      "/home/kvasnicka/work/belle2_new/externals/v01-05-01/Linux_x86_64/common/lib/python3.6/site-packages/ipykernel/__main__.py:2: DeprecationWarning: \n",
      ".ix is deprecated. Please use\n",
      ".loc for label based indexing or\n",
      ".iloc for positional indexing\n",
      "\n",
      "See the documentation here:\n",
      "http://pandas.pydata.org/pandas-docs/stable/indexing.html#ix-indexer-is-deprecated\n",
      "  from ipykernel import kernelapp as app\n"
     ]
    }
   ],
   "source": [
    "amp_index = bounds[bounds.value == 'amplitude'].index[0]\n",
    "amp_range = (bounds.ix[amp_index,'low'], bounds.ix[amp_index, 'high'])\n",
    "tau_index = bounds[bounds.value == 'tau'].index[0]\n",
    "tau_range = (bounds.ix[tau_index,'low'], bounds.ix[tau_index, 'high'])\n",
    "coder = tau_encoder(amp_range, tau_range)"
   ]
  },
  {
   "cell_type": "markdown",
   "metadata": {
    "deletable": true,
    "editable": true
   },
   "source": [
    "#### True values"
   ]
  },
  {
   "cell_type": "code",
   "execution_count": 14,
   "metadata": {
    "collapsed": true,
    "deletable": true,
    "editable": true
   },
   "outputs": [],
   "source": [
    "Trues_test = stockdata[stockdata.test < test_fraction][['t0', 'amplitude','tau','t0_bin', 'abin']]"
   ]
  },
  {
   "cell_type": "code",
   "execution_count": 15,
   "metadata": {
    "collapsed": false,
    "deletable": true,
    "editable": true
   },
   "outputs": [
    {
     "data": {
      "text/html": [
       "<div>\n",
       "<style>\n",
       "    .dataframe thead tr:only-child th {\n",
       "        text-align: right;\n",
       "    }\n",
       "\n",
       "    .dataframe thead th {\n",
       "        text-align: left;\n",
       "    }\n",
       "\n",
       "    .dataframe tbody tr th {\n",
       "        vertical-align: top;\n",
       "    }\n",
       "</style>\n",
       "<table border=\"1\" class=\"dataframe\">\n",
       "  <thead>\n",
       "    <tr style=\"text-align: right;\">\n",
       "      <th></th>\n",
       "      <th>t0</th>\n",
       "      <th>amplitude</th>\n",
       "      <th>tau</th>\n",
       "      <th>t0_bin</th>\n",
       "      <th>abin</th>\n",
       "    </tr>\n",
       "  </thead>\n",
       "  <tbody>\n",
       "    <tr>\n",
       "      <th>9</th>\n",
       "      <td>-68.156099</td>\n",
       "      <td>5.824593</td>\n",
       "      <td>268.574949</td>\n",
       "      <td>3</td>\n",
       "      <td>3</td>\n",
       "    </tr>\n",
       "    <tr>\n",
       "      <th>19</th>\n",
       "      <td>18.888240</td>\n",
       "      <td>60.214912</td>\n",
       "      <td>277.003488</td>\n",
       "      <td>20</td>\n",
       "      <td>58</td>\n",
       "    </tr>\n",
       "    <tr>\n",
       "      <th>22</th>\n",
       "      <td>19.213061</td>\n",
       "      <td>71.931029</td>\n",
       "      <td>341.617938</td>\n",
       "      <td>20</td>\n",
       "      <td>69</td>\n",
       "    </tr>\n",
       "    <tr>\n",
       "      <th>28</th>\n",
       "      <td>-3.668041</td>\n",
       "      <td>46.327342</td>\n",
       "      <td>287.331662</td>\n",
       "      <td>15</td>\n",
       "      <td>44</td>\n",
       "    </tr>\n",
       "    <tr>\n",
       "      <th>32</th>\n",
       "      <td>4.855365</td>\n",
       "      <td>36.319822</td>\n",
       "      <td>224.405947</td>\n",
       "      <td>17</td>\n",
       "      <td>34</td>\n",
       "    </tr>\n",
       "  </tbody>\n",
       "</table>\n",
       "</div>"
      ],
      "text/plain": [
       "           t0  amplitude         tau  t0_bin  abin\n",
       "9  -68.156099   5.824593  268.574949       3     3\n",
       "19  18.888240  60.214912  277.003488      20    58\n",
       "22  19.213061  71.931029  341.617938      20    69\n",
       "28  -3.668041  46.327342  287.331662      15    44\n",
       "32   4.855365  36.319822  224.405947      17    34"
      ]
     },
     "execution_count": 15,
     "metadata": {},
     "output_type": "execute_result"
    }
   ],
   "source": [
    "Trues_test.head()"
   ]
  },
  {
   "cell_type": "markdown",
   "metadata": {
    "deletable": true,
    "editable": true
   },
   "source": [
    "#### Predicted probabilities."
   ]
  },
  {
   "cell_type": "code",
   "execution_count": 16,
   "metadata": {
    "collapsed": false,
    "deletable": true,
    "editable": true
   },
   "outputs": [
    {
     "data": {
      "text/plain": [
       "array([[  5.86533709e-01,   3.02595348e-01,   8.87765392e-02, ...,\n",
       "          1.90258978e-05,   6.28298443e-05,   1.77978476e-04],\n",
       "       [  1.20169954e-34,   2.58969988e-29,   7.14542124e-27, ...,\n",
       "          2.91081205e-14,   7.84909697e-27,   7.56510029e-42],\n",
       "       [  2.34807906e-30,   1.06363566e-24,   3.43091128e-22, ...,\n",
       "          1.05000188e-12,   8.70708634e-26,   2.04175979e-41],\n",
       "       ..., \n",
       "       [  7.32980851e-01,   2.63783246e-01,   3.23361570e-03, ...,\n",
       "          8.35669447e-17,   5.73346809e-18,   4.38920101e-21],\n",
       "       [  2.15059669e-43,   8.45856817e-34,   6.14335961e-27, ...,\n",
       "          8.24455997e-01,   1.68920400e-05,   1.84031479e-14],\n",
       "       [  1.04366005e-26,   9.01535175e-22,   3.63215696e-18, ...,\n",
       "          8.62234726e-02,   1.25711217e-04,   5.07510715e-09]])"
      ]
     },
     "execution_count": 16,
     "metadata": {},
     "output_type": "execute_result"
    }
   ],
   "source": [
    "probs = nntime_fitter.predict_proba(X_test)\n",
    "probs"
   ]
  },
  {
   "cell_type": "markdown",
   "metadata": {
    "deletable": true,
    "editable": true
   },
   "source": [
    "### Calculate time shifts and amplitudes from probabilities"
   ]
  },
  {
   "cell_type": "code",
   "execution_count": 17,
   "metadata": {
    "collapsed": false,
    "deletable": true,
    "editable": true
   },
   "outputs": [],
   "source": [
    "def fitFromProb(fw, signals, p, tau, timearray):\n",
    "    t_fit = np.average(timearray, weights = p)\n",
    "    t_sigma = np.sqrt(np.average((timearray - t_fit)**2, weights = p))\n",
    "    weights = fw(-t_fit + np.linspace(-dt, 4*dt, 6, endpoint = True), tau = tau)\n",
    "    weights[signals.values == 0.0] = 0.0\n",
    "    norm = 1.0 / np.inner(weights, weights)\n",
    "    a_fit = np.inner(signals, weights) * norm\n",
    "    a_sigma = np.sqrt(norm)\n",
    "    residuals = signals - a_fit * weights\n",
    "    ndf = np.sum(np.ones_like(signals[signals>0])) - 2 # Can't be less than 1\n",
    "    chi2_ndf = np.inner(residuals, residuals)/ndf\n",
    "    return pd.Series({\n",
    "        't_fit':t_fit, \n",
    "        't_sigma':t_sigma, \n",
    "        'a_fit':a_fit, \n",
    "        'a_sigma':a_sigma,\n",
    "        'chi2_ndf':chi2_ndf\n",
    "            })"
   ]
  },
  {
   "cell_type": "code",
   "execution_count": 18,
   "metadata": {
    "collapsed": true,
    "deletable": true,
    "editable": true
   },
   "outputs": [],
   "source": [
    "probdf = pd.DataFrame(probs)\n",
    "probdf.index = X_test.index\n",
    "probdf.to_pickle('SVDTime_TrainingProbs_{0}.pkl'.format(n_samples))"
   ]
  },
  {
   "cell_type": "code",
   "execution_count": 19,
   "metadata": {
    "collapsed": false,
    "deletable": true,
    "editable": true
   },
   "outputs": [
    {
     "name": "stderr",
     "output_type": "stream",
     "text": [
      "/home/kvasnicka/work/belle2_new/externals/v01-05-01/Linux_x86_64/common/lib/python3.6/site-packages/ipykernel/__main__.py:5: DeprecationWarning: \n",
      ".ix is deprecated. Please use\n",
      ".loc for label based indexing or\n",
      ".iloc for positional indexing\n",
      "\n",
      "See the documentation here:\n",
      "http://pandas.pydata.org/pandas-docs/stable/indexing.html#ix-indexer-is-deprecated\n"
     ]
    }
   ],
   "source": [
    "fits = X_test.apply(\n",
    "    lambda row: fitFromProb(\n",
    "        betaprime_wave, \n",
    "        row[['s'+str(i) for i in range(1,7)]], \n",
    "        probdf.ix[row.name],\n",
    "        coder.decode(row['normed_tau']), \n",
    "        timearray), \n",
    "    axis = 1\n",
    ")\n",
    "fits['t_true'] = Trues_test['t0']\n",
    "fits['tau'] = Trues_test['tau']\n",
    "fits['a_true'] = Trues_test['amplitude']\n",
    "fits['t_bin'] = Trues_test['t0_bin']\n",
    "fits['a_bin'] = Trues_test['abin']"
   ]
  },
  {
   "cell_type": "code",
   "execution_count": 20,
   "metadata": {
    "collapsed": false,
    "deletable": true,
    "editable": true
   },
   "outputs": [
    {
     "data": {
      "text/html": [
       "<div>\n",
       "<style>\n",
       "    .dataframe thead tr:only-child th {\n",
       "        text-align: right;\n",
       "    }\n",
       "\n",
       "    .dataframe thead th {\n",
       "        text-align: left;\n",
       "    }\n",
       "\n",
       "    .dataframe tbody tr th {\n",
       "        vertical-align: top;\n",
       "    }\n",
       "</style>\n",
       "<table border=\"1\" class=\"dataframe\">\n",
       "  <thead>\n",
       "    <tr style=\"text-align: right;\">\n",
       "      <th></th>\n",
       "      <th>a_fit</th>\n",
       "      <th>a_sigma</th>\n",
       "      <th>chi2_ndf</th>\n",
       "      <th>t_fit</th>\n",
       "      <th>t_sigma</th>\n",
       "      <th>t_true</th>\n",
       "      <th>tau</th>\n",
       "      <th>a_true</th>\n",
       "      <th>t_bin</th>\n",
       "      <th>a_bin</th>\n",
       "    </tr>\n",
       "  </thead>\n",
       "  <tbody>\n",
       "    <tr>\n",
       "      <th>9</th>\n",
       "      <td>5.863042</td>\n",
       "      <td>0.629765</td>\n",
       "      <td>2.177858</td>\n",
       "      <td>-73.264863</td>\n",
       "      <td>4.286311</td>\n",
       "      <td>-68.156099</td>\n",
       "      <td>268.574949</td>\n",
       "      <td>5.824593</td>\n",
       "      <td>3</td>\n",
       "      <td>3</td>\n",
       "    </tr>\n",
       "    <tr>\n",
       "      <th>19</th>\n",
       "      <td>60.271050</td>\n",
       "      <td>0.634976</td>\n",
       "      <td>2.387612</td>\n",
       "      <td>19.388081</td>\n",
       "      <td>0.567940</td>\n",
       "      <td>18.888240</td>\n",
       "      <td>277.003488</td>\n",
       "      <td>60.214912</td>\n",
       "      <td>20</td>\n",
       "      <td>58</td>\n",
       "    </tr>\n",
       "    <tr>\n",
       "      <th>22</th>\n",
       "      <td>72.868984</td>\n",
       "      <td>0.639596</td>\n",
       "      <td>2.091510</td>\n",
       "      <td>19.386944</td>\n",
       "      <td>0.595397</td>\n",
       "      <td>19.213061</td>\n",
       "      <td>341.617938</td>\n",
       "      <td>71.931029</td>\n",
       "      <td>20</td>\n",
       "      <td>69</td>\n",
       "    </tr>\n",
       "    <tr>\n",
       "      <th>28</th>\n",
       "      <td>45.220982</td>\n",
       "      <td>0.591613</td>\n",
       "      <td>0.444565</td>\n",
       "      <td>-2.385301</td>\n",
       "      <td>2.408197</td>\n",
       "      <td>-3.668041</td>\n",
       "      <td>287.331662</td>\n",
       "      <td>46.327342</td>\n",
       "      <td>15</td>\n",
       "      <td>44</td>\n",
       "    </tr>\n",
       "    <tr>\n",
       "      <th>32</th>\n",
       "      <td>36.399106</td>\n",
       "      <td>0.634107</td>\n",
       "      <td>0.809875</td>\n",
       "      <td>4.663393</td>\n",
       "      <td>1.201728</td>\n",
       "      <td>4.855365</td>\n",
       "      <td>224.405947</td>\n",
       "      <td>36.319822</td>\n",
       "      <td>17</td>\n",
       "      <td>34</td>\n",
       "    </tr>\n",
       "  </tbody>\n",
       "</table>\n",
       "</div>"
      ],
      "text/plain": [
       "        a_fit   a_sigma  chi2_ndf      t_fit   t_sigma     t_true         tau  \\\n",
       "9    5.863042  0.629765  2.177858 -73.264863  4.286311 -68.156099  268.574949   \n",
       "19  60.271050  0.634976  2.387612  19.388081  0.567940  18.888240  277.003488   \n",
       "22  72.868984  0.639596  2.091510  19.386944  0.595397  19.213061  341.617938   \n",
       "28  45.220982  0.591613  0.444565  -2.385301  2.408197  -3.668041  287.331662   \n",
       "32  36.399106  0.634107  0.809875   4.663393  1.201728   4.855365  224.405947   \n",
       "\n",
       "       a_true  t_bin  a_bin  \n",
       "9    5.824593      3      3  \n",
       "19  60.214912     20     58  \n",
       "22  71.931029     20     69  \n",
       "28  46.327342     15     44  \n",
       "32  36.319822     17     34  "
      ]
     },
     "execution_count": 20,
     "metadata": {},
     "output_type": "execute_result"
    }
   ],
   "source": [
    "fits.head()"
   ]
  },
  {
   "cell_type": "code",
   "execution_count": 21,
   "metadata": {
    "collapsed": true,
    "deletable": true,
    "editable": true
   },
   "outputs": [],
   "source": [
    "fits.to_pickle('SVDTime_TrainingFits_{0}.pkl'.format(n_samples))"
   ]
  },
  {
   "cell_type": "code",
   "execution_count": 22,
   "metadata": {
    "collapsed": true,
    "deletable": true,
    "editable": true
   },
   "outputs": [],
   "source": [
    "import pickle"
   ]
  },
  {
   "cell_type": "code",
   "execution_count": 23,
   "metadata": {
    "collapsed": true,
    "deletable": true,
    "editable": true
   },
   "outputs": [],
   "source": [
    "with open('classifier.pkl', 'wb') as f:\n",
    "    pickle.dump(classifier, f)\n"
   ]
  },
  {
   "cell_type": "code",
   "execution_count": 24,
   "metadata": {
    "collapsed": false,
    "deletable": true,
    "editable": true
   },
   "outputs": [
    {
     "name": "stdout",
     "output_type": "stream",
     "text": [
      "Data written.\n"
     ]
    }
   ],
   "source": [
    "with open('classifier.txt', 'w') as cdump:\n",
    "    cdump.write(\"Classifier coefficients:\\n\")\n",
    "    for iLayer in range(len(classifier.coefs_)):\n",
    "        cdump.write('Layer: {0}\\n'.format(iLayer))\n",
    "        nrows = classifier.coefs_[iLayer].shape[0]\n",
    "        ncols = classifier.coefs_[iLayer].shape[1]\n",
    "        cdump.write('Weights:\\n')\n",
    "        for col in range(ncols):\n",
    "            s = \" \".join([str(classifier.coefs_[iLayer][row, col]) for row in range(nrows)])\n",
    "            s+=\"\\n\"\n",
    "            cdump.write(s)\n",
    "        # intercepts should have nrows dimension\n",
    "        cdump.write('Intercepts:\\n')\n",
    "        s = \" \".join([str(classifier.intercepts_[iLayer][col]) for col in range(ncols)])\n",
    "        s += \"\\n\"\n",
    "        cdump.write(s)\n",
    "\n",
    "print(\"Data written.\")"
   ]
  }
 ],
 "metadata": {
  "anaconda-cloud": {},
  "kernelspec": {
   "display_name": "Python 3 (Belle2)",
   "language": "python",
   "name": "python3"
  },
  "language_info": {
   "codemirror_mode": {
    "name": "ipython",
    "version": 3
   },
   "file_extension": ".py",
   "mimetype": "text/x-python",
   "name": "python",
   "nbconvert_exporter": "python",
   "pygments_lexer": "ipython3",
   "version": "3.6.2"
  }
 },
 "nbformat": 4,
 "nbformat_minor": 1
}
