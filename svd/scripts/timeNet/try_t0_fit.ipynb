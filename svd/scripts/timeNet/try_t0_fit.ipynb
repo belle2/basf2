{
 "cells": [
  {
   "cell_type": "markdown",
   "metadata": {
    "deletable": true,
    "editable": true
   },
   "source": [
    "## Plot results of training of a SVDTime Neural Network\n",
    "\n",
    "This notebook displays the results of time fits for digit produced by the SVD digitizer.\n",
    "The clusters are collected using the SVDFitclustersModule, and its output is imported and shown here. "
   ]
  },
  {
   "cell_type": "markdown",
   "metadata": {
    "deletable": true,
    "editable": true
   },
   "source": [
    "##### Required Python packages\n",
    "\n",
    "The following python packages are used:\n",
    "- math (basic python math functions)\n",
    "- numpy (Vectors and matrices for numerics)\n",
    "- pandas (Python analogue of Excel tables)\n",
    "- matplotlib (Plotting library)\n",
    "- seaborn (Advanced plotting)\n",
    "- scipy (Scientific computing package)\n",
    "- scikit-learn (machine learning)\n",
    "\n",
    "If you get an error message complaining about a missing package, do\n",
    "\n",
    "pip3 install *_package name_*\n",
    "\n",
    "##### Other pre-requisites:\n",
    "\n",
    "A sample of training data, plus binning and bounds information in pickle (*.pkl) files."
   ]
  },
  {
   "cell_type": "code",
   "execution_count": 1,
   "metadata": {
    "collapsed": false,
    "deletable": true,
    "editable": true
   },
   "outputs": [
    {
     "data": {
      "application/javascript": [
       "\n",
       "require(['notebook'],\n",
       "  function() {\n",
       "    IPython.CodeCell.config_defaults.highlight_modes['magic_text/x-c++src'] = {'reg':[/^%%cpp/]};\n",
       "    console.log(\"JupyROOT - %%cpp magic configured\");\n",
       "  }\n",
       ");\n"
      ]
     },
     "metadata": {},
     "output_type": "display_data"
    },
    {
     "name": "stdout",
     "output_type": "stream",
     "text": [
      "Welcome to JupyROOT 6.08/06\n"
     ]
    }
   ],
   "source": [
    "import math\n",
    "import datetime\n",
    "import numpy as np\n",
    "import pandas as pd\n",
    "%matplotlib inline\n",
    "import matplotlib.pyplot as plt\n",
    "from matplotlib import pylab\n",
    "import seaborn as sns\n",
    "from scipy import stats as stats\n",
    "from scipy.optimize import minimize_scalar\n",
    "from svd.SVDSimBase import *"
   ]
  },
  {
   "cell_type": "markdown",
   "metadata": {
    "deletable": true,
    "editable": true
   },
   "source": [
    "### Retrieve dumped digit fits"
   ]
  },
  {
   "cell_type": "code",
   "execution_count": 2,
   "metadata": {
    "collapsed": false,
    "deletable": true,
    "editable": true
   },
   "outputs": [],
   "source": [
    "cluster_fit_filename = '/media/sf_MateShare/kvasnicka/tb2017/output-5/dumped_tb_clusters.txt'\n",
    "\n",
    "clusters = pd.read_csv(cluster_fit_filename, index_col = False, delim_whitespace = True)\n",
    "\n",
    "pkl_name = 'SVDTime_TrainingBins_1000000.pkl'\n",
    "bins = pd.read_pickle(pkl_name)\n",
    "\n",
    "timearray = bins['midpoint']\n",
    "timebins = np.unique(bins[['lower','upper']])"
   ]
  },
  {
   "cell_type": "code",
   "execution_count": 3,
   "metadata": {
    "collapsed": false,
    "deletable": true,
    "editable": true,
    "scrolled": true
   },
   "outputs": [
    {
     "data": {
      "text/html": [
       "<div>\n",
       "<style>\n",
       "    .dataframe thead tr:only-child th {\n",
       "        text-align: right;\n",
       "    }\n",
       "\n",
       "    .dataframe thead th {\n",
       "        text-align: left;\n",
       "    }\n",
       "\n",
       "    .dataframe tbody tr th {\n",
       "        vertical-align: top;\n",
       "    }\n",
       "</style>\n",
       "<table border=\"1\" class=\"dataframe\">\n",
       "  <thead>\n",
       "    <tr style=\"text-align: right;\">\n",
       "      <th></th>\n",
       "      <th>EventNo</th>\n",
       "      <th>Layer</th>\n",
       "      <th>Ladder</th>\n",
       "      <th>Sensor</th>\n",
       "      <th>Side</th>\n",
       "      <th>Position</th>\n",
       "      <th>Bg</th>\n",
       "      <th>Time_event</th>\n",
       "      <th>Time_cluster</th>\n",
       "      <th>Charge_cluster</th>\n",
       "      <th>Size_cluster</th>\n",
       "      <th>Chi2_cluster</th>\n",
       "    </tr>\n",
       "  </thead>\n",
       "  <tbody>\n",
       "    <tr>\n",
       "      <th>0</th>\n",
       "      <td>14</td>\n",
       "      <td>3</td>\n",
       "      <td>1</td>\n",
       "      <td>2</td>\n",
       "      <td>u</td>\n",
       "      <td>-0.482356</td>\n",
       "      <td>s</td>\n",
       "      <td>-11.79</td>\n",
       "      <td>-25.492321</td>\n",
       "      <td>24793.705078</td>\n",
       "      <td>2</td>\n",
       "      <td>1.412855</td>\n",
       "    </tr>\n",
       "    <tr>\n",
       "      <th>1</th>\n",
       "      <td>14</td>\n",
       "      <td>3</td>\n",
       "      <td>1</td>\n",
       "      <td>2</td>\n",
       "      <td>u</td>\n",
       "      <td>-0.043126</td>\n",
       "      <td>s</td>\n",
       "      <td>-11.79</td>\n",
       "      <td>-24.204235</td>\n",
       "      <td>15250.776367</td>\n",
       "      <td>1</td>\n",
       "      <td>1.197790</td>\n",
       "    </tr>\n",
       "    <tr>\n",
       "      <th>2</th>\n",
       "      <td>14</td>\n",
       "      <td>3</td>\n",
       "      <td>1</td>\n",
       "      <td>2</td>\n",
       "      <td>u</td>\n",
       "      <td>0.067218</td>\n",
       "      <td>s</td>\n",
       "      <td>-11.79</td>\n",
       "      <td>-24.204235</td>\n",
       "      <td>13168.168945</td>\n",
       "      <td>1</td>\n",
       "      <td>1.788003</td>\n",
       "    </tr>\n",
       "    <tr>\n",
       "      <th>3</th>\n",
       "      <td>14</td>\n",
       "      <td>3</td>\n",
       "      <td>1</td>\n",
       "      <td>2</td>\n",
       "      <td>u</td>\n",
       "      <td>0.280018</td>\n",
       "      <td>s</td>\n",
       "      <td>-11.79</td>\n",
       "      <td>-25.492321</td>\n",
       "      <td>24488.626953</td>\n",
       "      <td>2</td>\n",
       "      <td>1.464763</td>\n",
       "    </tr>\n",
       "    <tr>\n",
       "      <th>4</th>\n",
       "      <td>14</td>\n",
       "      <td>3</td>\n",
       "      <td>1</td>\n",
       "      <td>2</td>\n",
       "      <td>v</td>\n",
       "      <td>1.312607</td>\n",
       "      <td>s</td>\n",
       "      <td>-11.79</td>\n",
       "      <td>-45.952068</td>\n",
       "      <td>24919.156250</td>\n",
       "      <td>2</td>\n",
       "      <td>3.390194</td>\n",
       "    </tr>\n",
       "  </tbody>\n",
       "</table>\n",
       "</div>"
      ],
      "text/plain": [
       "   EventNo  Layer  Ladder  Sensor Side  Position Bg  Time_event  Time_cluster  \\\n",
       "0       14      3       1       2    u -0.482356  s      -11.79    -25.492321   \n",
       "1       14      3       1       2    u -0.043126  s      -11.79    -24.204235   \n",
       "2       14      3       1       2    u  0.067218  s      -11.79    -24.204235   \n",
       "3       14      3       1       2    u  0.280018  s      -11.79    -25.492321   \n",
       "4       14      3       1       2    v  1.312607  s      -11.79    -45.952068   \n",
       "\n",
       "   Charge_cluster  Size_cluster  Chi2_cluster  \n",
       "0    24793.705078             2      1.412855  \n",
       "1    15250.776367             1      1.197790  \n",
       "2    13168.168945             1      1.788003  \n",
       "3    24488.626953             2      1.464763  \n",
       "4    24919.156250             2      3.390194  "
      ]
     },
     "execution_count": 3,
     "metadata": {},
     "output_type": "execute_result"
    }
   ],
   "source": [
    "clusters.head()"
   ]
  },
  {
   "cell_type": "markdown",
   "metadata": {
    "deletable": true,
    "editable": true
   },
   "source": [
    "We add a random column for sampling. We set the value to negative for rows we want to exclude from sampling. First thhing we exclude bad strips from consideration."
   ]
  },
  {
   "cell_type": "code",
   "execution_count": 4,
   "metadata": {
    "collapsed": false,
    "deletable": true,
    "editable": true
   },
   "outputs": [
    {
     "data": {
      "text/plain": [
       "Index(['EventNo', 'Layer', 'Ladder', 'Sensor', 'Side', 'Position', 'Bg',\n",
       "       'Time_event', 'Time_cluster', 'Charge_cluster', 'Size_cluster',\n",
       "       'Chi2_cluster', 'Test'],\n",
       "      dtype='object')"
      ]
     },
     "execution_count": 4,
     "metadata": {},
     "output_type": "execute_result"
    },
    {
     "data": {
      "image/png": "[encoded data removed]",
      "text/plain": [
       "<matplotlib.figure.Figure at 0x7fd741ed6e48>"
      ]
     },
     "metadata": {},
     "output_type": "display_data"
    }
   ],
   "source": [
    "clusters['Test'] = np.random.uniform(0.0,1.0,len(clusters))\n",
    "clusters['Test'] = clusters.apply(lambda row: row.Test if row.Time_cluster != 0.0 else -1, axis = 1)\n",
    "plt.hist(clusters.Test, bins = 100);\n",
    "clusters.columns"
   ]
  },
  {
   "cell_type": "code",
   "execution_count": 5,
   "metadata": {
    "collapsed": false,
    "deletable": true,
    "editable": true,
    "scrolled": false
   },
   "outputs": [
    {
     "data": {
      "image/png": "[encoded data removed]",
      "text/plain": [
       "<matplotlib.figure.Figure at 0x7fd741ed6400>"
      ]
     },
     "metadata": {},
     "output_type": "display_data"
    }
   ],
   "source": [
    "amplitude_low = 0\n",
    "amplitude_high = 100000\n",
    "clusters.Test = clusters.apply(lambda row: row.Test if (row.Charge_cluster > amplitude_low and row.Charge_cluster < amplitude_high) else -1.0, axis = 1)\n",
    "fig, ax = plt.subplots(1,2, sharex = True, sharey = True, figsize=(8,3))\n",
    "for side, i in zip(['u','v'], range(2)):\n",
    "    (freqs, fullbins, patches) = ax[i].hist(clusters.Charge_cluster[np.logical_and(clusters.Side==side, clusters.Charge_cluster < 200000)], histtype = 'step', bins = 100, label = side + ' full');\n",
    "    ax[i].hist(clusters.Charge_cluster[np.logical_and(clusters.Side==side, clusters.Test>0.0)], histtype = 'stepfilled', bins = fullbins, label = side + ' selected');\n",
    "    ax[i].legend()\n",
    "    ax[i].set_xlabel('Cluster charge [e-]')\n",
    "plt.savefig('Cluster_charge_selection.png')"
   ]
  },
  {
   "cell_type": "markdown",
   "metadata": {
    "deletable": true,
    "editable": true
   },
   "source": [
    "Now we also exclude data with extremely bad fits."
   ]
  },
  {
   "cell_type": "code",
   "execution_count": 6,
   "metadata": {
    "collapsed": false,
    "deletable": true,
    "editable": true
   },
   "outputs": [
    {
     "data": {
      "image/png": "[encoded data removed]",
      "text/plain": [
       "<matplotlib.figure.Figure at 0x7fd741b45b70>"
      ]
     },
     "metadata": {},
     "output_type": "display_data"
    }
   ],
   "source": [
    "max_chi2 = 5\n",
    "fig, ax = plt.subplots(1,2, sharex = True, sharey = True, figsize=(8,3))\n",
    "for side, i in zip(['u','v'], range(2)):\n",
    "    (freqs, fullbins, patches) = ax[i].hist(clusters.Chi2_cluster[clusters.Chi2_cluster < 20][np.logical_and(clusters.Side==side, clusters.Test > 0.0)], histtype = 'step', bins = 100, label = side + ' full');\n",
    "    clusters.Test = clusters.apply(lambda row: row.Test if row.Side != side or row.Chi2_cluster < max_chi2 else -1.0, axis = 1)\n",
    "    ax[i].hist(clusters.Chi2_cluster[np.logical_and(clusters.Side==side, clusters.Test>0.0)], histtype = 'stepfilled', bins = fullbins, label = side + ' selected');\n",
    "    ax[i].legend()\n",
    "    ax[i].set_xlabel('Cluster fit Chi2')\n",
    "plt.savefig('Cluster_chi2_selection.png')"
   ]
  },
  {
   "cell_type": "markdown",
   "metadata": {
    "deletable": true,
    "editable": true
   },
   "source": [
    "### Try to optimize shifts\n",
    "\n",
    "Find time shifts that reconstruct a credible DAQ scenario."
   ]
  },
  {
   "cell_type": "code",
   "execution_count": 7,
   "metadata": {
    "collapsed": false,
    "deletable": true,
    "editable": true,
    "scrolled": true
   },
   "outputs": [
    {
     "data": {
      "image/png": "[encoded data removed]",
      "text/plain": [
       "<matplotlib.figure.Figure at 0x7fd741b63cf8>"
      ]
     },
     "metadata": {},
     "output_type": "display_data"
    }
   ],
   "source": [
    "fig, ax = plt.subplots(1,2, sharex = True, sharey = True, figsize=(12,3))\n",
    "for side, i in zip(['u','v'], range(2)):\n",
    "    ax[i].hist(\n",
    "        clusters.Time_cluster[np.logical_and(clusters.Test > 0.0, clusters.Side==side)] \n",
    "        - clusters.Time_event[np.logical_and(clusters.Test > 0.0, clusters.Side==side)], \n",
    "        bins = 100, histtype = 'step', cumulative = False, label = side);\n",
    "    ax[i].legend()\n",
    "    ax[i].set_xlabel('t_fit - t_trigger [ns]')\n",
    "plt.savefig('FitMinusTrigger.png')"
   ]
  },
  {
   "cell_type": "markdown",
   "metadata": {
    "deletable": true,
    "editable": true
   },
   "source": [
    "###  Match distribution of times\n",
    "\n",
    "Another idea is to start matching time distributions. \n",
    "Next, match the distribution to the interval -31.44 to 0\n",
    "Next, estimate event time.\n",
    "And last, adjust widths by adjusting time distribution."
   ]
  },
  {
   "cell_type": "code",
   "execution_count": 8,
   "metadata": {
    "collapsed": false,
    "deletable": true,
    "editable": true,
    "scrolled": false
   },
   "outputs": [
    {
     "data": {
      "text/plain": [
       "[<matplotlib.lines.Line2D at 0x7fd74016f5c0>]"
      ]
     },
     "execution_count": 8,
     "metadata": {},
     "output_type": "execute_result"
    },
    {
     "data": {
      "image/png": "[encoded data removed]",
      "text/plain": [
       "<matplotlib.figure.Figure at 0x7fd74197fdd8>"
      ]
     },
     "metadata": {},
     "output_type": "display_data"
    },
    {
     "name": "stderr",
     "output_type": "stream",
     "text": [
      "/home/kvasnicka/work/belle2_new/externals/v01-05-01/Linux_x86_64/opt/root/lib/ROOT.py:303: FutureWarning: The pandas.core.datetools module is deprecated and will be removed in a future version. Please use the pandas.tseries module instead.\n",
      "  return _orig_ihook( name, *args, **kwds )\n"
     ]
    }
   ],
   "source": [
    "import statsmodels.api as sm # recommended import according to the docs\n",
    "\n",
    "u_times = 20+clusters.Time_cluster[np.logical_and(clusters.Test > 0.0, clusters.Side=='u')] - clusters.Time_event[np.logical_and(clusters.Test > 0.0, clusters.Side=='u')]\n",
    "v_times = 20+16+clusters.Time_cluster[np.logical_and(clusters.Test > 0.0, clusters.Side=='v')] - clusters.Time_event[np.logical_and(clusters.Test > 0.0, clusters.Side=='v')]\n",
    "\n",
    "ecdf_u = sm.distributions.ECDF(u_times)\n",
    "ecdf_v = sm.distributions.ECDF(v_times)\n",
    "\n",
    "t = np.linspace(min(u_times), max(u_times))\n",
    "u = ecdf_u(t)\n",
    "v = ecdf_v(t)\n",
    "plt.step(t, u-v)"
   ]
  },
  {
   "cell_type": "code",
   "execution_count": 15,
   "metadata": {
    "collapsed": false,
    "deletable": true,
    "editable": true
   },
   "outputs": [
    {
     "data": {
      "image/png": "[encoded data removed]",
      "text/plain": [
       "<matplotlib.figure.Figure at 0x7fd74013d7f0>"
      ]
     },
     "metadata": {},
     "output_type": "display_data"
    },
    {
     "data": {
      "image/png": "[encoded data removed]",
      "text/plain": [
       "<matplotlib.figure.Figure at 0x7fd739594ef0>"
      ]
     },
     "metadata": {},
     "output_type": "display_data"
    }
   ],
   "source": [
    "t_adjustment = { 'u': 20, 'v': 36 }\n",
    "event_data = clusters[clusters.EventNo == 3690]\n",
    "fig, ax = plt.subplots(1,2, sharex = True, sharey = True, figsize=(12,3))\n",
    "for side, i in zip(['u','v'], range(2)):\n",
    "    ax[i].hist(\n",
    "        t_adjustment[side] \n",
    "        + event_data.Time_cluster[np.logical_and(event_data.Test > 0.0, event_data.Side==side)] \n",
    "        - event_data.Time_event[np.logical_and(event_data.Test > 0.0, event_data.Side==side)],\n",
    "        bins = 50, histtype = 'step', cumulative = True, label = side\n",
    "    );\n",
    "    ax[i].legend()\n",
    "    ax[i].set_xlabel('t_fit - t_trigger [ns]')\n",
    "plt.savefig('EventFitMinusTrigger.png')\n",
    "fig, ax = plt.subplots(1,2, sharex = True, sharey = True, figsize=(12,3))\n",
    "for side, i in zip(['u','v'], range(2)):\n",
    "    ax[i].hist(\n",
    "        t_adjustment[side] \n",
    "        + event_data.Time_cluster[np.logical_and(event_data.Test > 0.0, event_data.Side==side)] \n",
    "        - event_data.Time_event[np.logical_and(event_data.Test > 0.0, event_data.Side==side)], \n",
    "        weights = event_data.Charge_cluster[np.logical_and(event_data.Test > 0.0, event_data.Side==side)], \n",
    "        bins = 50, histtype = 'step', cumulative = True, label = side\n",
    "    );\n",
    "    ax[i].legend()\n",
    "    ax[i].set_xlabel('t_fit - t_trigger [ns]')\n",
    "    ax[i].set_ylabel('Charge [e-]')\n",
    "plt.savefig('EventChargeFitMinusTrigger.png')"
   ]
  },
  {
   "cell_type": "code",
   "execution_count": 10,
   "metadata": {
    "collapsed": false,
    "deletable": true,
    "editable": true,
    "scrolled": true
   },
   "outputs": [
    {
     "data": {
      "image/png": "[encoded data removed]",
      "text/plain": [
       "<matplotlib.figure.Figure at 0x7fd741167978>"
      ]
     },
     "metadata": {},
     "output_type": "display_data"
    }
   ],
   "source": [
    "t_adjustment = { 'u': 20, 'v': 36 }\n",
    "fig, ax = plt.subplots(1,2, sharex = True, sharey = True, figsize=(12,3))\n",
    "for side, i in zip(['u','v'], range(2)):\n",
    "    ax[i].hist(\n",
    "        t_adjustment[side]\n",
    "        + clusters.Time_cluster[np.logical_and(clusters.Test > 0.0, clusters.Side==side)] \n",
    "        - clusters.Time_event[np.logical_and(clusters.Test > 0.0, clusters.Side==side)], \n",
    "        bins = 100, histtype = 'step', cumulative = False, label = side);\n",
    "    ax[i].legend()\n",
    "    ax[i].set_xlabel('t_fit - t_trigger [ns]')\n",
    "plt.savefig('FitMinusTriggerAdjusted.png')"
   ]
  },
  {
   "cell_type": "code",
   "execution_count": null,
   "metadata": {
    "collapsed": true,
    "deletable": true,
    "editable": true
   },
   "outputs": [],
   "source": []
  }
 ],
 "metadata": {
  "anaconda-cloud": {},
  "kernelspec": {
   "display_name": "Python 3 (Belle2)",
   "language": "python",
   "name": "python3"
  },
  "language_info": {
   "codemirror_mode": {
    "name": "ipython",
    "version": 3
   },
   "file_extension": ".py",
   "mimetype": "text/x-python",
   "name": "python",
   "nbconvert_exporter": "python",
   "pygments_lexer": "ipython3",
   "version": "3.6.2"
  }
 },
 "nbformat": 4,
 "nbformat_minor": 1
}
