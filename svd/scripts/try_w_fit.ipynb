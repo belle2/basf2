{
 "cells": [
  {
   "cell_type": "markdown",
   "metadata": {
    "deletable": true,
    "editable": true
   },
   "source": [
    "## Plot results of training of a SVDTime Neural Network\n",
    "\n",
    "This notebook displays the results of time fits for digit produced by the SVD digitizer.\n",
    "The digits are collected using the SVDFitDigitsModule, and its output is imported and shown here. "
   ]
  },
  {
   "cell_type": "markdown",
   "metadata": {
    "deletable": true,
    "editable": true
   },
   "source": [
    "##### Required Python packages\n",
    "\n",
    "The following python packages are used:\n",
    "- math (basic python math functions)\n",
    "- numpy (Vectors and matrices for numerics)\n",
    "- pandas (Python analogue of Excel tables)\n",
    "- matplotlib (Plotting library)\n",
    "- seaborn (Advanced plotting)\n",
    "- scipy (Scientific computing package)\n",
    "- scikit-learn (machine learning)\n",
    "\n",
    "If you get an error message complaining about a missing package, do\n",
    "\n",
    "pip3 install *_package name_*\n",
    "\n",
    "##### Other pre-requisites:\n",
    "\n",
    "A sample of training data, plus binning and bounds information in pickle (*.pkl) files."
   ]
  },
  {
   "cell_type": "code",
   "execution_count": 1,
   "metadata": {
    "collapsed": false,
    "deletable": true,
    "editable": true
   },
   "outputs": [
    {
     "data": {
      "application/javascript": [
       "\n",
       "require(['notebook'],\n",
       "  function() {\n",
       "    IPython.CodeCell.config_defaults.highlight_modes['magic_text/x-c++src'] = {'reg':[/^%%cpp/]};\n",
       "    console.log(\"JupyROOT - %%cpp magic configured\");\n",
       "  }\n",
       ");\n"
      ]
     },
     "metadata": {},
     "output_type": "display_data"
    },
    {
     "name": "stdout",
     "output_type": "stream",
     "text": [
      "Welcome to JupyROOT 6.08/06\n"
     ]
    }
   ],
   "source": [
    "import math\n",
    "import datetime\n",
    "import numpy as np\n",
    "import pandas as pd\n",
    "%matplotlib inline\n",
    "import matplotlib.pyplot as plt\n",
    "from matplotlib import pylab\n",
    "import seaborn as sns\n",
    "from scipy import stats as stats\n",
    "from scipy.optimize import minimize_scalar\n",
    "from svd.SVDSimBase import *"
   ]
  },
  {
   "cell_type": "markdown",
   "metadata": {
    "deletable": true,
    "editable": true
   },
   "source": [
    "### Retrieve dumped digit fits"
   ]
  },
  {
   "cell_type": "code",
   "execution_count": 2,
   "metadata": {
    "collapsed": false,
    "deletable": true,
    "editable": true
   },
   "outputs": [],
   "source": [
    "digit_fit_filename = '/media/sf_MateShare/kvasnicka/tb2017/output/dumped_tb_digits.txt'\n",
    "\n",
    "digits = pd.read_csv(digit_fit_filename, index_col = False, delim_whitespace = True)\n",
    "\n",
    "pkl_name = 'SVDTime_TrainingBins_1000000.pkl'\n",
    "bins = pd.read_pickle(pkl_name)\n",
    "\n",
    "timearray = bins['midpoint']\n",
    "timebins = np.unique(bins[['lower','upper']])"
   ]
  },
  {
   "cell_type": "code",
   "execution_count": 3,
   "metadata": {
    "collapsed": false,
    "deletable": true,
    "editable": true,
    "scrolled": true
   },
   "outputs": [
    {
     "data": {
      "text/html": [
       "<div>\n",
       "<style>\n",
       "    .dataframe thead tr:only-child th {\n",
       "        text-align: right;\n",
       "    }\n",
       "\n",
       "    .dataframe thead th {\n",
       "        text-align: left;\n",
       "    }\n",
       "\n",
       "    .dataframe tbody tr th {\n",
       "        vertical-align: top;\n",
       "    }\n",
       "</style>\n",
       "<table border=\"1\" class=\"dataframe\">\n",
       "  <thead>\n",
       "    <tr style=\"text-align: right;\">\n",
       "      <th></th>\n",
       "      <th>EventNo</th>\n",
       "      <th>Layer</th>\n",
       "      <th>Ladder</th>\n",
       "      <th>Sensor</th>\n",
       "      <th>Side</th>\n",
       "      <th>StripNo</th>\n",
       "      <th>TimeTrigger</th>\n",
       "      <th>GoodStrip</th>\n",
       "      <th>Gain</th>\n",
       "      <th>Noise</th>\n",
       "      <th>...</th>\n",
       "      <th>TimeShift</th>\n",
       "      <th>Sample0</th>\n",
       "      <th>Sample1</th>\n",
       "      <th>Sample2</th>\n",
       "      <th>Sample3</th>\n",
       "      <th>Sample4</th>\n",
       "      <th>Sample5</th>\n",
       "      <th>Charge</th>\n",
       "      <th>TimeFit</th>\n",
       "      <th>Chi2</th>\n",
       "    </tr>\n",
       "  </thead>\n",
       "  <tbody>\n",
       "    <tr>\n",
       "      <th>0</th>\n",
       "      <td>14</td>\n",
       "      <td>3</td>\n",
       "      <td>1</td>\n",
       "      <td>2</td>\n",
       "      <td>u</td>\n",
       "      <td>287</td>\n",
       "      <td>-11.79</td>\n",
       "      <td>y</td>\n",
       "      <td>328.413</td>\n",
       "      <td>1051.319</td>\n",
       "      <td>...</td>\n",
       "      <td>96.414</td>\n",
       "      <td>3.0</td>\n",
       "      <td>16.0</td>\n",
       "      <td>40.0</td>\n",
       "      <td>42.0</td>\n",
       "      <td>36.0</td>\n",
       "      <td>27.0</td>\n",
       "      <td>16246.468</td>\n",
       "      <td>-24.204</td>\n",
       "      <td>1.538</td>\n",
       "    </tr>\n",
       "    <tr>\n",
       "      <th>1</th>\n",
       "      <td>14</td>\n",
       "      <td>3</td>\n",
       "      <td>1</td>\n",
       "      <td>2</td>\n",
       "      <td>u</td>\n",
       "      <td>288</td>\n",
       "      <td>-11.79</td>\n",
       "      <td>y</td>\n",
       "      <td>328.020</td>\n",
       "      <td>1066.836</td>\n",
       "      <td>...</td>\n",
       "      <td>92.989</td>\n",
       "      <td>0.0</td>\n",
       "      <td>13.0</td>\n",
       "      <td>33.0</td>\n",
       "      <td>34.0</td>\n",
       "      <td>23.0</td>\n",
       "      <td>16.0</td>\n",
       "      <td>12151.880</td>\n",
       "      <td>-26.941</td>\n",
       "      <td>1.382</td>\n",
       "    </tr>\n",
       "    <tr>\n",
       "      <th>2</th>\n",
       "      <td>14</td>\n",
       "      <td>3</td>\n",
       "      <td>1</td>\n",
       "      <td>2</td>\n",
       "      <td>u</td>\n",
       "      <td>375</td>\n",
       "      <td>-11.79</td>\n",
       "      <td>y</td>\n",
       "      <td>308.901</td>\n",
       "      <td>1132.497</td>\n",
       "      <td>...</td>\n",
       "      <td>92.205</td>\n",
       "      <td>1.0</td>\n",
       "      <td>42.0</td>\n",
       "      <td>109.0</td>\n",
       "      <td>109.0</td>\n",
       "      <td>86.0</td>\n",
       "      <td>63.0</td>\n",
       "      <td>41406.969</td>\n",
       "      <td>-26.044</td>\n",
       "      <td>4.008</td>\n",
       "    </tr>\n",
       "    <tr>\n",
       "      <th>3</th>\n",
       "      <td>14</td>\n",
       "      <td>3</td>\n",
       "      <td>1</td>\n",
       "      <td>2</td>\n",
       "      <td>u</td>\n",
       "      <td>397</td>\n",
       "      <td>-11.79</td>\n",
       "      <td>y</td>\n",
       "      <td>317.472</td>\n",
       "      <td>964.853</td>\n",
       "      <td>...</td>\n",
       "      <td>93.986</td>\n",
       "      <td>0.0</td>\n",
       "      <td>15.0</td>\n",
       "      <td>40.0</td>\n",
       "      <td>41.0</td>\n",
       "      <td>28.0</td>\n",
       "      <td>25.0</td>\n",
       "      <td>15118.291</td>\n",
       "      <td>-25.229</td>\n",
       "      <td>1.578</td>\n",
       "    </tr>\n",
       "    <tr>\n",
       "      <th>4</th>\n",
       "      <td>14</td>\n",
       "      <td>3</td>\n",
       "      <td>1</td>\n",
       "      <td>2</td>\n",
       "      <td>u</td>\n",
       "      <td>439</td>\n",
       "      <td>-11.79</td>\n",
       "      <td>y</td>\n",
       "      <td>317.114</td>\n",
       "      <td>1038.880</td>\n",
       "      <td>...</td>\n",
       "      <td>94.985</td>\n",
       "      <td>6.0</td>\n",
       "      <td>14.0</td>\n",
       "      <td>33.0</td>\n",
       "      <td>34.0</td>\n",
       "      <td>30.0</td>\n",
       "      <td>20.0</td>\n",
       "      <td>13214.970</td>\n",
       "      <td>-25.026</td>\n",
       "      <td>1.198</td>\n",
       "    </tr>\n",
       "  </tbody>\n",
       "</table>\n",
       "<p>5 rows × 21 columns</p>\n",
       "</div>"
      ],
      "text/plain": [
       "   EventNo  Layer  Ladder  Sensor Side  StripNo  TimeTrigger GoodStrip  \\\n",
       "0       14      3       1       2    u      287       -11.79         y   \n",
       "1       14      3       1       2    u      288       -11.79         y   \n",
       "2       14      3       1       2    u      375       -11.79         y   \n",
       "3       14      3       1       2    u      397       -11.79         y   \n",
       "4       14      3       1       2    u      439       -11.79         y   \n",
       "\n",
       "      Gain     Noise  ...    TimeShift  Sample0  Sample1  Sample2  Sample3  \\\n",
       "0  328.413  1051.319  ...       96.414      3.0     16.0     40.0     42.0   \n",
       "1  328.020  1066.836  ...       92.989      0.0     13.0     33.0     34.0   \n",
       "2  308.901  1132.497  ...       92.205      1.0     42.0    109.0    109.0   \n",
       "3  317.472   964.853  ...       93.986      0.0     15.0     40.0     41.0   \n",
       "4  317.114  1038.880  ...       94.985      6.0     14.0     33.0     34.0   \n",
       "\n",
       "   Sample4  Sample5     Charge  TimeFit   Chi2  \n",
       "0     36.0     27.0  16246.468  -24.204  1.538  \n",
       "1     23.0     16.0  12151.880  -26.941  1.382  \n",
       "2     86.0     63.0  41406.969  -26.044  4.008  \n",
       "3     28.0     25.0  15118.291  -25.229  1.578  \n",
       "4     30.0     20.0  13214.970  -25.026  1.198  \n",
       "\n",
       "[5 rows x 21 columns]"
      ]
     },
     "execution_count": 3,
     "metadata": {},
     "output_type": "execute_result"
    }
   ],
   "source": [
    "digits.head()"
   ]
  },
  {
   "cell_type": "markdown",
   "metadata": {
    "deletable": true,
    "editable": true
   },
   "source": [
    "We add a random column for sampling. We set the value to negative for rows we want to exclude from sampling. First thhing we exclude bad strips from consideration."
   ]
  },
  {
   "cell_type": "code",
   "execution_count": 4,
   "metadata": {
    "collapsed": false,
    "deletable": true,
    "editable": true
   },
   "outputs": [
    {
     "data": {
      "text/plain": [
       "Index(['EventNo', 'Layer', 'Ladder', 'Sensor', 'Side', 'StripNo',\n",
       "       'TimeTrigger', 'GoodStrip', 'Gain', 'Noise', 'Width', 'TimeShift',\n",
       "       'Sample0', 'Sample1', 'Sample2', 'Sample3', 'Sample4', 'Sample5',\n",
       "       'Charge', 'TimeFit', 'Chi2', 'Test'],\n",
       "      dtype='object')"
      ]
     },
     "execution_count": 4,
     "metadata": {},
     "output_type": "execute_result"
    },
    {
     "data": {
      "image/png": "[encoded data removed]",
      "text/plain": [
       "<matplotlib.figure.Figure at 0x7fcd2b07a5f8>"
      ]
     },
     "metadata": {},
     "output_type": "display_data"
    }
   ],
   "source": [
    "digits['Test'] = np.random.uniform(0.0,1.0,len(digits))\n",
    "digits['Test'] = digits.apply(lambda row: row.Test if row.GoodStrip == 'y' else -1, axis = 1)\n",
    "plt.hist(digits.Test, bins = 100);\n",
    "digits.columns"
   ]
  },
  {
   "cell_type": "code",
   "execution_count": 5,
   "metadata": {
    "collapsed": false,
    "deletable": true,
    "editable": true
   },
   "outputs": [
    {
     "data": {
      "image/png": "[encoded data removed]",
      "text/plain": [
       "<matplotlib.figure.Figure at 0x7fcd2af80e48>"
      ]
     },
     "metadata": {},
     "output_type": "display_data"
    }
   ],
   "source": [
    "gain_low = 250\n",
    "gain_high = 500\n",
    "digits.Test = digits.apply(lambda row: row.Test if (row.Gain > gain_low and row.Gain < gain_high) else -1.0, axis = 1)\n",
    "fig, ax = plt.subplots(1,2, sharex = True, sharey = True, figsize=(8,3))\n",
    "for side, i in zip(['u','v'], range(2)):\n",
    "    (freqs, fullbins, patches) = ax[i].hist(digits.Gain[digits.Side==side], histtype = 'step', bins = 100, label = side + ' full');\n",
    "    ax[i].hist(digits.Gain[np.logical_and(digits.Side==side, digits.Test>0.0)], histtype = 'stepfilled', bins = fullbins, label = side + ' selected');\n",
    "    ax[i].legend()\n",
    "    ax[i].set_xlabel('Strip gain [e-]')\n",
    "plt.savefig('Gain_selection.png')"
   ]
  },
  {
   "cell_type": "code",
   "execution_count": 6,
   "metadata": {
    "collapsed": false,
    "deletable": true,
    "editable": true,
    "scrolled": false
   },
   "outputs": [
    {
     "data": {
      "image/png": "[encoded data removed]",
      "text/plain": [
       "<matplotlib.figure.Figure at 0x7fcd2a4d5080>"
      ]
     },
     "metadata": {},
     "output_type": "display_data"
    }
   ],
   "source": [
    "amplitude_low = 10000\n",
    "amplitude_high = 50000\n",
    "digits.Test = digits.apply(lambda row: row.Test if (row.Charge > amplitude_low and row.Charge < amplitude_high) else -1.0, axis = 1)\n",
    "fig, ax = plt.subplots(1,2, sharex = True, sharey = True, figsize=(8,3))\n",
    "for side, i in zip(['u','v'], range(2)):\n",
    "    (freqs, fullbins, patches) = ax[i].hist(digits.Charge[digits.Side==side], histtype = 'step', bins = 100, label = side + ' full');\n",
    "    ax[i].hist(digits.Charge[np.logical_and(digits.Side==side, digits.Test>0.0)], histtype = 'stepfilled', bins = fullbins, label = side + ' selected');\n",
    "    ax[i].legend()\n",
    "    ax[i].set_xlabel('Digit charge [e-]')\n",
    "plt.savefig('Amplitude_selection.png')"
   ]
  },
  {
   "cell_type": "markdown",
   "metadata": {
    "deletable": true,
    "editable": true
   },
   "source": [
    "Now we also exclude data with extremely bad fits."
   ]
  },
  {
   "cell_type": "code",
   "execution_count": 7,
   "metadata": {
    "collapsed": false,
    "deletable": true,
    "editable": true
   },
   "outputs": [
    {
     "data": {
      "image/png": "[encoded data removed]",
      "text/plain": [
       "<matplotlib.figure.Figure at 0x7fcd2a35b240>"
      ]
     },
     "metadata": {},
     "output_type": "display_data"
    }
   ],
   "source": [
    "fig, ax = plt.subplots(1,2, sharex = True, sharey = True, figsize=(8,3))\n",
    "for side, i in zip(['u','v'], range(2)):\n",
    "    (freqs, fullbins, patches) = ax[i].hist(digits.Chi2[np.logical_and(digits.Side==side, digits.Test > 0.0)], histtype = 'step', bins = 100, label = side + ' full');\n",
    "    max_chi2 = np.percentile(digits.Chi2[np.logical_and(digits.Side==side, digits.Test>0.0)], [99])[0]\n",
    "    digits.Test = digits.apply(lambda row: row.Test if row.Side != side or row.Chi2 < max_chi2 else -1.0, axis = 1)\n",
    "    ax[i].hist(digits.Chi2[np.logical_and(digits.Side==side, digits.Test>0.0)], histtype = 'stepfilled', bins = fullbins, label = side + ' selected');\n",
    "    ax[i].legend()\n",
    "    ax[i].set_xlabel('Digit fit Chi2')\n",
    "plt.savefig('Chi2_selection.png')"
   ]
  },
  {
   "cell_type": "markdown",
   "metadata": {
    "deletable": true,
    "editable": true
   },
   "source": [
    "Load the classifier"
   ]
  },
  {
   "cell_type": "code",
   "execution_count": 8,
   "metadata": {
    "collapsed": false,
    "deletable": true,
    "editable": true
   },
   "outputs": [],
   "source": [
    "import pickle\n",
    "with open('classifier.pkl', 'rb') as f:\n",
    "    classifier = pickle.load(f)\n",
    "    \n",
    "# the sample size of the network we want to use\n",
    "n_samples = 1000000\n",
    "pkl_name = 'SVDTime_Training{0}_{1}.pkl'\n",
    "\n",
    "bounds = pd.read_pickle(pkl_name.format('Bounds', n_samples))\n",
    "\n",
    "amp_range = (\n",
    "    bounds.loc[bounds.value == 'amplitude','low'].values[0],\n",
    "    bounds.loc[bounds.value == 'amplitude','high'].values[0]\n",
    ")\n",
    "tau_range =(\n",
    "    bounds.loc[bounds.value == 'tau','low'].values[0],\n",
    "    bounds.loc[bounds.value == 'tau','high'].values[0]\n",
    ")\n",
    "coder = tau_encoder(amp_range, tau_range)\n"
   ]
  },
  {
   "cell_type": "markdown",
   "metadata": {
    "deletable": true,
    "editable": true
   },
   "source": [
    "Function to calculate amplitude, time and chi2 from samples and pdf"
   ]
  },
  {
   "cell_type": "code",
   "execution_count": 9,
   "metadata": {
    "collapsed": true,
    "deletable": true,
    "editable": true
   },
   "outputs": [],
   "source": [
    "def fitFromProb(fw, signals, p, tau, timearray):\n",
    "    t_fit = np.average(timearray, weights = p)\n",
    "    t_sigma = np.sqrt(np.average((timearray - t_fit)**2, weights = p))\n",
    "    weights = fw(-t_fit + np.linspace(-dt, 4*dt, 6, endpoint = True), tau = tau)\n",
    "    weights[signals == 0.0] = 0.0\n",
    "    norm = 1.0 / np.inner(weights, weights)\n",
    "    a_fit = np.inner(signals, weights) * norm\n",
    "    a_sigma = np.sqrt(norm)\n",
    "    residuals = signals - a_fit * weights\n",
    "    ndf = np.sum(np.ones_like(signals[signals>0])) - 2 # Can't be less than 1\n",
    "    chi2_ndf = np.inner(residuals, residuals)/ndf\n",
    "    return pd.Series({\n",
    "        't_fit':t_fit, \n",
    "        't_sigma':t_sigma, \n",
    "        'a_fit':a_fit, \n",
    "        'a_sigma':a_sigma,\n",
    "        'chi2_ndf':chi2_ndf\n",
    "            })"
   ]
  },
  {
   "cell_type": "markdown",
   "metadata": {
    "deletable": true,
    "editable": true
   },
   "source": [
    "### Try to optimize widths using fit chi2.\n",
    "\n",
    "Find addition to width that minimizes the mean fit chi2."
   ]
  },
  {
   "cell_type": "code",
   "execution_count": null,
   "metadata": {
    "collapsed": false,
    "deletable": true,
    "editable": true,
    "scrolled": true
   },
   "outputs": [],
   "source": [
    "dtau_range = (0,50)\n",
    "sample_size = 1000\n",
    "\n",
    "def row_chi2(row, dtau = 0.0):\n",
    "    x = np.zeros(7)\n",
    "    x[0:6] = row[['Sample{0}'.format(i) for i in range(6)]]\n",
    "    noise_adu = row.Noise/row.Gain if row.Gain > 0 else 1.0\n",
    "    x[0:6] = x[0:6]/noise_adu\n",
    "    tau = row.Width + dtau\n",
    "    x[6] = coder.encode(tau)\n",
    "    p = classifier.predict_proba(x.reshape(1,-1))\n",
    "    fit_result = fitFromProb(betaprime_wave, x[0:6], p[0], tau, timearray)\n",
    "    #print('Row_chi2: dtau = {0:.3f}, tau = {1:.3f}, chi2 = {2:.3f}'.format(dtau, tau, fit_result['chi2_ndf']))\n",
    "    return fit_result['chi2_ndf']\n",
    "\n",
    "def mean_chi2(outside_dtau, data = digits):\n",
    "    chis = data.apply(row_chi2, dtau = outside_dtau, axis =1)\n",
    "    mean_chi = np.mean(chis)\n",
    "    print('Current dtau: {0:.3f}, mean chi2: {1:.3f}'.format(outside_dtau, mean_chi))\n",
    "    return(mean_chi)\n",
    "\n",
    "# Things for plotting\n",
    "dw_values = np.linspace(0.0,30.0,20, endpoint = True) \n",
    "chi2_train_values = np.zeros([2,len(dw_values)])\n",
    "chi2_test_values = np.zeros([2,len(dw_values)])\n",
    "\n",
    "for side in ['u', 'v']:\n",
    "    sample_train = digits[np.logical_and(digits.Side == side, digits.Test > 0.0)].sample(n=sample_size)\n",
    "    sample_test = digits[np.logical_and(digits.Side == side, digits.Test > 0.0)].sample(n=sample_size)\n",
    "    chi2_init_train = mean_chi2(0.0, data = sample_train)\n",
    "    chi2_init_test = mean_chi2(0.0, data = sample_test)\n",
    "    chi2_data_train = np.mean(sample_train.Chi2)\n",
    "    chi2_data_test = np.mean(sample_test.Chi2)\n",
    "    print('Side: {0}\\nTrain chi2: data {1:.3f}, refit {2:.3f}\\nTest chi2: data {3:.3f} refit {4:.3f}'.format(side, chi2_data_train, chi2_init_train, chi2_data_test, chi2_init_test))\n",
    "    res = minimize_scalar(mean_chi2, method = 'bounded', bounds = dtau_range, args = sample_train, tol = 1.0e-4)\n",
    "    chi2_final_train = mean_chi2(res.x, data = sample_train)\n",
    "    chi2_final_test = mean_chi2(res.x, data = sample_test)\n",
    "    print('Side: {0}\\nTrain chi2: initial {1:.3f}, final {2:.3f}\\nTest chi2 : initial {3:.3f}, final {4:.3f}\\nShift: {5:.3f}'.format(side, chi2_init_train, chi2_final_train, chi2_init_test, chi2_final_test, res.x))\n",
    "    for i, dw in zip(range(len(dw_values)), dw_values):\n",
    "        irow = 0 if side == 'u' else 1\n",
    "        chi2_train_values[irow, i] = mean_chi2(dw, data = sample_train)\n",
    "        chi2_test_values[irow, i] = mean_chi2(dw, data = sample_test)"
   ]
  },
  {
   "cell_type": "code",
   "execution_count": null,
   "metadata": {
    "collapsed": false,
    "deletable": true,
    "editable": true
   },
   "outputs": [],
   "source": [
    "fig, ax = plt.subplots(1,2, sharex = True, sharey = False, figsize=(8,3))\n",
    "for side, i in zip(['u','v'], range(2)):\n",
    "    ax[i].plot(dw_values, chi2_train_values[i,:], label = side + ' train');\n",
    "    ax[i].plot(dw_values, chi2_test_values[i,:], label = side + ' test');\n",
    "    ax[i].legend()\n",
    "    ax[i].set_xlabel('Width increment [ns]')\n",
    "    ax[i].set_ylabel('chi2 of fit [ns]')\n",
    "plt.savefig('Chi2_vs_dw.png')"
   ]
  },
  {
   "cell_type": "markdown",
   "metadata": {
    "deletable": true,
    "editable": true
   },
   "source": [
    "###  Match distribution of times\n",
    "\n",
    "Another idea is to start matching time distributions. \n",
    "Next, match the distribution to the interval -31.44 to 0\n",
    "Next, estimate event time.\n",
    "And last, adjust widths by adjusting time distribution."
   ]
  },
  {
   "cell_type": "code",
   "execution_count": 16,
   "metadata": {
    "collapsed": false,
    "deletable": true,
    "editable": true,
    "scrolled": false
   },
   "outputs": [
    {
     "name": "stdout",
     "output_type": "stream",
     "text": [
      "Current dtau: 0.000, mean mad t: 6.718\n",
      "Current dtau: 0.000, mean mad t: 6.777\n",
      "Side: u\n",
      "Train std(t) refit 6.718\n",
      "Test std(t) refit 6.777\n",
      "Current dtau: 19.098, mean mad t: 6.764\n",
      "Current dtau: 30.902, mean mad t: 6.831\n",
      "Current dtau: 11.803, mean mad t: 6.738\n",
      "Current dtau: 7.295, mean mad t: 6.727\n",
      "Current dtau: 4.508, mean mad t: 6.723\n",
      "Current dtau: 2.786, mean mad t: 6.721\n",
      "Current dtau: 1.722, mean mad t: 6.720\n",
      "Current dtau: 1.064, mean mad t: 6.719\n",
      "Current dtau: 0.658, mean mad t: 6.719\n",
      "Current dtau: 0.407, mean mad t: 6.718\n",
      "Current dtau: 0.251, mean mad t: 6.718\n",
      "Current dtau: 0.155, mean mad t: 6.718\n",
      "Current dtau: 0.096, mean mad t: 6.718\n",
      "Current dtau: 0.059, mean mad t: 6.718\n",
      "Current dtau: 0.037, mean mad t: 6.718\n",
      "Current dtau: 0.023, mean mad t: 6.718\n",
      "Current dtau: 0.014, mean mad t: 6.718\n",
      "Current dtau: 0.009, mean mad t: 6.718\n",
      "Current dtau: 0.005, mean mad t: 6.718\n",
      "Current dtau: 0.005, mean mad t: 6.718\n",
      "Current dtau: 0.005, mean mad t: 6.777\n",
      "Side: u\n",
      "Train std(t): initial 6.718, final 6.718\n",
      "Test std(t): initial 6.777, final 6.777\n",
      "Shift: 0.005\n",
      "Current dtau: 0.000, mean mad t: 6.718\n",
      "Current dtau: 0.000, mean mad t: 6.777\n",
      "Current dtau: 1.579, mean mad t: 6.719\n",
      "Current dtau: 1.579, mean mad t: 6.779\n",
      "Current dtau: 3.158, mean mad t: 6.721\n",
      "Current dtau: 3.158, mean mad t: 6.782\n",
      "Current dtau: 4.737, mean mad t: 6.723\n",
      "Current dtau: 4.737, mean mad t: 6.784\n",
      "Current dtau: 6.316, mean mad t: 6.726\n",
      "Current dtau: 6.316, mean mad t: 6.787\n",
      "Current dtau: 7.895, mean mad t: 6.728\n",
      "Current dtau: 7.895, mean mad t: 6.790\n",
      "Current dtau: 9.474, mean mad t: 6.731\n",
      "Current dtau: 9.474, mean mad t: 6.793\n",
      "Current dtau: 11.053, mean mad t: 6.735\n",
      "Current dtau: 11.053, mean mad t: 6.797\n",
      "Current dtau: 12.632, mean mad t: 6.741\n",
      "Current dtau: 12.632, mean mad t: 6.802\n",
      "Current dtau: 14.211, mean mad t: 6.747\n",
      "Current dtau: 14.211, mean mad t: 6.806\n",
      "Current dtau: 15.789, mean mad t: 6.752\n",
      "Current dtau: 15.789, mean mad t: 6.812\n",
      "Current dtau: 17.368, mean mad t: 6.758\n",
      "Current dtau: 17.368, mean mad t: 6.816\n",
      "Current dtau: 18.947, mean mad t: 6.764\n",
      "Current dtau: 18.947, mean mad t: 6.822\n",
      "Current dtau: 20.526, mean mad t: 6.771\n",
      "Current dtau: 20.526, mean mad t: 6.828\n",
      "Current dtau: 22.105, mean mad t: 6.779\n",
      "Current dtau: 22.105, mean mad t: 6.835\n",
      "Current dtau: 23.684, mean mad t: 6.787\n",
      "Current dtau: 23.684, mean mad t: 6.841\n",
      "Current dtau: 25.263, mean mad t: 6.796\n",
      "Current dtau: 25.263, mean mad t: 6.848\n",
      "Current dtau: 26.842, mean mad t: 6.804\n",
      "Current dtau: 26.842, mean mad t: 6.856\n",
      "Current dtau: 28.421, mean mad t: 6.814\n",
      "Current dtau: 28.421, mean mad t: 6.865\n",
      "Current dtau: 30.000, mean mad t: 6.825\n",
      "Current dtau: 30.000, mean mad t: 6.877\n",
      "Current dtau: 0.000, mean mad t: 3.058\n",
      "Current dtau: 0.000, mean mad t: 3.015\n",
      "Side: v\n",
      "Train std(t) refit 3.058\n",
      "Test std(t) refit 3.015\n",
      "Current dtau: 19.098, mean mad t: 3.073\n",
      "Current dtau: 30.902, mean mad t: 3.031\n",
      "Current dtau: 38.197, mean mad t: 3.011\n",
      "Current dtau: 42.705, mean mad t: 3.008\n",
      "Current dtau: 42.444, mean mad t: 3.009\n",
      "Current dtau: 45.492, mean mad t: 3.007\n",
      "Current dtau: 47.214, mean mad t: 3.006\n",
      "Current dtau: 48.278, mean mad t: 3.005\n",
      "Current dtau: 48.936, mean mad t: 3.004\n",
      "Current dtau: 49.342, mean mad t: 3.003\n",
      "Current dtau: 49.593, mean mad t: 3.003\n",
      "Current dtau: 49.749, mean mad t: 3.003\n",
      "Current dtau: 49.845, mean mad t: 3.002\n",
      "Current dtau: 49.904, mean mad t: 3.002\n",
      "Current dtau: 49.941, mean mad t: 3.002\n",
      "Current dtau: 49.963, mean mad t: 3.002\n",
      "Current dtau: 49.977, mean mad t: 3.002\n",
      "Current dtau: 49.986, mean mad t: 3.002\n",
      "Current dtau: 49.991, mean mad t: 3.002\n",
      "Current dtau: 49.995, mean mad t: 3.002\n",
      "Current dtau: 49.995, mean mad t: 3.002\n",
      "Current dtau: 49.995, mean mad t: 2.961\n",
      "Side: v\n",
      "Train std(t): initial 3.058, final 3.002\n",
      "Test std(t): initial 3.015, final 2.961\n",
      "Shift: 49.995\n",
      "Current dtau: 0.000, mean mad t: 3.058\n",
      "Current dtau: 0.000, mean mad t: 3.015\n",
      "Current dtau: 1.579, mean mad t: 3.061\n",
      "Current dtau: 1.579, mean mad t: 3.015\n",
      "Current dtau: 3.158, mean mad t: 3.066\n",
      "Current dtau: 3.158, mean mad t: 3.015\n",
      "Current dtau: 4.737, mean mad t: 3.070\n",
      "Current dtau: 4.737, mean mad t: 3.013\n",
      "Current dtau: 6.316, mean mad t: 3.075\n",
      "Current dtau: 6.316, mean mad t: 3.006\n",
      "Current dtau: 7.895, mean mad t: 3.078\n",
      "Current dtau: 7.895, mean mad t: 2.993\n",
      "Current dtau: 9.474, mean mad t: 3.080\n",
      "Current dtau: 9.474, mean mad t: 2.985\n",
      "Current dtau: 11.053, mean mad t: 3.080\n",
      "Current dtau: 11.053, mean mad t: 2.981\n",
      "Current dtau: 12.632, mean mad t: 3.081\n",
      "Current dtau: 12.632, mean mad t: 2.979\n",
      "Current dtau: 14.211, mean mad t: 3.081\n",
      "Current dtau: 14.211, mean mad t: 2.978\n",
      "Current dtau: 15.789, mean mad t: 3.081\n",
      "Current dtau: 15.789, mean mad t: 2.978\n",
      "Current dtau: 17.368, mean mad t: 3.078\n",
      "Current dtau: 17.368, mean mad t: 2.979\n",
      "Current dtau: 18.947, mean mad t: 3.073\n",
      "Current dtau: 18.947, mean mad t: 2.978\n",
      "Current dtau: 20.526, mean mad t: 3.068\n",
      "Current dtau: 20.526, mean mad t: 2.973\n",
      "Current dtau: 22.105, mean mad t: 3.061\n",
      "Current dtau: 22.105, mean mad t: 2.967\n",
      "Current dtau: 23.684, mean mad t: 3.056\n",
      "Current dtau: 23.684, mean mad t: 2.966\n",
      "Current dtau: 25.263, mean mad t: 3.051\n",
      "Current dtau: 25.263, mean mad t: 2.965\n",
      "Current dtau: 26.842, mean mad t: 3.045\n",
      "Current dtau: 26.842, mean mad t: 2.965\n",
      "Current dtau: 28.421, mean mad t: 3.039\n",
      "Current dtau: 28.421, mean mad t: 2.965\n",
      "Current dtau: 30.000, mean mad t: 3.034\n",
      "Current dtau: 30.000, mean mad t: 2.965\n"
     ]
    },
    {
     "name": "stderr",
     "output_type": "stream",
     "text": [
      "/home/kvasnicka/work/belle2_new/externals/v01-05-01/Linux_x86_64/common/lib/python3.6/site-packages/ipykernel/__main__.py:40: UserWarning: Boolean Series key will be reindexed to match DataFrame index.\n",
      "/home/kvasnicka/work/belle2_new/externals/v01-05-01/Linux_x86_64/common/lib/python3.6/site-packages/ipykernel/__main__.py:41: UserWarning: Boolean Series key will be reindexed to match DataFrame index.\n"
     ]
    }
   ],
   "source": [
    "dtau_range = (0,50)\n",
    "sample_size = 1000\n",
    "\n",
    "def row_t(row, dtau = 0.0):\n",
    "    x = np.zeros(7)\n",
    "    x[0:6] = row[['Sample{0}'.format(i) for i in range(6)]]\n",
    "    noise_adu = row.Noise/row.Gain if row.Gain > 0 else 1.0\n",
    "    x[0:6] = x[0:6]/noise_adu\n",
    "    tau = row.Width + dtau\n",
    "    x[6] = coder.encode(tau)\n",
    "    p = classifier.predict_proba(x.reshape(1,-1))\n",
    "    fit_result = fitFromProb(betaprime_wave, x[0:6], p[0], tau, timearray)\n",
    "    return fit_result['t_fit']\n",
    "\n",
    "def std_t(group, dtau = 0.0):\n",
    "    ts = group.apply(row_t, dtau = dtau, axis =1)\n",
    "    mad_ts = np.std(ts)\n",
    "    return(mad_ts)\n",
    "\n",
    "def mean_std_t(outside_tau, data = digits):\n",
    "    madts = data.apply(std_t, dtau = outside_tau)\n",
    "    mean_madt = np.mean(madts)\n",
    "    print('Current dtau: {0:.3f}, mean mad t: {1:.3f}'.format(outside_tau, mean_madt))\n",
    "    return(mean_madt)\n",
    "\n",
    "# The procedure is:\n",
    "# 1. Group by EventNo\n",
    "# 2. Sample\n",
    "# 3. For each group:\n",
    "# 4. Re-fit with new width\n",
    "# 5. Calculate mean spread of times\n",
    "# 6. Calculate mean spread of times for whole sample. \n",
    "\n",
    "# Things for plotting\n",
    "dw_values = np.linspace(0.0,30.0,20, endpoint = True) \n",
    "dt_train_values = np.zeros([2,len(dw_values)])\n",
    "dt_test_values = np.zeros([2,len(dw_values)])\n",
    "\n",
    "for side in ['u', 'v']:\n",
    "    sample_train = digits[digits.EventNo < sample_size][np.logical_and(digits.Side == side, digits.Test > 0.0)].groupby(digits.EventNo)\n",
    "    sample_test = digits[np.logical_and(digits.EventNo > sample_size, digits.EventNo < 2*sample_size)][np.logical_and(digits.Side == side, digits.Test > 0.0)].groupby(digits.EventNo)\n",
    "    stdt_init_train = mean_std_t(0.0, data = sample_train)\n",
    "    stdt_init_test = mean_std_t(0.0, data = sample_test)\n",
    "    print('Side: {0}\\nTrain std(t) refit {1:.3f}\\nTest std(t) refit {2:.3f}'.format(side, stdt_init_train, stdt_init_test))\n",
    "    res = minimize_scalar(mean_std_t, method = 'bounded', bounds = dtau_range, args = sample_train, options = {'xatol': 1.0e-2})\n",
    "    stdt_final_train = mean_std_t(res.x, data = sample_train)\n",
    "    stdt_final_test = mean_std_t(res.x, data = sample_test)\n",
    "    print('Side: {0}\\nTrain std(t): initial {1:.3f}, final {2:.3f}\\nTest std(t): initial {3:.3f}, final {4:.3f}\\nShift: {5:.3f}'.format(side, stdt_init_train, stdt_final_train, stdt_init_test, stdt_final_test, res.x))\n",
    "    for i, dw in zip(range(len(dw_values)), dw_values):\n",
    "        irow = 0 if side == 'u' else 1\n",
    "        dt_train_values[irow, i] = mean_std_t(dw, data = sample_train)\n",
    "        dt_test_values[irow, i] = mean_std_t(dw, data = sample_test)"
   ]
  },
  {
   "cell_type": "code",
   "execution_count": 17,
   "metadata": {
    "collapsed": false,
    "deletable": true,
    "editable": true
   },
   "outputs": [
    {
     "data": {
      "image/png": "[encoded data removed]",
      "text/plain": [
       "<matplotlib.figure.Figure at 0x7fcd1080f3c8>"
      ]
     },
     "metadata": {},
     "output_type": "display_data"
    }
   ],
   "source": [
    "fig, ax = plt.subplots(1,2, sharex = True, sharey = False, figsize=(8,3))\n",
    "for side, i in zip(['u','v'], range(2)):\n",
    "    ax[i].plot(dw_values, dt_train_values[i,:], label = side + ' train');\n",
    "    ax[i].plot(dw_values, dt_test_values[i,:], label = side + ' test');\n",
    "    ax[i].legend()\n",
    "    ax[i].set_xlabel('Width increment [ns]')\n",
    "    ax[i].set_ylabel('MAD of fitted t [ns]')\n",
    "plt.savefig('MADt_vs_dw.png')"
   ]
  },
  {
   "cell_type": "code",
   "execution_count": null,
   "metadata": {
    "collapsed": true
   },
   "outputs": [],
   "source": []
  }
 ],
 "metadata": {
  "anaconda-cloud": {},
  "kernelspec": {
   "display_name": "Python 3 (Belle2)",
   "language": "python",
   "name": "python3"
  },
  "language_info": {
   "codemirror_mode": {
    "name": "ipython",
    "version": 3
   },
   "file_extension": ".py",
   "mimetype": "text/x-python",
   "name": "python",
   "nbconvert_exporter": "python",
   "pygments_lexer": "ipython3",
   "version": "3.6.2"
  }
 },
 "nbformat": 4,
 "nbformat_minor": 1
}
