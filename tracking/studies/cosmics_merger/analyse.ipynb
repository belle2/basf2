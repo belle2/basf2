{
 "cells": [
  {
   "cell_type": "code",
   "execution_count": null,
   "metadata": {
    "collapsed": false
   },
   "outputs": [],
   "source": [
    "from ipython_tools import handler\n",
    "handler.style()"
   ]
  },
  {
   "cell_type": "markdown",
   "metadata": {},
   "source": [
    "# Simulate cosmic events"
   ]
  },
  {
   "cell_type": "code",
   "execution_count": null,
   "metadata": {
    "collapsed": false
   },
   "outputs": [],
   "source": [
    "import basf2\n",
    "from cdc.cr import add_cdc_cr_simulation, set_cdc_cr_parameters\n",
    "\n",
    "set_cdc_cr_parameters(\"normal\")\n",
    "\n",
    "path = basf2.create_path()\n",
    "\n",
    "path.add_module(\"EventInfoSetter\", evtNumList=[5000])\n",
    "\n",
    "path.add_module('Gearbox', override=[\n",
    "    (\"/Global/length\", \"20\", \"m\"),\n",
    "    (\"/Global/width\", \"20\", \"m\"),\n",
    "    (\"/Global/height\", \"9\", \"m\")]\n",
    ")\n",
    "path.add_module(\"Geometry\", components=[\"CDC\"])\n",
    "\n",
    "add_cdc_cr_simulation(path, empty_path=basf2.create_path(), topInCounter=False)\n",
    "\n",
    "path.add_module(\"RootOutput\", outputFileName=\"simulated_cosmics.root\")\n",
    "\n",
    "calculation = handler.process(path)"
   ]
  },
  {
   "cell_type": "code",
   "execution_count": null,
   "metadata": {
    "collapsed": false
   },
   "outputs": [],
   "source": [
    "calculation.start()\n",
    "calculation.wait_for_end()"
   ]
  },
  {
   "cell_type": "markdown",
   "metadata": {},
   "source": [
    "# Analyse the created cosmic events"
   ]
  },
  {
   "cell_type": "code",
   "execution_count": null,
   "metadata": {
    "collapsed": true
   },
   "outputs": [],
   "source": [
    "import basf2\n",
    "import tracking\n",
    "\n",
    "from tracking.harvesting_validation.combined_module import CombinedTrackingValidationModule\n",
    "\n",
    "from trackfindingcdc.cdcdisplay import CDCSVGDisplayModule"
   ]
  },
  {
   "cell_type": "code",
   "execution_count": null,
   "metadata": {
    "collapsed": false
   },
   "outputs": [],
   "source": [
    "import os \n",
    "try:\n",
    "    os.mkdir(\"results\")\n",
    "except OSError:\n",
    "    pass\n",
    "\n",
    "def create_path(merge):\n",
    "    output_file = f\"results/validation_cosmics_{merge}.root\"\n",
    "    \n",
    "    if os.path.exists(output_file):\n",
    "        return {\"path\": None}\n",
    "    \n",
    "    path = basf2.create_path()\n",
    "    \n",
    "    path.add_module(\"RootInput\", inputFileName=\"simulated_cosmics.root\")\n",
    "\n",
    "    path.add_module('Gearbox', override=[\n",
    "        (\"/Global/length\", \"20\", \"m\"),\n",
    "        (\"/Global/width\", \"20\", \"m\"),\n",
    "        (\"/Global/height\", \"9\", \"m\")]\n",
    "    )\n",
    "    path.add_module(\"Geometry\", components=[\"CDC\"])\n",
    "    \n",
    "    tracking.add_cdc_cr_track_finding(path, merge_tracks=merge)\n",
    "    \n",
    "    display_module = CDCSVGDisplayModule(output_folder=f\"pictures_{merge}\", interactive=False)\n",
    "    display_module.draw_recotracks = True\n",
    "    path.add_module(display_module)\n",
    "    \n",
    "    tracking.add_mc_matcher(path)\n",
    "    \n",
    "    path.add_module(CombinedTrackingValidationModule(expert_level=200, output_file_name=output_file, name=\"\", contact=\".\"))\n",
    "    \n",
    "    return {\"path\": path}\n",
    "\n",
    "calculation = handler.process_parameter_space(create_path, merge=[True, False])\n"
   ]
  },
  {
   "cell_type": "code",
   "execution_count": null,
   "metadata": {
    "collapsed": false
   },
   "outputs": [],
   "source": [
    "calculation.start()\n",
    "calculation.wait_for_end()"
   ]
  },
  {
   "cell_type": "code",
   "execution_count": null,
   "metadata": {
    "collapsed": false
   },
   "outputs": [],
   "source": [
    "hists = [\"MCSideTrackingValidationModule_overview_figures_of_merit\", \"PRSideTrackingValidationModule_overview_figures_of_merit\"]"
   ]
  },
  {
   "cell_type": "code",
   "execution_count": null,
   "metadata": {
    "collapsed": false
   },
   "outputs": [],
   "source": [
    "import uproot\n",
    "df = uproot.concatenate([f\"results/validation_cosmics_True.root:{hist}\" for hist in hists], library=\"pd\", axis=1)"
   ]
  },
  {
   "cell_type": "code",
   "execution_count": null,
   "metadata": {
    "collapsed": false
   },
   "outputs": [],
   "source": [
    "df = uproot.concatenate([f\"results/validation_cosmics_False.root:{hist}\" for hist in hists], library=\"pd\", axis=1)"
   ]
  }
 ],
 "metadata": {
  "kernelspec": {
   "display_name": "Python 3 (Belle2)",
   "language": "python",
   "name": "python3"
  },
  "language_info": {
   "codemirror_mode": {
    "name": "ipython",
    "version": 3
   },
   "file_extension": ".py",
   "mimetype": "text/x-python",
   "name": "python",
   "nbconvert_exporter": "python",
   "pygments_lexer": "ipython3",
   "version": "3.8.8"
  }
 },
 "nbformat": 4,
 "nbformat_minor": 2
}
